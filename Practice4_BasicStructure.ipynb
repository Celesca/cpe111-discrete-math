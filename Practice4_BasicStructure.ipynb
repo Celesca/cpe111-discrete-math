{
 "cells": [
  {
   "cell_type": "markdown",
   "metadata": {},
   "source": [
    "![AlternativeLogo-eng.png](data:image/png;base64,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)"
   ]
  },
  {
   "cell_type": "markdown",
   "metadata": {},
   "source": [
    "# CPE111/ISY202"
   ]
  },
  {
   "cell_type": "markdown",
   "metadata": {},
   "source": [
    "# Session4: Basic Structures: Sets, Functions, Sequences, Sums and Matrices\n",
    "## Topic\n",
    "- Sets\n",
    "- Set Operations\n",
    "- Functions\n",
    "- Sequences and Summations\n",
    "- Matrices"
   ]
  },
  {
   "cell_type": "markdown",
   "metadata": {},
   "source": [
    "---"
   ]
  },
  {
   "cell_type": "markdown",
   "metadata": {},
   "source": [
    "## Sets and their methods. \n",
    "A set is an unordered collection of objects.<br>\n",
    "• the students in this class <br>\n",
    "• the chairs in this room <br>\n",
    "<br>\n",
    "The objects in a set are called the elements, or members of the set. A set is said to contain its elements.\n",
    "<br>\n",
    "The notation a ∈ A denotes that a is an element of the set A.\n",
    "<br>\n",
    "If a is not a member of A, write a ∉ A\n",
    "\n",
    "*   Set เป็นประเภทข้อมูลที่ไม่มีลำดับและไม่เก็บค่าซ้ำ หมายถึง สมาชิกแต่ละตัวที่อยู่ใน set จะเป็นสมาชิกที่ไม่ซ้ำกัน (unique)\n",
    "*   Set มักถูกนำมาใช้ในการทดสอบสมาชิกและการกำจัดตัวข้อมูลที่ซ้ำ ๆ กัน\n",
    "* Set สามารถทำงานร่วมกับ operation ทางคณิตศาสตร์เช่น union, intersetion, difference ได้\n",
    "* การเริ่มต้นสร้าง set จะใช้ ฟังก์ชัน set() หรืออาจจะสร้างโดยตรงโดยใส่สมาชิกไว้ในเครื่องหมาย {} \n",
    "\n",
    "examples:\n",
    "* Set of all vowels in the English alphabet:\n",
    "V = {a,e,i,o,u}\n",
    "* Set of all odd positive integers less than 10:\n",
    "O = {1,3,5,7,9}\n",
    "* Set of all positive integers less than 100:\n",
    "S = {1,2,3,……..,99}\n",
    "* Set of all integers less than 0:\n",
    "S = {…., -3,-2,-1}\n",
    "<br>\n",
    "<br>\n",
    "__Some Important Sets__\n",
    "* $N$ = natural numbers = {0,1,2,3….}\n",
    "* $Z$ = integers = {…,-3,-2,-1,0,1,2,3,…}\n",
    "* $Z^+$ = positive integers = {1,2,3,…..}\n",
    "* $R$ = set of real numbers\n",
    "* $R^+$ = set of positive real numbers\n",
    "* $C$ = set of complex numbers.\n",
    "* $Q$ = set of rational numbers\n",
    "\n",
    "\n",
    "\n"
   ]
  },
  {
   "cell_type": "markdown",
   "metadata": {},
   "source": [
    "### Set in Python"
   ]
  },
  {
   "cell_type": "code",
   "execution_count": 1,
   "metadata": {},
   "outputs": [
    {
     "name": "stdout",
     "output_type": "stream",
     "text": [
      "{'orange', 'apple', 'banana', 'pear'}\n"
     ]
    }
   ],
   "source": [
    "basket = {'apple', 'orange', 'apple', 'pear', 'orange', 'banana'}\n",
    "print(basket)"
   ]
  },
  {
   "cell_type": "markdown",
   "metadata": {},
   "source": [
    "---"
   ]
  },
  {
   "cell_type": "markdown",
   "metadata": {},
   "source": [
    "#### Set's Method <br>\n",
    "| method | description |\n",
    "|---| ---|\n",
    "|add()| Adds an element to the set |\n",
    "|clear() |\tRemoves all the elements from the set |\n",
    "|copy()\t| Returns a copy of the set |\n",
    "|difference() |\tReturns a set containing the difference between two or more sets |\n",
    "|difference_update() |\tRemoves the items in this set that are also included in another, specified set |\n",
    "|discard()\t|\tRemove the specified item |\n",
    "|intersection()\t| Returns a set, that is the intersection of two other sets |\n",
    "|intersection_update()\t| Removes the items in this set that are not present in other, specified set(s) |\n",
    "|isdisjoint() | Returns whether two sets have a intersection or not |\n",
    "|issubset()\t| Returns whether another set contains this set or not |\n",
    "|issuperset() | Returns whether this set contains another set or not |\n",
    "|pop()\t| Removes an element from the set |\n",
    "|remove()\t| Removes the specified element |\n",
    "|symmetric_difference()\t| Returns a set with the symmetric differences of two sets |\n",
    "|symmetric_difference_update() | inserts the symmetric differences from this set and another |\n",
    "|union() | Return a set containing the union of sets |\n",
    "|update() | Update the set with the union of this set and others |\n",
    "\n",
    "https://www.w3schools.com/python/python_ref_set.asp\n",
    "\n"
   ]
  },
  {
   "cell_type": "code",
   "execution_count": 2,
   "metadata": {},
   "outputs": [
    {
     "name": "stdout",
     "output_type": "stream",
     "text": [
      "{'banana', 'orange', 'apple', 'grape', 'pear'}\n"
     ]
    }
   ],
   "source": [
    "basket.add(\"grape\")\n",
    "print(basket)"
   ]
  },
  {
   "cell_type": "code",
   "execution_count": 3,
   "metadata": {},
   "outputs": [],
   "source": [
    "newbasket = set() #use curly braces or set() function to create sets.\n",
    "#Note: to create an empty set you have to use set(), not {}; the latter creates an empty dictionary"
   ]
  },
  {
   "cell_type": "code",
   "execution_count": 4,
   "metadata": {},
   "outputs": [
    {
     "data": {
      "text/plain": [
       "dict"
      ]
     },
     "execution_count": 4,
     "metadata": {},
     "output_type": "execute_result"
    }
   ],
   "source": [
    "newbasket2 = {}\n",
    "type(newbasket2)"
   ]
  },
  {
   "cell_type": "code",
   "execution_count": 5,
   "metadata": {},
   "outputs": [
    {
     "name": "stdout",
     "output_type": "stream",
     "text": [
      "{'pineaple'}\n"
     ]
    }
   ],
   "source": [
    "newbasket.add(\"pineaple\")\n",
    "print(newbasket)"
   ]
  },
  {
   "cell_type": "code",
   "execution_count": 6,
   "metadata": {},
   "outputs": [
    {
     "name": "stdout",
     "output_type": "stream",
     "text": [
      "<class 'set'>\n",
      "{0, 1, 2}\n"
     ]
    }
   ],
   "source": [
    "A = {0 ,1, 2}\n",
    "print(type(A))\n",
    "print(A)"
   ]
  },
  {
   "cell_type": "code",
   "execution_count": 7,
   "metadata": {},
   "outputs": [
    {
     "name": "stdout",
     "output_type": "stream",
     "text": [
      "<class 'set'>\n",
      "{1, 2, 3, 4}\n"
     ]
    }
   ],
   "source": [
    "B = {1, 3, 2, 4}\n",
    "print(type(B))\n",
    "print(B)"
   ]
  },
  {
   "cell_type": "code",
   "execution_count": 8,
   "metadata": {},
   "outputs": [
    {
     "name": "stdout",
     "output_type": "stream",
     "text": [
      "{0, 1, 2, 6}\n"
     ]
    }
   ],
   "source": [
    "A.add(6)\n",
    "print(A)"
   ]
  },
  {
   "cell_type": "markdown",
   "metadata": {},
   "source": [
    "__Set Equality:__ <br>\n",
    "Two sets are equal if and only if they have the same elements.<br>\n",
    "• Therefore if 𝐴 and 𝐵 are sets, then A and B are equal if and only if ∀𝑥(𝑥 ∈ 𝐴 ↔ 𝑥 ∈ 𝐵).<br>\n",
    "• We write 𝐴 = 𝐵 if 𝐴 and 𝐵 are equal sets. <br>\n",
    "{1, 3, 5} = {3, 5, 1} <br>\n",
    "{1, 5, 5, 5, 3, 3, 1} = {1, 3, 5} <br>"
   ]
  },
  {
   "cell_type": "code",
   "execution_count": 9,
   "metadata": {},
   "outputs": [
    {
     "data": {
      "text/plain": [
       "False"
      ]
     },
     "execution_count": 9,
     "metadata": {},
     "output_type": "execute_result"
    }
   ],
   "source": [
    "A == B"
   ]
  },
  {
   "cell_type": "code",
   "execution_count": 10,
   "metadata": {},
   "outputs": [
    {
     "data": {
      "text/plain": [
       "{0, 6}"
      ]
     },
     "execution_count": 10,
     "metadata": {},
     "output_type": "execute_result"
    }
   ],
   "source": [
    "A.difference(B)"
   ]
  },
  {
   "cell_type": "markdown",
   "metadata": {},
   "source": [
    "__The empty set__ is the set with no elements. Symbolized ∅, but {} also used. <br>\n",
    "however, for python {} does not mean `the empty set` but means `the empty dictionary`"
   ]
  },
  {
   "cell_type": "code",
   "execution_count": 11,
   "metadata": {},
   "outputs": [
    {
     "name": "stdout",
     "output_type": "stream",
     "text": [
      "set()\n"
     ]
    }
   ],
   "source": [
    "E = set()\n",
    "print(E)"
   ]
  },
  {
   "cell_type": "markdown",
   "metadata": {},
   "source": [
    " __Subsets__ <br>\n",
    "* Definition: The set 𝐴 is a subset of 𝐵, and 𝐵 is a superset of 𝐴, if and only if every element of 𝐴 is also an element of 𝐵. <br>\n",
    "* The notation 𝐴 ⊆ 𝐵 is used to indicate that 𝐴 is a subset of the set 𝐵. <br>\n",
    "* 𝐴 ⊆ 𝐵 holds if and only if ∀𝑥(𝑥 ∈ 𝐴 → 𝑥 ∈ 𝐵) is true. <br>\n",
    "* Because 𝑎 ∈ ∅ is always false, ∅ ⊆ 𝑆 ,for every set 𝑆. <br>\n",
    "* Because 𝑎 ∈ 𝑆 → 𝑎 ∈ 𝑆, 𝑆 ⊆ 𝑆, for every set 𝑆. <br>"
   ]
  },
  {
   "cell_type": "markdown",
   "metadata": {},
   "source": [
    "---"
   ]
  },
  {
   "cell_type": "markdown",
   "metadata": {},
   "source": [
    "`Practice`\n",
    "Use python code to find <br>\n",
    "<br>\n",
    "Example: 𝑈 = {0,1,2,3,4,5,6,7,8,9,10} , 𝐴 = {1,2,3,4,5}, 𝐵 = {4,5,6,7,8}\n",
    "1. $𝐴 ∪ 𝐵$"
   ]
  },
  {
   "cell_type": "code",
   "execution_count": 21,
   "metadata": {},
   "outputs": [],
   "source": [
    "A = {1,2,3,4,5}\n",
    "B = {4,5,6,7,8}"
   ]
  },
  {
   "cell_type": "code",
   "execution_count": 22,
   "metadata": {},
   "outputs": [
    {
     "data": {
      "text/plain": [
       "{1, 2, 3, 4, 5, 6, 7, 8}"
      ]
     },
     "execution_count": 22,
     "metadata": {},
     "output_type": "execute_result"
    }
   ],
   "source": [
    "A.union(B)"
   ]
  },
  {
   "cell_type": "markdown",
   "metadata": {},
   "source": [
    "2. $𝐴 ∩ 𝐵$"
   ]
  },
  {
   "cell_type": "code",
   "execution_count": 23,
   "metadata": {},
   "outputs": [
    {
     "data": {
      "text/plain": [
       "{4, 5}"
      ]
     },
     "execution_count": 23,
     "metadata": {},
     "output_type": "execute_result"
    }
   ],
   "source": [
    "A.intersection(B)"
   ]
  },
  {
   "cell_type": "markdown",
   "metadata": {},
   "source": [
    "3. $\\bar {𝐴}$"
   ]
  },
  {
   "cell_type": "code",
   "execution_count": 24,
   "metadata": {},
   "outputs": [
    {
     "data": {
      "text/plain": [
       "{0, 6, 7, 8, 9, 10}"
      ]
     },
     "execution_count": 24,
     "metadata": {},
     "output_type": "execute_result"
    }
   ],
   "source": [
    "U = {0,1,2,3,4,5,6,7,8,9,10}\n",
    "U - A"
   ]
  },
  {
   "cell_type": "markdown",
   "metadata": {},
   "source": [
    "4. $\\bar {𝐵}$"
   ]
  },
  {
   "cell_type": "code",
   "execution_count": 25,
   "metadata": {},
   "outputs": [
    {
     "data": {
      "text/plain": [
       "{0, 1, 2, 3, 9, 10}"
      ]
     },
     "execution_count": 25,
     "metadata": {},
     "output_type": "execute_result"
    }
   ],
   "source": [
    "U-B"
   ]
  },
  {
   "cell_type": "markdown",
   "metadata": {},
   "source": [
    "5. $𝐴 − 𝐵$"
   ]
  },
  {
   "cell_type": "code",
   "execution_count": 26,
   "metadata": {},
   "outputs": [
    {
     "data": {
      "text/plain": [
       "{1, 2, 3}"
      ]
     },
     "execution_count": 26,
     "metadata": {},
     "output_type": "execute_result"
    }
   ],
   "source": [
    "A-B"
   ]
  },
  {
   "cell_type": "markdown",
   "metadata": {},
   "source": [
    "$𝐵 − 𝐴$"
   ]
  },
  {
   "cell_type": "code",
   "execution_count": 27,
   "metadata": {},
   "outputs": [
    {
     "data": {
      "text/plain": [
       "{6, 7, 8}"
      ]
     },
     "execution_count": 27,
     "metadata": {},
     "output_type": "execute_result"
    }
   ],
   "source": [
    "B-A"
   ]
  },
  {
   "cell_type": "markdown",
   "metadata": {},
   "source": [
    "---"
   ]
  },
  {
   "cell_type": "markdown",
   "metadata": {},
   "source": [
    "__Set-Builder Notation__ <br>\n",
    "* Specify the property or properties that all members must satisfy: <br>\n",
    "S = {x | x is a positive integer less than 100} <br>\n",
    "O = {x | x is an odd positive integer less than 10} <br>\n",
    "O = {x ∈ Z⁺ | x is odd and x < 10} <br>\n",
    "* A predicate may be used: <br>\n",
    "S = {x | P(x)} <br>\n",
    "* Example: S = {x | Prime(x)} <br>\n",
    "* Positive rational numbers: <br>\n",
    "Q⁺ = {x ∈ R | x = p/q, for some positive integers p,q} <br>"
   ]
  },
  {
   "cell_type": "markdown",
   "metadata": {},
   "source": [
    "__Interval Notation__ <br>\n",
    "[a,b] = {x | a ≤ x ≤ b} <br>\n",
    "[a,b) = {x | a ≤ x < b} <br>\n",
    "(a,b] = {x | a < x ≤ b} <br>\n",
    "(a,b) = {x | a < x < b} <br>\n",
    "* closed interval [a,b] <br>\n",
    "* open interval (a,b) <br>"
   ]
  },
  {
   "cell_type": "markdown",
   "metadata": {},
   "source": [
    "---"
   ]
  },
  {
   "cell_type": "markdown",
   "metadata": {},
   "source": [
    "__Example__ Use List Comprehension to create a set"
   ]
  },
  {
   "cell_type": "code",
   "execution_count": 28,
   "metadata": {},
   "outputs": [
    {
     "data": {
      "text/plain": [
       "{0, 1, 2, 3, 4, 5, 6, 7, 8, 9}"
      ]
     },
     "execution_count": 28,
     "metadata": {},
     "output_type": "execute_result"
    }
   ],
   "source": [
    "# Example \"List Comprehension\"\n",
    "A = [i for i in range(10)]\n",
    "set(A)"
   ]
  },
  {
   "cell_type": "markdown",
   "metadata": {},
   "source": [
    "`Practice` <br>\n",
    "Create set of <br>\n",
    "* [a,b] = {x | a ≤ x ≤ b} <br>\n",
    "when a = 2, b = 15"
   ]
  },
  {
   "cell_type": "code",
   "execution_count": 30,
   "metadata": {},
   "outputs": [
    {
     "data": {
      "text/plain": [
       "{2, 3, 4, 5, 6, 7, 8, 9, 10, 11, 12, 13, 14, 15}"
      ]
     },
     "execution_count": 30,
     "metadata": {},
     "output_type": "execute_result"
    }
   ],
   "source": [
    "x = [i for i in range(2,16)]\n",
    "set(x)"
   ]
  },
  {
   "cell_type": "markdown",
   "metadata": {},
   "source": [
    "Create set of <br>\n",
    "* number from text = \"Ihave1wordand1anotherword2but3nextday0one456lastone333\"\n",
    "#hint use isdigit()"
   ]
  },
  {
   "cell_type": "code",
   "execution_count": 33,
   "metadata": {},
   "outputs": [
    {
     "data": {
      "text/plain": [
       "{0, 1, 2, 3, 4, 5, 6}"
      ]
     },
     "execution_count": 33,
     "metadata": {},
     "output_type": "execute_result"
    }
   ],
   "source": [
    "text = \"Ihave1wordand1anotherword2but3nextday0one456lastone333\"\n",
    "number_list = []\n",
    "for element in text:\n",
    "    if element.isdigit():\n",
    "        number_list.append(int(element))\n",
    "\n",
    "set(number_list)\n"
   ]
  },
  {
   "cell_type": "markdown",
   "metadata": {},
   "source": [
    "Create set of \n",
    "* x from 1 to 20 but not in {2, 3, 5, 7, 11, 13, 17, 19}"
   ]
  },
  {
   "cell_type": "code",
   "execution_count": 31,
   "metadata": {},
   "outputs": [
    {
     "data": {
      "text/plain": [
       "{1, 4, 6, 8, 9, 10, 12, 14, 15, 16, 18, 20}"
      ]
     },
     "execution_count": 31,
     "metadata": {},
     "output_type": "execute_result"
    }
   ],
   "source": [
    "prime_number = {2,3,5,7,11,13,17,19}\n",
    "x = [i for i in range(1,21)]\n",
    "set(x) - prime_number"
   ]
  },
  {
   "cell_type": "markdown",
   "metadata": {},
   "source": [
    "Create set of \n",
    "* x from 1 to 100 but except (x mod 3) == 0"
   ]
  },
  {
   "cell_type": "code",
   "execution_count": 36,
   "metadata": {},
   "outputs": [
    {
     "data": {
      "text/plain": [
       "{1,\n",
       " 2,\n",
       " 4,\n",
       " 5,\n",
       " 7,\n",
       " 8,\n",
       " 10,\n",
       " 11,\n",
       " 13,\n",
       " 14,\n",
       " 16,\n",
       " 17,\n",
       " 19,\n",
       " 20,\n",
       " 22,\n",
       " 23,\n",
       " 25,\n",
       " 26,\n",
       " 28,\n",
       " 29,\n",
       " 31,\n",
       " 32,\n",
       " 34,\n",
       " 35,\n",
       " 37,\n",
       " 38,\n",
       " 40,\n",
       " 41,\n",
       " 43,\n",
       " 44,\n",
       " 46,\n",
       " 47,\n",
       " 49,\n",
       " 50,\n",
       " 52,\n",
       " 53,\n",
       " 55,\n",
       " 56,\n",
       " 58,\n",
       " 59,\n",
       " 61,\n",
       " 62,\n",
       " 64,\n",
       " 65,\n",
       " 67,\n",
       " 68,\n",
       " 70,\n",
       " 71,\n",
       " 73,\n",
       " 74,\n",
       " 76,\n",
       " 77,\n",
       " 79,\n",
       " 80,\n",
       " 82,\n",
       " 83,\n",
       " 85,\n",
       " 86,\n",
       " 88,\n",
       " 89,\n",
       " 91,\n",
       " 92,\n",
       " 94,\n",
       " 95,\n",
       " 97,\n",
       " 98}"
      ]
     },
     "execution_count": 36,
     "metadata": {},
     "output_type": "execute_result"
    }
   ],
   "source": [
    "newList = []\n",
    "for i in range(1,101):\n",
    "    if (i % 3 != 0):\n",
    "        newList.append(i)\n",
    "set(newList)\n"
   ]
  },
  {
   "cell_type": "markdown",
   "metadata": {},
   "source": [
    "---"
   ]
  },
  {
   "cell_type": "markdown",
   "metadata": {},
   "source": [
    "__Cartesian Product__\n",
    "* The ordered n-tuple $(a_1,a_2,…..,a_n)$ is the ordered collection that has $a_1$ as its first element and $a_2$ as its second element and so on until an as its last element. <br>\n",
    "* Two n-tuples are equal if and only if their corresponding elements are equal. <br>\n",
    "* 2-tuples are called `ordered pairs`.<br>\n",
    "* The ordered pairs $(a,b)$ and $(c,d)$ are equal if and only if $a = c$ and $b = d$\n",
    "<br>\n",
    "<br>\n",
    "\n",
    "__Definition:__ <br> \n",
    "The Cartesian Product of two sets $A$ and $B$, denoted by $A × B$ is the set of ordered pairs $(a,b)$ <br>\n",
    "where $a ∈ A$ and $b ∈ B$ <br>\n",
    "\n",
    "$A × B = ${$(a,b) | a ∈ A ∧ b ∈ B$}"
   ]
  },
  {
   "cell_type": "markdown",
   "metadata": {},
   "source": [
    "__Example:__ the Cartesian product by using itertools - product function"
   ]
  },
  {
   "cell_type": "code",
   "execution_count": 34,
   "metadata": {},
   "outputs": [
    {
     "name": "stdout",
     "output_type": "stream",
     "text": [
      "<itertools.product object at 0x000001E1BA223100>\n"
     ]
    }
   ],
   "source": [
    "from itertools import product\n",
    "\n",
    "# Define the sets\n",
    "set_A = {1, 2}\n",
    "set_B = {'a', 'b'}\n",
    "\n",
    "# Calculate the Cartesian product of two sets\n",
    "cartesian_product = product(set_A, set_B)\n",
    "\n",
    "print(cartesian_product)\n"
   ]
  },
  {
   "cell_type": "code",
   "execution_count": 35,
   "metadata": {},
   "outputs": [
    {
     "name": "stdout",
     "output_type": "stream",
     "text": [
      "(1, 'b')\n",
      "(1, 'a')\n",
      "(2, 'b')\n",
      "(2, 'a')\n"
     ]
    }
   ],
   "source": [
    "for pair in cartesian_product:\n",
    "    print(pair)"
   ]
  },
  {
   "cell_type": "markdown",
   "metadata": {},
   "source": [
    "__Example:__ the Cartesian product by using list comprehension"
   ]
  },
  {
   "cell_type": "code",
   "execution_count": 37,
   "metadata": {},
   "outputs": [
    {
     "name": "stdout",
     "output_type": "stream",
     "text": [
      "{(1, 'a', 'x'), (2, 'a', 'y'), (1, 'b', 'y'), (2, 'a', 'z'), (1, 'b', 'z'), (2, 'b', 'y'), (2, 'b', 'z'), (2, 'a', 'x'), (1, 'b', 'x'), (1, 'a', 'y'), (1, 'a', 'z'), (2, 'b', 'x')}\n"
     ]
    }
   ],
   "source": [
    "set_A = {1, 2}\n",
    "set_B = {'a', 'b'}\n",
    "set_C = {'x', 'y', 'z'}\n",
    "cartesian_product = [(a, b, c) for a in set_A for b in set_B for c in set_C]\n",
    "cartesian_product = set(cartesian_product)\n",
    "\n",
    "print(cartesian_product)"
   ]
  },
  {
   "cell_type": "markdown",
   "metadata": {},
   "source": [
    "__Example:__ the Cartesian product by using set and loop"
   ]
  },
  {
   "cell_type": "code",
   "execution_count": 38,
   "metadata": {},
   "outputs": [
    {
     "name": "stdout",
     "output_type": "stream",
     "text": [
      "{(2, 'c'), (2, 'b'), (2, 'a'), (1, 'c'), (1, 'b'), (1, 'a')}\n"
     ]
    }
   ],
   "source": [
    "set_A = {1, 2}\n",
    "set_B = {'a', 'b', 'c'}\n",
    "\n",
    "cartesian_product = set()\n",
    "for a in set_A:\n",
    "    for b in set_B:\n",
    "        cartesian_product.add((a,b))\n",
    "\n",
    "print(cartesian_product)\n"
   ]
  },
  {
   "cell_type": "markdown",
   "metadata": {},
   "source": [
    "`Practice:`Student representatives. <br>\n",
    "In class, a teacher try to choose the students from each department e.g.; ME, CPE, ISE to be student representatives <br>\n",
    "How many possible the can create a set of represetatives from the students <br>\n",
    "and show all possible cases"
   ]
  },
  {
   "cell_type": "code",
   "execution_count": 39,
   "metadata": {},
   "outputs": [],
   "source": [
    "ME_students = {\"Suwan\", \"Nattida\",\"Orawan\",\"Chalita\",\"Narongpon\",\"Utai\",\"Preecha\"}\n",
    "CPE_students = {\"Prani\",\"Thidanant\",\"Warisa\",\"Ratchanont\",\"Surasak\",\"Wirapong\",\"Anantapong\"}\n",
    "ISE_students = {\"Supachai\",\"Suriya\",\"Chanathip\",\"Orawan\",\"Thaweesak\",\"Wittawat\",\"Warisa\",\"Nattda\"}"
   ]
  },
  {
   "cell_type": "code",
   "execution_count": 43,
   "metadata": {},
   "outputs": [
    {
     "name": "stdout",
     "output_type": "stream",
     "text": [
      "{('Narongpon', 'Ratchanont', 'Orawan'), ('Suwan', 'Ratchanont', 'Nattda'), ('Narongpon', 'Anantapong', 'Orawan'), ('Orawan', 'Surasak', 'Thaweesak'), ('Orawan', 'Thidanant', 'Thaweesak'), ('Narongpon', 'Surasak', 'Nattda'), ('Chalita', 'Warisa', 'Chanathip'), ('Utai', 'Warisa', 'Nattda'), ('Nattida', 'Thidanant', 'Warisa'), ('Narongpon', 'Prani', 'Supachai'), ('Orawan', 'Anantapong', 'Warisa'), ('Narongpon', 'Wirapong', 'Supachai'), ('Orawan', 'Warisa', 'Orawan'), ('Utai', 'Thidanant', 'Thaweesak'), ('Preecha', 'Wirapong', 'Warisa'), ('Narongpon', 'Anantapong', 'Nattda'), ('Utai', 'Surasak', 'Warisa'), ('Nattida', 'Surasak', 'Warisa'), ('Nattida', 'Thidanant', 'Wittawat'), ('Chalita', 'Anantapong', 'Thaweesak'), ('Nattida', 'Anantapong', 'Warisa'), ('Suwan', 'Thidanant', 'Nattda'), ('Preecha', 'Prani', 'Thaweesak'), ('Utai', 'Ratchanont', 'Warisa'), ('Nattida', 'Thidanant', 'Suriya'), ('Nattida', 'Surasak', 'Wittawat'), ('Orawan', 'Anantapong', 'Suriya'), ('Orawan', 'Warisa', 'Nattda'), ('Suwan', 'Anantapong', 'Nattda'), ('Suwan', 'Prani', 'Chanathip'), ('Utai', 'Ratchanont', 'Wittawat'), ('Nattida', 'Ratchanont', 'Wittawat'), ('Preecha', 'Wirapong', 'Suriya'), ('Utai', 'Surasak', 'Suriya'), ('Nattida', 'Surasak', 'Suriya'), ('Nattida', 'Wirapong', 'Chanathip'), ('Nattida', 'Anantapong', 'Suriya'), ('Preecha', 'Warisa', 'Chanathip'), ('Orawan', 'Surasak', 'Warisa'), ('Utai', 'Ratchanont', 'Suriya'), ('Suwan', 'Surasak', 'Thaweesak'), ('Utai', 'Thidanant', 'Warisa'), ('Orawan', 'Surasak', 'Wittawat'), ('Orawan', 'Thidanant', 'Wittawat'), ('Nattida', 'Wirapong', 'Orawan'), ('Chalita', 'Thidanant', 'Wittawat'), ('Chalita', 'Anantapong', 'Warisa'), ('Suwan', 'Ratchanont', 'Thaweesak'), ('Orawan', 'Ratchanont', 'Wittawat'), ('Preecha', 'Prani', 'Warisa'), ('Orawan', 'Surasak', 'Suriya'), ('Orawan', 'Thidanant', 'Suriya'), ('Utai', 'Thidanant', 'Wittawat'), ('Suwan', 'Anantapong', 'Supachai'), ('Chalita', 'Anantapong', 'Wittawat'), ('Orawan', 'Ratchanont', 'Suriya'), ('Narongpon', 'Surasak', 'Thaweesak'), ('Utai', 'Thidanant', 'Suriya'), ('Utai', 'Warisa', 'Thaweesak'), ('Chalita', 'Wirapong', 'Chanathip'), ('Chalita', 'Anantapong', 'Suriya'), ('Narongpon', 'Warisa', 'Orawan'), ('Preecha', 'Prani', 'Suriya'), ('Nattida', 'Prani', 'Chanathip'), ('Narongpon', 'Anantapong', 'Thaweesak'), ('Suwan', 'Thidanant', 'Thaweesak'), ('Suwan', 'Surasak', 'Warisa'), ('Suwan', 'Ratchanont', 'Warisa'), ('Orawan', 'Warisa', 'Thaweesak'), ('Nattida', 'Prani', 'Orawan'), ('Chalita', 'Surasak', 'Wittawat'), ('Utai', 'Wirapong', 'Orawan'), ('Preecha', 'Anantapong', 'Wittawat'), ('Suwan', 'Warisa', 'Orawan'), ('Orawan', 'Prani', 'Chanathip'), ('Orawan', 'Wirapong', 'Chanathip'), ('Suwan', 'Ratchanont', 'Wittawat'), ('Chalita', 'Surasak', 'Suriya'), ('Narongpon', 'Surasak', 'Warisa'), ('Suwan', 'Surasak', 'Suriya'), ('Preecha', 'Anantapong', 'Suriya'), ('Utai', 'Anantapong', 'Chanathip'), ('Utai', 'Warisa', 'Warisa'), ('Nattida', 'Surasak', 'Nattda'), ('Suwan', 'Ratchanont', 'Suriya'), ('Narongpon', 'Surasak', 'Wittawat'), ('Narongpon', 'Thidanant', 'Wittawat'), ('Nattida', 'Ratchanont', 'Nattda'), ('Utai', 'Warisa', 'Wittawat'), ('Nattida', 'Warisa', 'Wittawat'), ('Narongpon', 'Anantapong', 'Warisa'), ('Orawan', 'Prani', 'Orawan'), ('Suwan', 'Warisa', 'Nattda'), ('Orawan', 'Wirapong', 'Orawan'), ('Suwan', 'Thidanant', 'Warisa'), ('Narongpon', 'Ratchanont', 'Wittawat'), ('Preecha', 'Ratchanont', 'Orawan'), ('Narongpon', 'Surasak', 'Suriya'), ('Narongpon', 'Thidanant', 'Suriya'), ('Utai', 'Warisa', 'Suriya'), ('Nattida', 'Warisa', 'Suriya'), ('Narongpon', 'Anantapong', 'Wittawat'), ('Utai', 'Prani', 'Orawan'), ('Suwan', 'Thidanant', 'Wittawat'), ('Orawan', 'Warisa', 'Warisa'), ('Nattida', 'Thidanant', 'Supachai'), ('Suwan', 'Anantapong', 'Warisa'), ('Orawan', 'Thidanant', 'Nattda'), ('Preecha', 'Surasak', 'Nattda'), ('Chalita', 'Thidanant', 'Nattda'), ('Narongpon', 'Anantapong', 'Suriya'), ('Suwan', 'Thidanant', 'Suriya'), ('Orawan', 'Ratchanont', 'Nattda'), ('Orawan', 'Warisa', 'Wittawat'), ('Nattida', 'Surasak', 'Supachai'), ('Nattida', 'Anantapong', 'Supachai'), ('Chalita', 'Prani', 'Chanathip'), ('Utai', 'Prani', 'Nattda'), ('Utai', 'Ratchanont', 'Supachai'), ('Preecha', 'Thidanant', 'Orawan'), ('Suwan', 'Wirapong', 'Chanathip'), ('Orawan', 'Warisa', 'Suriya'), ('Orawan', 'Surasak', 'Supachai'), ('Orawan', 'Thidanant', 'Supachai'), ('Suwan', 'Wirapong', 'Orawan'), ('Chalita', 'Ratchanont', 'Orawan'), ('Narongpon', 'Prani', 'Chanathip'), ('Narongpon', 'Wirapong', 'Chanathip'), ('Preecha', 'Thidanant', 'Nattda'), ('Orawan', 'Ratchanont', 'Supachai'), ('Utai', 'Thidanant', 'Supachai'), ('Chalita', 'Anantapong', 'Supachai'), ('Chalita', 'Surasak', 'Nattda'), ('Preecha', 'Anantapong', 'Nattda'), ('Nattida', 'Ratchanont', 'Thaweesak'), ('Preecha', 'Prani', 'Supachai'), ('Narongpon', 'Prani', 'Orawan'), ('Suwan', 'Warisa', 'Thaweesak'), ('Chalita', 'Ratchanont', 'Nattda'), ('Narongpon', 'Thidanant', 'Nattda'), ('Preecha', 'Surasak', 'Thaweesak'), ('Chalita', 'Thidanant', 'Thaweesak'), ('Nattida', 'Warisa', 'Nattda'), ('Orawan', 'Ratchanont', 'Thaweesak'), ('Narongpon', 'Ratchanont', 'Nattda'), ('Narongpon', 'Warisa', 'Wittawat'), ('Preecha', 'Ratchanont', 'Thaweesak'), ('Chalita', 'Surasak', 'Supachai'), ('Suwan', 'Surasak', 'Supachai'), ('Utai', 'Prani', 'Thaweesak'), ('Preecha', 'Anantapong', 'Supachai'), ('Narongpon', 'Warisa', 'Suriya'), ('Chalita', 'Warisa', 'Orawan'), ('Suwan', 'Ratchanont', 'Supachai'), ('Nattida', 'Ratchanont', 'Warisa'), ('Suwan', 'Anantapong', 'Chanathip'), ('Suwan', 'Warisa', 'Warisa'), ('Utai', 'Wirapong', 'Wittawat'), ('Narongpon', 'Surasak', 'Supachai'), ('Narongpon', 'Thidanant', 'Supachai'), ('Suwan', 'Warisa', 'Wittawat'), ('Utai', 'Warisa', 'Supachai'), ('Nattida', 'Warisa', 'Supachai'), ('Preecha', 'Thidanant', 'Thaweesak'), ('Orawan', 'Thidanant', 'Warisa'), ('Utai', 'Wirapong', 'Suriya'), ('Chalita', 'Warisa', 'Nattda'), ('Chalita', 'Thidanant', 'Warisa'), ('Narongpon', 'Ratchanont', 'Supachai'), ('Preecha', 'Surasak', 'Warisa'), ('Nattida', 'Ratchanont', 'Suriya'), ('Suwan', 'Warisa', 'Suriya'), ('Suwan', 'Prani', 'Orawan'), ('Narongpon', 'Anantapong', 'Supachai'), ('Orawan', 'Ratchanont', 'Warisa'), ('Chalita', 'Surasak', 'Thaweesak'), ('Preecha', 'Ratchanont', 'Warisa'), ('Suwan', 'Thidanant', 'Supachai'), ('Preecha', 'Anantapong', 'Thaweesak'), ('Preecha', 'Surasak', 'Wittawat'), ('Utai', 'Prani', 'Warisa'), ('Orawan', 'Prani', 'Wittawat'), ('Preecha', 'Warisa', 'Orawan'), ('Chalita', 'Ratchanont', 'Thaweesak'), ('Preecha', 'Ratchanont', 'Wittawat'), ('Orawan', 'Warisa', 'Supachai'), ('Preecha', 'Surasak', 'Suriya'), ('Chalita', 'Thidanant', 'Suriya'), ('Utai', 'Prani', 'Wittawat'), ('Narongpon', 'Thidanant', 'Thaweesak'), ('Preecha', 'Ratchanont', 'Suriya'), ('Nattida', 'Warisa', 'Thaweesak'), ('Nattida', 'Wirapong', 'Nattda'), ('Utai', 'Prani', 'Suriya'), ('Narongpon', 'Ratchanont', 'Thaweesak'), ('Preecha', 'Thidanant', 'Warisa'), ('Preecha', 'Thidanant', 'Wittawat'), ('Chalita', 'Surasak', 'Warisa'), ('Preecha', 'Anantapong', 'Warisa'), ('Chalita', 'Wirapong', 'Orawan'), ('Chalita', 'Ratchanont', 'Warisa'), ('Narongpon', 'Warisa', 'Nattda'), ('Preecha', 'Thidanant', 'Suriya'), ('Nattida', 'Thidanant', 'Chanathip'), ('Orawan', 'Anantapong', 'Chanathip'), ('Suwan', 'Wirapong', 'Wittawat'), ('Chalita', 'Ratchanont', 'Wittawat'), ('Preecha', 'Wirapong', 'Chanathip'), ('Narongpon', 'Thidanant', 'Warisa'), ('Utai', 'Surasak', 'Chanathip'), ('Nattida', 'Surasak', 'Chanathip'), ('Chalita', 'Warisa', 'Thaweesak'), ('Nattida', 'Anantapong', 'Chanathip'), ('Nattida', 'Warisa', 'Warisa'), ('Suwan', 'Wirapong', 'Suriya'), ('Chalita', 'Ratchanont', 'Suriya'), ('Narongpon', 'Ratchanont', 'Warisa'), ('Utai', 'Ratchanont', 'Chanathip'), ('Orawan', 'Anantapong', 'Orawan'), ('Nattida', 'Prani', 'Nattda'), ('Utai', 'Wirapong', 'Nattda'), ('Preecha', 'Wirapong', 'Orawan'), ('Utai', 'Surasak', 'Orawan'), ('Utai', 'Anantapong', 'Orawan'), ('Nattida', 'Anantapong', 'Orawan'), ('Narongpon', 'Warisa', 'Supachai'), ('Orawan', 'Surasak', 'Chanathip'), ('Orawan', 'Thidanant', 'Chanathip'), ('Suwan', 'Prani', 'Thaweesak'), ('Narongpon', 'Ratchanont', 'Suriya'), ('Nattida', 'Wirapong', 'Thaweesak'), ('Orawan', 'Ratchanont', 'Chanathip'), ('Orawan', 'Prani', 'Nattda'), ('Orawan', 'Wirapong', 'Nattda'), ('Utai', 'Thidanant', 'Chanathip'), ('Preecha', 'Warisa', 'Thaweesak'), ('Preecha', 'Ratchanont', 'Nattda'), ('Chalita', 'Anantapong', 'Chanathip'), ('Chalita', 'Warisa', 'Warisa'), ('Utai', 'Anantapong', 'Nattda'), ('Orawan', 'Surasak', 'Orawan'), ('Utai', 'Wirapong', 'Supachai'), ('Preecha', 'Prani', 'Chanathip'), ('Nattida', 'Ratchanont', 'Supachai'), ('Suwan', 'Warisa', 'Supachai'), ('Chalita', 'Warisa', 'Wittawat'), ('Utai', 'Thidanant', 'Orawan'), ('Narongpon', 'Warisa', 'Thaweesak'), ('Chalita', 'Warisa', 'Suriya'), ('Preecha', 'Prani', 'Orawan'), ('Chalita', 'Prani', 'Orawan'), ('Preecha', 'Surasak', 'Supachai'), ('Chalita', 'Thidanant', 'Supachai'), ('Orawan', 'Prani', 'Supachai'), ('Chalita', 'Wirapong', 'Thaweesak'), ('Nattida', 'Wirapong', 'Warisa'), ('Preecha', 'Ratchanont', 'Supachai'), ('Suwan', 'Surasak', 'Chanathip'), ('Preecha', 'Anantapong', 'Chanathip'), ('Preecha', 'Warisa', 'Warisa'), ('Suwan', 'Prani', 'Wittawat'), ('Nattida', 'Prani', 'Thaweesak'), ('Utai', 'Prani', 'Supachai'), ('Utai', 'Wirapong', 'Thaweesak'), ('Suwan', 'Ratchanont', 'Chanathip'), ('Nattida', 'Wirapong', 'Wittawat'), ('Chalita', 'Prani', 'Nattda'), ('Narongpon', 'Wirapong', 'Orawan'), ('Suwan', 'Wirapong', 'Nattda'), ('Preecha', 'Warisa', 'Wittawat'), ('Suwan', 'Prani', 'Suriya'), ('Suwan', 'Surasak', 'Orawan'), ('Nattida', 'Wirapong', 'Suriya'), ('Narongpon', 'Surasak', 'Chanathip'), ('Preecha', 'Warisa', 'Suriya'), ('Narongpon', 'Warisa', 'Warisa'), ('Utai', 'Warisa', 'Chanathip'), ('Preecha', 'Thidanant', 'Supachai'), ('Orawan', 'Prani', 'Thaweesak'), ('Narongpon', 'Prani', 'Nattda'), ('Orawan', 'Wirapong', 'Thaweesak'), ('Narongpon', 'Wirapong', 'Nattda'), ('Narongpon', 'Anantapong', 'Chanathip'), ('Utai', 'Anantapong', 'Thaweesak'), ('Suwan', 'Thidanant', 'Chanathip'), ('Utai', 'Warisa', 'Orawan'), ('Nattida', 'Prani', 'Warisa'), ('Suwan', 'Wirapong', 'Supachai'), ('Utai', 'Wirapong', 'Warisa'), ('Chalita', 'Ratchanont', 'Supachai'), ('Chalita', 'Wirapong', 'Wittawat'), ('Orawan', 'Warisa', 'Chanathip'), ('Suwan', 'Thidanant', 'Orawan'), ('Nattida', 'Prani', 'Wittawat'), ('Chalita', 'Wirapong', 'Suriya'), ('Nattida', 'Prani', 'Suriya'), ('Suwan', 'Anantapong', 'Orawan'), ('Orawan', 'Prani', 'Warisa'), ('Orawan', 'Wirapong', 'Warisa'), ('Utai', 'Anantapong', 'Warisa'), ('Orawan', 'Anantapong', 'Wittawat'), ('Chalita', 'Prani', 'Thaweesak'), ('Suwan', 'Wirapong', 'Thaweesak'), ('Orawan', 'Wirapong', 'Wittawat'), ('Preecha', 'Wirapong', 'Wittawat'), ('Utai', 'Surasak', 'Wittawat'), ('Utai', 'Anantapong', 'Wittawat'), ('Nattida', 'Anantapong', 'Wittawat'), ('Orawan', 'Prani', 'Suriya'), ('Orawan', 'Wirapong', 'Suriya'), ('Suwan', 'Prani', 'Nattda'), ('Utai', 'Anantapong', 'Suriya'), ('Narongpon', 'Prani', 'Thaweesak'), ('Chalita', 'Warisa', 'Supachai'), ('Narongpon', 'Wirapong', 'Thaweesak'), ('Preecha', 'Warisa', 'Nattda'), ('Chalita', 'Prani', 'Warisa'), ('Narongpon', 'Warisa', 'Chanathip'), ('Suwan', 'Wirapong', 'Warisa'), ('Suwan', 'Prani', 'Supachai'), ('Preecha', 'Prani', 'Wittawat'), ('Chalita', 'Prani', 'Wittawat'), ('Nattida', 'Wirapong', 'Supachai'), ('Preecha', 'Warisa', 'Supachai'), ('Chalita', 'Wirapong', 'Nattda'), ('Chalita', 'Prani', 'Suriya'), ('Narongpon', 'Prani', 'Warisa'), ('Narongpon', 'Wirapong', 'Warisa'), ('Utai', 'Wirapong', 'Chanathip'), ('Nattida', 'Thidanant', 'Orawan'), ('Nattida', 'Ratchanont', 'Chanathip'), ('Suwan', 'Warisa', 'Chanathip'), ('Narongpon', 'Prani', 'Wittawat'), ('Narongpon', 'Wirapong', 'Wittawat'), ('Nattida', 'Surasak', 'Orawan'), ('Suwan', 'Anantapong', 'Thaweesak'), ('Suwan', 'Surasak', 'Wittawat'), ('Narongpon', 'Prani', 'Suriya'), ('Utai', 'Ratchanont', 'Orawan'), ('Nattida', 'Ratchanont', 'Orawan'), ('Narongpon', 'Wirapong', 'Suriya'), ('Preecha', 'Surasak', 'Chanathip'), ('Chalita', 'Thidanant', 'Chanathip'), ('Nattida', 'Thidanant', 'Nattda'), ('Orawan', 'Anantapong', 'Nattda'), ('Preecha', 'Ratchanont', 'Chanathip'), ('Chalita', 'Wirapong', 'Supachai'), ('Preecha', 'Wirapong', 'Nattda'), ('Utai', 'Surasak', 'Nattda'), ('Nattida', 'Anantapong', 'Nattda'), ('Utai', 'Prani', 'Chanathip'), ('Nattida', 'Prani', 'Supachai'), ('Orawan', 'Thidanant', 'Orawan'), ('Preecha', 'Surasak', 'Orawan'), ('Chalita', 'Thidanant', 'Orawan'), ('Utai', 'Ratchanont', 'Nattda'), ('Orawan', 'Ratchanont', 'Orawan'), ('Chalita', 'Anantapong', 'Orawan'), ('Orawan', 'Anantapong', 'Supachai'), ('Preecha', 'Thidanant', 'Chanathip'), ('Orawan', 'Surasak', 'Nattda'), ('Suwan', 'Prani', 'Warisa'), ('Orawan', 'Wirapong', 'Supachai'), ('Preecha', 'Wirapong', 'Supachai'), ('Utai', 'Surasak', 'Supachai'), ('Suwan', 'Anantapong', 'Wittawat'), ('Utai', 'Anantapong', 'Supachai'), ('Chalita', 'Surasak', 'Chanathip'), ('Utai', 'Thidanant', 'Nattda'), ('Chalita', 'Anantapong', 'Nattda'), ('Chalita', 'Ratchanont', 'Chanathip'), ('Suwan', 'Anantapong', 'Suriya'), ('Preecha', 'Prani', 'Nattda'), ('Chalita', 'Surasak', 'Orawan'), ('Preecha', 'Anantapong', 'Orawan'), ('Narongpon', 'Thidanant', 'Chanathip'), ('Nattida', 'Thidanant', 'Thaweesak'), ('Nattida', 'Warisa', 'Chanathip'), ('Orawan', 'Anantapong', 'Thaweesak'), ('Suwan', 'Ratchanont', 'Orawan'), ('Narongpon', 'Ratchanont', 'Chanathip'), ('Preecha', 'Wirapong', 'Thaweesak'), ('Utai', 'Surasak', 'Thaweesak'), ('Nattida', 'Surasak', 'Thaweesak'), ('Nattida', 'Anantapong', 'Thaweesak'), ('Chalita', 'Wirapong', 'Warisa'), ('Narongpon', 'Surasak', 'Orawan'), ('Narongpon', 'Thidanant', 'Orawan'), ('Suwan', 'Surasak', 'Nattda'), ('Utai', 'Ratchanont', 'Thaweesak'), ('Nattida', 'Warisa', 'Orawan'), ('Chalita', 'Prani', 'Supachai')}\n",
      "Possible cases = 392\n"
     ]
    }
   ],
   "source": [
    "cartesian_product = [(a, b, c) for a in ME_students for b in CPE_students for c in ISE_students]\n",
    "cartesian_product = set(cartesian_product)\n",
    "\n",
    "print(cartesian_product)\n",
    "print(\"Possible cases =\" , len(cartesian_product))"
   ]
  },
  {
   "cell_type": "markdown",
   "metadata": {},
   "source": [
    "---"
   ]
  },
  {
   "cell_type": "markdown",
   "metadata": {},
   "source": [
    "## Functions"
   ]
  },
  {
   "cell_type": "markdown",
   "metadata": {},
   "source": [
    "__Definition:__ <br>\n",
    "Let $A$ and $B$ be non-empty sets. <br>\n",
    "A function $f$ from $A$ to $B$, denoted $f: A → B$ is an assignment of each element of $A$ to exactly one element of $B$. <br>\n",
    "We write $f(a) = b$ ; if $b$ is the unique element of $B$ assigned by the function $f$ to the element a of $A$.<br>\n",
    "\n",
    "Functions are sometimes called __mappings__ or __transformations__\n",
    "<br>\n",
    "<br>\n",
    "Given a function $f: A → B:$\n",
    "* We say $f$ maps $A$ to $B$ or $f$ is a mapping from $A$ to $B$.\n",
    "* $A$ is called the __domain__ of $f$.\n",
    "* $B$ is called the __codomain__ of $f$.\n",
    "* If $f(a) = b$,\n",
    "* then $b$ is called the __image__ of $a$ under $f$.\n",
    "* $a$ is called the __preimage__ of $b$.\n",
    "* The range of $f$ is the set of all images of points in $A$ under $f$. We denote it by $f(A)$.\n",
    "* Two functions are equal when they have the same __domain__, the same __codomain__ and map each element of the __domain__ to the same element of the __codomain__."
   ]
  },
  {
   "cell_type": "markdown",
   "metadata": {},
   "source": [
    "__Python’s dict class__ represents a dictionary, or mapping, from a set of distinct keys to associated values"
   ]
  },
  {
   "cell_type": "code",
   "execution_count": 44,
   "metadata": {},
   "outputs": [
    {
     "name": "stdout",
     "output_type": "stream",
     "text": [
      "{'a': 1, 'b': 2, 'c': 3, 'd': 4}\n"
     ]
    }
   ],
   "source": [
    "function_dict = {\n",
    "    'a': 1,\n",
    "    'b': 2,\n",
    "    'c': 3,\n",
    "    'd': 4 }\n",
    "\n",
    "print(function_dict)"
   ]
  },
  {
   "cell_type": "code",
   "execution_count": 45,
   "metadata": {},
   "outputs": [
    {
     "data": {
      "text/plain": [
       "1"
      ]
     },
     "execution_count": 45,
     "metadata": {},
     "output_type": "execute_result"
    }
   ],
   "source": [
    "function_dict[\"a\"]"
   ]
  },
  {
   "cell_type": "markdown",
   "metadata": {},
   "source": [
    "#### Dictionanry's method\n",
    "\n",
    "| __method__ | __Description__|\n",
    "| ---| --- |\n",
    "|clear() |\tRemoves all the elements from the dictionary |\n",
    "|copy()  |\tReturns a copy of the dictionary|\n",
    "|fromkeys()\t| Returns a dictionary with the specified keys and value |\n",
    "| get()\t|\tReturns the value of the specified key |\n",
    "|items() |\tReturns a list containing a tuple for each key value pair |\n",
    "|keys()\t|Returns a list containing the dictionary's keys|\n",
    "|pop()\t| Removes the element with the specified key|\n",
    "|popitem()\t| Removes the last inserted key-value pair |\n",
    "|setdefault()|\tReturns the value of the specified key. If the key does not exist:insert the key, with the specified value |\n",
    "|update()\t|Updates the dictionary with the specified key-value pairs| \n",
    "|values()\t| Returns a list of all the values in the dictionary |\n"
   ]
  },
  {
   "cell_type": "markdown",
   "metadata": {},
   "source": [
    "#### __One-to-One and Onto Functions__\n",
    "* `Injection (One-to-One)` <br>\n",
    "__Definition:__ <br>\n",
    "A function $f$ is said to be `one-to-one` , or an `injection`, if and only if $f(a) = f(b)$ implies that $a = b$ for all $a$ and $b$ in the `domain` of $f$. A function is said to be an `injective` if it is\n",
    "`one-to-one`.\n",
    "\n",
    "* `Surjection (Onto)` <br>\n",
    "__Definition:__ <br>\n",
    "A function $𝑓$ from $𝐴$ to $𝐵$ is called `onto` or `surjective`, if and only if for every element $𝑏 ∈ 𝐵$ there is an element $𝑎 ∈ 𝐴$ with $𝑓(𝑎) = 𝑏.$ A function $𝑓$ is called a `surjection` if it is `onto`\n",
    "\n",
    "* `Bijection (One-to-one and Onto)` <br>\n",
    "__Definition:__ <br>\n",
    "A function $f$ is a `one-to-one correspondence`, or a `bijection`, if it is both `one-to-one` and `onto` (`surjective` and `injective`)"
   ]
  },
  {
   "attachments": {
    "image.png": {
     "image/png": "[encoded data removed]"
    }
   },
   "cell_type": "markdown",
   "metadata": {},
   "source": [
    "![image.png](attachment:image.png)"
   ]
  },
  {
   "cell_type": "markdown",
   "metadata": {},
   "source": [
    "Suppose that $f: A → B:$ <br>\n",
    "* To show that $f$ is `injective` <br>\n",
    "Show that if $f(x) = f(y)$ for arbitary $x,y ∈ A$, then $x=y$\n",
    "* To show that $f$ is `not injective` <br> \n",
    "Find particular elements $x,y ∈ A$ such that $x \\neq y$ and $f(x) = f(y)$ \n",
    "* To show that $f$ is `surjective` <br>\n",
    "Consider an arbitrary element $y \\in B$ and find an element $x \\in A$ such that $f(x) = y$\n",
    "* To show that $f$ is `not surjective` <br>\n",
    "Find a particular $y \\in B$ such that $f(x) \\neq y$ for all $x \\in A$"
   ]
  },
  {
   "cell_type": "markdown",
   "metadata": {},
   "source": [
    "---"
   ]
  },
  {
   "cell_type": "markdown",
   "metadata": {},
   "source": [
    "__Example:__ prove the injective function"
   ]
  },
  {
   "cell_type": "code",
   "execution_count": 46,
   "metadata": {},
   "outputs": [
    {
     "name": "stdout",
     "output_type": "stream",
     "text": [
      "True\n"
     ]
    }
   ],
   "source": [
    "def is_injective(function_dict):\n",
    "    codomain_elements = set()\n",
    "    for key, value in function_dict.items():\n",
    "        if value in codomain_elements:\n",
    "            return False\n",
    "        codomain_elements.add(value)\n",
    "    return True\n",
    "function_dict = {\n",
    "    'a': 1,\n",
    "    'b': 2,\n",
    "    'c': 3,\n",
    "    'd': 4\n",
    "}\n",
    "result = is_injective(function_dict)\n",
    "print(result)"
   ]
  },
  {
   "cell_type": "markdown",
   "metadata": {},
   "source": [
    "__Example:__ Prove the surjective function"
   ]
  },
  {
   "cell_type": "code",
   "execution_count": 48,
   "metadata": {},
   "outputs": [
    {
     "name": "stdout",
     "output_type": "stream",
     "text": [
      "True\n"
     ]
    }
   ],
   "source": [
    "def is_surjective(function_dict, codomain_elements):\n",
    "    mapped_elements = set(function_dict.values())\n",
    "    for codomain_element in codomain_elements:\n",
    "        if codomain_element not in mapped_elements:\n",
    "            return False\n",
    "    return True\n",
    "\n",
    "function_dict = {\n",
    "    'a': 1,\n",
    "    'b': 2,\n",
    "    'c': 3,\n",
    "    'd': 4,\n",
    "    'e': 5\n",
    "}\n",
    "codomain_elements = [1, 2, 3, 4, 5]\n",
    "result = is_surjective(function_dict, codomain_elements)\n",
    "print(result)"
   ]
  },
  {
   "cell_type": "markdown",
   "metadata": {},
   "source": [
    "`Practice:` Write code to prove the bijection function\n",
    "\n",
    "Example: <br>\n",
    "__def__ is_bijection(function_dict, codomain_elements): <br>\n",
    "&emsp; ... <br>\n",
    "&emsp; __return__ "
   ]
  },
  {
   "cell_type": "code",
   "execution_count": 3,
   "metadata": {},
   "outputs": [
    {
     "data": {
      "text/plain": [
       "False"
      ]
     },
     "execution_count": 3,
     "metadata": {},
     "output_type": "execute_result"
    }
   ],
   "source": [
    "def is_bijection(function_dict, codomain_elements):\n",
    "    \n",
    "    # State\n",
    "    injection_check = False\n",
    "    surjection_check = False\n",
    "\n",
    "    # Injection Check Section\n",
    "    # newSet is the codomain of the function_dict\n",
    "    newSet = set()\n",
    "    for value in function_dict.values():\n",
    "        if value not in newSet:\n",
    "            newSet.add(value)\n",
    "        else:\n",
    "            break\n",
    "    else:\n",
    "        injection_check = True\n",
    "\n",
    "    # Surjection Check Section\n",
    "    \n",
    "    for element in codomain_elements:\n",
    "        if element not in newSet:\n",
    "            break\n",
    "    else:\n",
    "        surjection_check = True\n",
    "\n",
    "    # Final Decision\n",
    "    return (injection_check and surjection_check)\n",
    "    \n",
    "\n",
    "codomain_elements = [1,2,3,4,5]\n",
    "function_dict = {\n",
    "    'a':1,\n",
    "    'b':2,\n",
    "    'c':3,\n",
    "    'd':4\n",
    "}\n",
    "\n",
    "is_bijection(function_dict,codomain_elements)"
   ]
  },
  {
   "cell_type": "markdown",
   "metadata": {},
   "source": [
    "---"
   ]
  },
  {
   "cell_type": "markdown",
   "metadata": {},
   "source": [
    "#### Recurrence Relations = Recursive Function"
   ]
  },
  {
   "cell_type": "markdown",
   "metadata": {},
   "source": [
    "__Definition:__ <br>\n",
    "A `recurrence relation` for the sequence ${a_n}$ is an equation that expresses an in terms of one or more of the previous terms of the sequence, namely, $a_0$, $a_1$,…, $a_n-1$, for all integers $n$ with $n ≥ n_0$, where $n_0$ is $a$\n",
    "nonnegative integer.<br>\n",
    "\n",
    "* A sequence is called a solution of a `recurrence relation` if its terms satisfy the recurrence relation.\n",
    "* The `initial conditions` for a sequence specify the terms that precede the first term where the recurrence relation\n",
    "takes effect."
   ]
  },
  {
   "cell_type": "markdown",
   "metadata": {},
   "source": [
    "__Example:__ Let $𝑎_𝑛$ be a sequence that satisfies the recurrence relation <br>\n",
    "$𝑎_𝑛 = 𝑎_{𝑛−1} + 3$ for $𝑛 = 1, 2, 3, … ,$ and suppose that $𝑎_0 = 2$\n",
    "<br>\n",
    "What are $𝑎_1, 𝑎_2,$ and $𝑎_3$"
   ]
  },
  {
   "cell_type": "code",
   "execution_count": 50,
   "metadata": {},
   "outputs": [
    {
     "data": {
      "text/plain": [
       "5"
      ]
     },
     "execution_count": 50,
     "metadata": {},
     "output_type": "execute_result"
    }
   ],
   "source": [
    "#Write a code with recursive function\n",
    "def a(n):\n",
    "    if (n <= 0):\n",
    "        return 2\n",
    "    return a(n-1) + 3\n",
    "\n",
    "a(1)"
   ]
  },
  {
   "cell_type": "markdown",
   "metadata": {},
   "source": [
    "__Example:__ Compound Interest Suppose that a person deposits 10,000 BAHT in a savings account at a bank yielding 1.25% per year with interest compounded annually. How much will be in the account after 30 years?"
   ]
  },
  {
   "cell_type": "code",
   "execution_count": 6,
   "metadata": {},
   "outputs": [],
   "source": [
    "#Write a code with recursive function \n",
    "def salary_cal(year):\n",
    "    if year == 1:\n",
    "        return 10000\n",
    "    else:\n",
    "        return 1.25 * (salary_cal(year-1))"
   ]
  },
  {
   "cell_type": "code",
   "execution_count": 9,
   "metadata": {},
   "outputs": [
    {
     "name": "stdout",
     "output_type": "stream",
     "text": [
      "The Total of salary after 30 years is : 6462348.54 baht\n"
     ]
    }
   ],
   "source": [
    "print(\"The Total of salary after 30 years is : %.2f baht\"  %salary_cal(30))"
   ]
  },
  {
   "cell_type": "markdown",
   "metadata": {},
   "source": [
    "---"
   ]
  },
  {
   "cell_type": "markdown",
   "metadata": {},
   "source": [
    "### Sequences and Summations"
   ]
  },
  {
   "cell_type": "markdown",
   "metadata": {},
   "source": [
    "__Definition:__ <br>\n",
    "A `sequence` is a function from a subset of the integers (usually either the set {0, 1, 2, 3, 4, …..} or {1, 2, 3, 4,\n",
    "….} ) to a set S.\n",
    "* The notation $a_n$ is used to denote the image of the integer $n$.\n",
    "We can think of $a_n$ as the equivalent of $f(n)$ where $f$ is a function from {0,1,2,…..} to $S$. We call $a_n$ a term of the sequence"
   ]
  },
  {
   "cell_type": "markdown",
   "metadata": {},
   "source": [
    "__Example:__ Sequence of prime number from 2 .. 109"
   ]
  },
  {
   "cell_type": "code",
   "execution_count": 10,
   "metadata": {},
   "outputs": [
    {
     "name": "stdout",
     "output_type": "stream",
     "text": [
      "2 3 5 7 11 13 17 19 23 29 31 37 41 43 47 53 59 61 67 71 73 79 83 89 97 101 103 107 109\n"
     ]
    }
   ],
   "source": [
    "# Write a code to create sequence of prime number\n",
    "prime_list = []\n",
    "for i in range(2,110):\n",
    "    for j in range(2,i):\n",
    "        if i % j == 0:\n",
    "            break\n",
    "    else:\n",
    "        prime_list.append(i)\n",
    "\n",
    "print(*prime_list)"
   ]
  },
  {
   "cell_type": "markdown",
   "metadata": {},
   "source": [
    "__Example:__ Sumation of the prime number from 2 .. 109 "
   ]
  },
  {
   "cell_type": "code",
   "execution_count": 11,
   "metadata": {},
   "outputs": [
    {
     "name": "stdout",
     "output_type": "stream",
     "text": [
      "1480\n"
     ]
    }
   ],
   "source": [
    "# Write a code to sum all prime number from above\n",
    "# please do not use sum() function\n",
    "# use for loop\n",
    "total = 0\n",
    "for i in range(2,110):\n",
    "    for j in range(2,i):\n",
    "        if i % j == 0:\n",
    "            break\n",
    "    else:\n",
    "        total += i\n",
    "\n",
    "print(total)"
   ]
  },
  {
   "cell_type": "markdown",
   "metadata": {},
   "source": [
    "---"
   ]
  },
  {
   "cell_type": "markdown",
   "metadata": {},
   "source": [
    "#### Matrices"
   ]
  },
  {
   "cell_type": "markdown",
   "metadata": {},
   "source": [
    "__Definition:__ <br>\n",
    "A `matrix` is a rectangular array of numbers. A matrix with $𝑚$ rows and $𝑛$ columns is called an $𝑚 × 𝑛$\n",
    "matrix."
   ]
  },
  {
   "cell_type": "markdown",
   "metadata": {},
   "source": [
    "#### Implement a matrix with numpy"
   ]
  },
  {
   "cell_type": "code",
   "execution_count": 12,
   "metadata": {},
   "outputs": [
    {
     "name": "stdout",
     "output_type": "stream",
     "text": [
      "Requirement already satisfied: numpy in c:\\users\\folks\\appdata\\local\\programs\\python\\python311\\lib\\site-packages (1.25.2)\n"
     ]
    },
    {
     "name": "stderr",
     "output_type": "stream",
     "text": [
      "\n",
      "[notice] A new release of pip is available: 23.1.2 -> 23.2.1\n",
      "[notice] To update, run: python.exe -m pip install --upgrade pip\n"
     ]
    }
   ],
   "source": [
    "#!pip install numpy"
   ]
  },
  {
   "cell_type": "code",
   "execution_count": 53,
   "metadata": {},
   "outputs": [],
   "source": [
    "import numpy as np"
   ]
  },
  {
   "cell_type": "markdown",
   "metadata": {},
   "source": [
    "Create a new array of 2*2 integers, without initializing entries."
   ]
  },
  {
   "cell_type": "code",
   "execution_count": 55,
   "metadata": {},
   "outputs": [
    {
     "data": {
      "text/plain": [
       "array([[ -851653387,   866178108],\n",
       "       [-1503177341,  1387179900]])"
      ]
     },
     "execution_count": 55,
     "metadata": {},
     "output_type": "execute_result"
    }
   ],
   "source": [
    "np.empty([2,2], int) # data type มีขนาดการจองที่แตกต่างกัน"
   ]
  },
  {
   "cell_type": "markdown",
   "metadata": {},
   "source": [
    "Let X = np.array([1,2,3], [4,5,6], np.int32). \n",
    "Create a new array with the same shape and type as X."
   ]
  },
  {
   "cell_type": "code",
   "execution_count": 56,
   "metadata": {},
   "outputs": [
    {
     "data": {
      "text/plain": [
       "array([[1965057378,  543450483, 1702258035],\n",
       "       [ 543973746, 1701669236, 1226845811]])"
      ]
     },
     "execution_count": 56,
     "metadata": {},
     "output_type": "execute_result"
    }
   ],
   "source": [
    "X = np.array([[1,2,3], [4,5,6]], np.int32)\n",
    "np.empty_like(X)"
   ]
  },
  {
   "cell_type": "markdown",
   "metadata": {},
   "source": [
    "__Eye Matrix__ and __Indentity Matrix__ <br>\n",
    "Create a 3-D array with ones on the diagonal and zeros elsewhere."
   ]
  },
  {
   "cell_type": "code",
   "execution_count": 57,
   "metadata": {},
   "outputs": [
    {
     "data": {
      "text/plain": [
       "array([[1., 0., 0.],\n",
       "       [0., 1., 0.],\n",
       "       [0., 0., 1.]])"
      ]
     },
     "execution_count": 57,
     "metadata": {},
     "output_type": "execute_result"
    }
   ],
   "source": [
    "np.eye(3) # ที่ทแยงมุมมีค่าเป็น 1"
   ]
  },
  {
   "cell_type": "code",
   "execution_count": 58,
   "metadata": {},
   "outputs": [
    {
     "data": {
      "text/plain": [
       "array([[1., 0., 0.],\n",
       "       [0., 1., 0.],\n",
       "       [0., 0., 1.]])"
      ]
     },
     "execution_count": 58,
     "metadata": {},
     "output_type": "execute_result"
    }
   ],
   "source": [
    "np.identity(3)"
   ]
  },
  {
   "cell_type": "markdown",
   "metadata": {},
   "source": [
    "__One-Matrix__\n",
    "Create a new array of 3*2 float numbers, filled with ones."
   ]
  },
  {
   "cell_type": "code",
   "execution_count": 59,
   "metadata": {},
   "outputs": [
    {
     "data": {
      "text/plain": [
       "array([[1., 1.],\n",
       "       [1., 1.],\n",
       "       [1., 1.]])"
      ]
     },
     "execution_count": 59,
     "metadata": {},
     "output_type": "execute_result"
    }
   ],
   "source": [
    "np.ones([3,2], float)"
   ]
  },
  {
   "cell_type": "markdown",
   "metadata": {},
   "source": [
    "Let x = np.arange(4, dtype=np.int64). Create an array of ones with the same shape and type as X."
   ]
  },
  {
   "cell_type": "code",
   "execution_count": 60,
   "metadata": {},
   "outputs": [
    {
     "data": {
      "text/plain": [
       "array([1, 1, 1, 1], dtype=int64)"
      ]
     },
     "execution_count": 60,
     "metadata": {},
     "output_type": "execute_result"
    }
   ],
   "source": [
    "x = np.arange(4, dtype=np.int64)\n",
    "np.ones_like(x)"
   ]
  },
  {
   "cell_type": "markdown",
   "metadata": {},
   "source": [
    "__Zero-Matrix__ <br>\n",
    "Create a new array of 3*2 float numbers, filled with zeros."
   ]
  },
  {
   "cell_type": "code",
   "execution_count": 61,
   "metadata": {},
   "outputs": [
    {
     "data": {
      "text/plain": [
       "array([[0., 0.],\n",
       "       [0., 0.],\n",
       "       [0., 0.]])"
      ]
     },
     "execution_count": 61,
     "metadata": {},
     "output_type": "execute_result"
    }
   ],
   "source": [
    "np.zeros((3,2), float)"
   ]
  },
  {
   "cell_type": "markdown",
   "metadata": {},
   "source": [
    "Let x = np.arange(4, dtype=np.int64). Create an array of zeros with the same shape and type as X."
   ]
  },
  {
   "cell_type": "code",
   "execution_count": 62,
   "metadata": {},
   "outputs": [
    {
     "data": {
      "text/plain": [
       "array([0, 0, 0, 0], dtype=int64)"
      ]
     },
     "execution_count": 62,
     "metadata": {},
     "output_type": "execute_result"
    }
   ],
   "source": [
    "x = np.arange(4, dtype=np.int64)\n",
    "np.zeros_like(x)"
   ]
  },
  {
   "cell_type": "markdown",
   "metadata": {},
   "source": [
    "__Filled Matrix__ <br>\n",
    "Create a new array of 2*5 uints, filled with 6."
   ]
  },
  {
   "cell_type": "code",
   "execution_count": 63,
   "metadata": {},
   "outputs": [
    {
     "data": {
      "text/plain": [
       "array([[6, 6, 6, 6, 6],\n",
       "       [6, 6, 6, 6, 6]], dtype=uint32)"
      ]
     },
     "execution_count": 63,
     "metadata": {},
     "output_type": "execute_result"
    }
   ],
   "source": [
    "np.full((2, 5), 6, dtype=np.uint)"
   ]
  },
  {
   "cell_type": "code",
   "execution_count": 64,
   "metadata": {},
   "outputs": [
    {
     "data": {
      "text/plain": [
       "array([[6, 6, 6, 6, 6],\n",
       "       [6, 6, 6, 6, 6]], dtype=uint32)"
      ]
     },
     "execution_count": 64,
     "metadata": {},
     "output_type": "execute_result"
    }
   ],
   "source": [
    "np.ones([2, 5], dtype=np.uint) * 6"
   ]
  },
  {
   "cell_type": "markdown",
   "metadata": {},
   "source": [
    "Let x = np.arange(4, dtype=np.int64). Create an array of 6's with the same shape and type as X."
   ]
  },
  {
   "cell_type": "code",
   "execution_count": 66,
   "metadata": {},
   "outputs": [
    {
     "name": "stdout",
     "output_type": "stream",
     "text": [
      "[0 1 2 3]\n"
     ]
    },
    {
     "data": {
      "text/plain": [
       "array([6, 6, 6, 6], dtype=int64)"
      ]
     },
     "execution_count": 66,
     "metadata": {},
     "output_type": "execute_result"
    }
   ],
   "source": [
    "x = np.arange(4, dtype=np.int64)\n",
    "print(x)\n",
    "np.full_like(x, 6)"
   ]
  },
  {
   "cell_type": "markdown",
   "metadata": {},
   "source": [
    "#### From existing data"
   ]
  },
  {
   "cell_type": "markdown",
   "metadata": {},
   "source": [
    "Create an array of [1, 2, 3]."
   ]
  },
  {
   "cell_type": "code",
   "execution_count": 67,
   "metadata": {},
   "outputs": [
    {
     "data": {
      "text/plain": [
       "array([1, 2, 3])"
      ]
     },
     "execution_count": 67,
     "metadata": {},
     "output_type": "execute_result"
    }
   ],
   "source": [
    "np.array([1, 2, 3])"
   ]
  },
  {
   "cell_type": "markdown",
   "metadata": {},
   "source": [
    "Let x = [1, 2]. Conver it into an array."
   ]
  },
  {
   "cell_type": "code",
   "execution_count": 68,
   "metadata": {},
   "outputs": [
    {
     "data": {
      "text/plain": [
       "array([1, 2])"
      ]
     },
     "execution_count": 68,
     "metadata": {},
     "output_type": "execute_result"
    }
   ],
   "source": [
    "x = [1,2]\n",
    "np.asarray(x)"
   ]
  },
  {
   "cell_type": "markdown",
   "metadata": {},
   "source": [
    "Let X = np.array([[1, 2], [3, 4]]). Convert it into a matrix."
   ]
  },
  {
   "cell_type": "code",
   "execution_count": 69,
   "metadata": {},
   "outputs": [
    {
     "data": {
      "text/plain": [
       "matrix([[1, 2],\n",
       "        [3, 4]])"
      ]
     },
     "execution_count": 69,
     "metadata": {},
     "output_type": "execute_result"
    }
   ],
   "source": [
    "X = np.array([[1, 2], [3, 4]])\n",
    "np.asmatrix(X)"
   ]
  },
  {
   "cell_type": "markdown",
   "metadata": {},
   "source": [
    "Let x = [1, 2]. Conver it into an array of `float`."
   ]
  },
  {
   "cell_type": "code",
   "execution_count": 70,
   "metadata": {},
   "outputs": [
    {
     "data": {
      "text/plain": [
       "array([1., 2.])"
      ]
     },
     "execution_count": 70,
     "metadata": {},
     "output_type": "execute_result"
    }
   ],
   "source": [
    "x = [1, 2]\n",
    "np.asfarray(x)"
   ]
  },
  {
   "cell_type": "code",
   "execution_count": 71,
   "metadata": {},
   "outputs": [
    {
     "data": {
      "text/plain": [
       "array([1., 2.])"
      ]
     },
     "execution_count": 71,
     "metadata": {},
     "output_type": "execute_result"
    }
   ],
   "source": [
    "np.asarray(x, float)"
   ]
  },
  {
   "cell_type": "markdown",
   "metadata": {},
   "source": [
    "Let x = np.array([30]). Convert it into scalar of its single element, i.e. 30."
   ]
  },
  {
   "cell_type": "code",
   "execution_count": 72,
   "metadata": {},
   "outputs": [
    {
     "ename": "AttributeError",
     "evalue": "module 'numpy' has no attribute 'asscalar'",
     "output_type": "error",
     "traceback": [
      "\u001b[1;31m---------------------------------------------------------------------------\u001b[0m",
      "\u001b[1;31mAttributeError\u001b[0m                            Traceback (most recent call last)",
      "Cell \u001b[1;32mIn[72], line 2\u001b[0m\n\u001b[0;32m      1\u001b[0m x \u001b[39m=\u001b[39m np\u001b[39m.\u001b[39marray([\u001b[39m30\u001b[39m])\n\u001b[1;32m----> 2\u001b[0m np\u001b[39m.\u001b[39;49masscalar(x)\n",
      "File \u001b[1;32mc:\\Users\\folks\\AppData\\Local\\Programs\\Python\\Python311\\Lib\\site-packages\\numpy\\__init__.py:328\u001b[0m, in \u001b[0;36m__getattr__\u001b[1;34m(attr)\u001b[0m\n\u001b[0;32m    325\u001b[0m     \u001b[39m\"\u001b[39m\u001b[39mRemoved in NumPy 1.25.0\u001b[39m\u001b[39m\"\u001b[39m\n\u001b[0;32m    326\u001b[0m     \u001b[39mraise\u001b[39;00m \u001b[39mRuntimeError\u001b[39;00m(\u001b[39m\"\u001b[39m\u001b[39mTester was removed in NumPy 1.25.\u001b[39m\u001b[39m\"\u001b[39m)\n\u001b[1;32m--> 328\u001b[0m \u001b[39mraise\u001b[39;00m \u001b[39mAttributeError\u001b[39;00m(\u001b[39m\"\u001b[39m\u001b[39mmodule \u001b[39m\u001b[39m{!r}\u001b[39;00m\u001b[39m has no attribute \u001b[39m\u001b[39m\"\u001b[39m\n\u001b[0;32m    329\u001b[0m                      \u001b[39m\"\u001b[39m\u001b[39m{!r}\u001b[39;00m\u001b[39m\"\u001b[39m\u001b[39m.\u001b[39mformat(\u001b[39m__name__\u001b[39m, attr))\n",
      "\u001b[1;31mAttributeError\u001b[0m: module 'numpy' has no attribute 'asscalar'"
     ]
    }
   ],
   "source": [
    "x = np.array([30])\n",
    "np.asscalar(x)"
   ]
  },
  {
   "cell_type": "code",
   "execution_count": 73,
   "metadata": {},
   "outputs": [
    {
     "data": {
      "text/plain": [
       "30"
      ]
     },
     "execution_count": 73,
     "metadata": {},
     "output_type": "execute_result"
    }
   ],
   "source": [
    "x[0]"
   ]
  },
  {
   "cell_type": "markdown",
   "metadata": {},
   "source": [
    "Let x = np.array([1, 2, 3]). Create a array copy of x, which has a different id from x."
   ]
  },
  {
   "cell_type": "code",
   "execution_count": 74,
   "metadata": {},
   "outputs": [
    {
     "name": "stdout",
     "output_type": "stream",
     "text": [
      "2069519967760 [1 2 3]\n",
      "2069519968336 [1 2 3]\n"
     ]
    }
   ],
   "source": [
    "x = np.array([1, 2, 3])\n",
    "y = np.copy(x)\n",
    "print(id(x), x)\n",
    "print(id(y), y)"
   ]
  },
  {
   "cell_type": "markdown",
   "metadata": {},
   "source": [
    "#### Numerical ranges"
   ]
  },
  {
   "cell_type": "markdown",
   "metadata": {},
   "source": [
    "Create an array of 2, 4, 6, 8, ..., 100."
   ]
  },
  {
   "cell_type": "code",
   "execution_count": 75,
   "metadata": {},
   "outputs": [
    {
     "data": {
      "text/plain": [
       "array([  2,   4,   6,   8,  10,  12,  14,  16,  18,  20,  22,  24,  26,\n",
       "        28,  30,  32,  34,  36,  38,  40,  42,  44,  46,  48,  50,  52,\n",
       "        54,  56,  58,  60,  62,  64,  66,  68,  70,  72,  74,  76,  78,\n",
       "        80,  82,  84,  86,  88,  90,  92,  94,  96,  98, 100])"
      ]
     },
     "execution_count": 75,
     "metadata": {},
     "output_type": "execute_result"
    }
   ],
   "source": [
    "np.arange(2, 101, 2)"
   ]
  },
  {
   "cell_type": "markdown",
   "metadata": {},
   "source": [
    "Create a 1-D array of 50 evenly spaced elements between 3. and 10., inclusive."
   ]
  },
  {
   "cell_type": "code",
   "execution_count": 76,
   "metadata": {},
   "outputs": [
    {
     "data": {
      "text/plain": [
       "array([ 3.        ,  3.14285714,  3.28571429,  3.42857143,  3.57142857,\n",
       "        3.71428571,  3.85714286,  4.        ,  4.14285714,  4.28571429,\n",
       "        4.42857143,  4.57142857,  4.71428571,  4.85714286,  5.        ,\n",
       "        5.14285714,  5.28571429,  5.42857143,  5.57142857,  5.71428571,\n",
       "        5.85714286,  6.        ,  6.14285714,  6.28571429,  6.42857143,\n",
       "        6.57142857,  6.71428571,  6.85714286,  7.        ,  7.14285714,\n",
       "        7.28571429,  7.42857143,  7.57142857,  7.71428571,  7.85714286,\n",
       "        8.        ,  8.14285714,  8.28571429,  8.42857143,  8.57142857,\n",
       "        8.71428571,  8.85714286,  9.        ,  9.14285714,  9.28571429,\n",
       "        9.42857143,  9.57142857,  9.71428571,  9.85714286, 10.        ])"
      ]
     },
     "execution_count": 76,
     "metadata": {},
     "output_type": "execute_result"
    }
   ],
   "source": [
    "np.linspace(3., 10, 50)"
   ]
  },
  {
   "cell_type": "markdown",
   "metadata": {},
   "source": [
    "Create a 1-D array of 50 element spaced evenly on a log scale between 3. and 10., exclusive."
   ]
  },
  {
   "cell_type": "code",
   "execution_count": 77,
   "metadata": {},
   "outputs": [
    {
     "data": {
      "text/plain": [
       "array([1.00000000e+03, 1.38038426e+03, 1.90546072e+03, 2.63026799e+03,\n",
       "       3.63078055e+03, 5.01187234e+03, 6.91830971e+03, 9.54992586e+03,\n",
       "       1.31825674e+04, 1.81970086e+04, 2.51188643e+04, 3.46736850e+04,\n",
       "       4.78630092e+04, 6.60693448e+04, 9.12010839e+04, 1.25892541e+05,\n",
       "       1.73780083e+05, 2.39883292e+05, 3.31131121e+05, 4.57088190e+05,\n",
       "       6.30957344e+05, 8.70963590e+05, 1.20226443e+06, 1.65958691e+06,\n",
       "       2.29086765e+06, 3.16227766e+06, 4.36515832e+06, 6.02559586e+06,\n",
       "       8.31763771e+06, 1.14815362e+07, 1.58489319e+07, 2.18776162e+07,\n",
       "       3.01995172e+07, 4.16869383e+07, 5.75439937e+07, 7.94328235e+07,\n",
       "       1.09647820e+08, 1.51356125e+08, 2.08929613e+08, 2.88403150e+08,\n",
       "       3.98107171e+08, 5.49540874e+08, 7.58577575e+08, 1.04712855e+09,\n",
       "       1.44543977e+09, 1.99526231e+09, 2.75422870e+09, 3.80189396e+09,\n",
       "       5.24807460e+09, 7.24435960e+09])"
      ]
     },
     "execution_count": 77,
     "metadata": {},
     "output_type": "execute_result"
    }
   ],
   "source": [
    "np.logspace(3., 10., 50, endpoint=False)"
   ]
  },
  {
   "cell_type": "markdown",
   "metadata": {},
   "source": [
    "#### Building matrices"
   ]
  },
  {
   "cell_type": "markdown",
   "metadata": {},
   "source": [
    "Let X = np.array([[ 0,  1,  2,  3],\n",
    "                  [ 4,  5,  6,  7],\n",
    "                 [ 8,  9, 10, 11]]).\n",
    "                 Get the diagonal of X, that is, [0, 5, 10]."
   ]
  },
  {
   "cell_type": "code",
   "execution_count": 78,
   "metadata": {},
   "outputs": [
    {
     "data": {
      "text/plain": [
       "array([ 0,  5, 10])"
      ]
     },
     "execution_count": 78,
     "metadata": {},
     "output_type": "execute_result"
    }
   ],
   "source": [
    "X = np.array([[ 0, 1, 2, 3], [ 4, 5, 6, 7], [ 8, 9, 10, 11]])\n",
    "np.diag(X)"
   ]
  },
  {
   "cell_type": "code",
   "execution_count": 79,
   "metadata": {},
   "outputs": [
    {
     "data": {
      "text/plain": [
       "array([ 0,  5, 10])"
      ]
     },
     "execution_count": 79,
     "metadata": {},
     "output_type": "execute_result"
    }
   ],
   "source": [
    "X.diagonal()"
   ]
  },
  {
   "cell_type": "markdown",
   "metadata": {},
   "source": [
    "Create a 2-D array whose diagonal equals [1, 2, 3, 4] and 0's elsewhere."
   ]
  },
  {
   "cell_type": "code",
   "execution_count": 80,
   "metadata": {},
   "outputs": [
    {
     "data": {
      "text/plain": [
       "array([[1, 0, 0, 0],\n",
       "       [0, 2, 0, 0],\n",
       "       [0, 0, 3, 0],\n",
       "       [0, 0, 0, 4]])"
      ]
     },
     "execution_count": 80,
     "metadata": {},
     "output_type": "execute_result"
    }
   ],
   "source": [
    "np.diagflat([1, 2, 3, 4])"
   ]
  },
  {
   "cell_type": "markdown",
   "metadata": {},
   "source": [
    "Create an array which looks like below.\n",
    "array([[ 0.,  0.,  0.,  0.,  0.],\n",
    "       [ 1.,  0.,  0.,  0.,  0.],\n",
    "       [ 1.,  1.,  0.,  0.,  0.]])"
   ]
  },
  {
   "cell_type": "code",
   "execution_count": 81,
   "metadata": {},
   "outputs": [
    {
     "data": {
      "text/plain": [
       "array([[0., 0., 0., 0., 0.],\n",
       "       [1., 0., 0., 0., 0.],\n",
       "       [1., 1., 0., 0., 0.]])"
      ]
     },
     "execution_count": 81,
     "metadata": {},
     "output_type": "execute_result"
    }
   ],
   "source": [
    "np.tri(3, 5, -1)"
   ]
  },
  {
   "cell_type": "markdown",
   "metadata": {},
   "source": [
    "Create an array which looks like below. array([[ 0., 0., 0., 0., 0.], [ 1., 0., 0., 0., 0.], [ 1., 1., 0., 0., 0.]])\n",
    "array([[ 0,  0,  0],\n",
    "       [ 4,  0,  0],\n",
    "       [ 7,  8,  0],\n",
    "       [10, 11, 12]])"
   ]
  },
  {
   "cell_type": "code",
   "execution_count": 82,
   "metadata": {},
   "outputs": [
    {
     "data": {
      "text/plain": [
       "array([[ 0,  0,  0],\n",
       "       [ 4,  0,  0],\n",
       "       [ 7,  8,  0],\n",
       "       [10, 11, 12]])"
      ]
     },
     "execution_count": 82,
     "metadata": {},
     "output_type": "execute_result"
    }
   ],
   "source": [
    "np.tril(np.arange(1, 13).reshape(4, 3), -1)"
   ]
  },
  {
   "cell_type": "markdown",
   "metadata": {},
   "source": [
    "Create an array which looks like below. array([[ 1,  2,  3],\n",
    "       [ 4,  5,  6],\n",
    "       [ 0,  8,  9],\n",
    "       [ 0,  0, 12]])"
   ]
  },
  {
   "cell_type": "code",
   "execution_count": 83,
   "metadata": {},
   "outputs": [
    {
     "data": {
      "text/plain": [
       "array([[ 1,  2,  3],\n",
       "       [ 4,  5,  6],\n",
       "       [ 0,  8,  9],\n",
       "       [ 0,  0, 12]])"
      ]
     },
     "execution_count": 83,
     "metadata": {},
     "output_type": "execute_result"
    }
   ],
   "source": [
    "np.triu(np.arange(1, 13).reshape(4, 3), -1)"
   ]
  },
  {
   "cell_type": "markdown",
   "metadata": {},
   "source": [
    "---"
   ]
  },
  {
   "cell_type": "markdown",
   "metadata": {},
   "source": [
    "#### Matrix Arithmetic"
   ]
  },
  {
   "cell_type": "markdown",
   "metadata": {},
   "source": [
    "`Practice` Use numpy to find the answer of these Matrix Arithmetic <br>\n",
    "<br>\n",
    "$\\begin{bmatrix} 1 & 0 & -1 \\\\ 2 & 2 & -3 \\\\ 3 & 4 & 0 \\end{bmatrix} + \\begin{bmatrix} 3 & 4 & -1 \\\\ 1 & -3 & 0 \\\\ -1 & 1 & 2 \\end{bmatrix} = $"
   ]
  },
  {
   "cell_type": "code",
   "execution_count": 18,
   "metadata": {},
   "outputs": [
    {
     "name": "stdout",
     "output_type": "stream",
     "text": [
      "[[ 4  4 -2]\n",
      " [ 3 -1 -3]\n",
      " [ 2  5  2]]\n"
     ]
    }
   ],
   "source": [
    "import numpy as np\n",
    "\n",
    "matrix1 = np.array([[1,0,-1],\n",
    "                    [2,2,-3],\n",
    "                    [3,4,0]])\n",
    "\n",
    "matrix2 = np.array([[3,4,-1],\n",
    "                    [1,-3,0],\n",
    "                    [-1,1,2]])\n",
    "\n",
    "\n",
    "print(matrix1 + matrix2)"
   ]
  },
  {
   "cell_type": "markdown",
   "metadata": {},
   "source": [
    "$\\begin{bmatrix} 1 & 0 & 4 \\\\ 2 & 1 & 1 \\\\ 3 & 1 & 0 \\\\0 & 2 & 2\\end{bmatrix} \\times \\begin{bmatrix} 2 & 4 \\\\ 1 & 1 \\\\ 3 & 0 \\end{bmatrix} = $"
   ]
  },
  {
   "cell_type": "code",
   "execution_count": 19,
   "metadata": {},
   "outputs": [
    {
     "name": "stdout",
     "output_type": "stream",
     "text": [
      "[[14  4]\n",
      " [ 8  9]\n",
      " [ 7 13]\n",
      " [ 8  2]]\n"
     ]
    }
   ],
   "source": [
    "matrix1 = np.array([[1,0,4],\n",
    "                    [2,1,1],\n",
    "                    [3,1,0],\n",
    "                    [0,2,2]])\n",
    "\n",
    "matrix2 = np.array([[2,4],\n",
    "                    [1,1],\n",
    "                    [3,0]])\n",
    "\n",
    "print(np.matmul(matrix1, matrix2))"
   ]
  },
  {
   "cell_type": "markdown",
   "metadata": {},
   "source": [
    "$\\begin{bmatrix} 5 & 3 & -1 \\\\ 2 & 0 & -2 \\\\ -3 & -1 & 0 \\end{bmatrix}^0 = $"
   ]
  },
  {
   "cell_type": "code",
   "execution_count": 20,
   "metadata": {},
   "outputs": [
    {
     "data": {
      "text/plain": [
       "array([[1, 0, 0],\n",
       "       [0, 1, 0],\n",
       "       [0, 0, 1]])"
      ]
     },
     "execution_count": 20,
     "metadata": {},
     "output_type": "execute_result"
    }
   ],
   "source": [
    "from numpy.linalg import matrix_power\n",
    "\n",
    "matrix1 = np.array([[5,3,-1],\n",
    "                    [2,0,-2],\n",
    "                    [-3,-1,0]])\n",
    "\n",
    "matrix_power(matrix1, 0)"
   ]
  },
  {
   "cell_type": "markdown",
   "metadata": {},
   "source": [
    "$\\begin{bmatrix} -4 & 0 & 2 \\\\ 2 & -4 & 4 \\\\ 0 & 5 & -4 \\end{bmatrix}^4 = $"
   ]
  },
  {
   "cell_type": "code",
   "execution_count": 21,
   "metadata": {},
   "outputs": [
    {
     "data": {
      "text/plain": [
       "array([[  -64,  1160, -1112],\n",
       "       [-1112,  2256, -1760],\n",
       "       [ 1160, -2780,  2256]])"
      ]
     },
     "execution_count": 21,
     "metadata": {},
     "output_type": "execute_result"
    }
   ],
   "source": [
    "from numpy.linalg import matrix_power\n",
    "\n",
    "matrix1 = np.array([[-4,0,2],\n",
    "                    [2,-4,4],\n",
    "                    [0,5,-4]])\n",
    "\n",
    "matrix_power(matrix1, 4)"
   ]
  },
  {
   "cell_type": "markdown",
   "metadata": {},
   "source": [
    "$\\begin{bmatrix} -8 & 9 & 1 \\\\ 2 & -1 & 3 \\\\ 5 & 6 & -6 \\end{bmatrix}^T = $"
   ]
  },
  {
   "cell_type": "code",
   "execution_count": 22,
   "metadata": {},
   "outputs": [
    {
     "data": {
      "text/plain": [
       "array([[-8,  2,  5],\n",
       "       [ 9, -1,  6],\n",
       "       [ 1,  3, -6]])"
      ]
     },
     "execution_count": 22,
     "metadata": {},
     "output_type": "execute_result"
    }
   ],
   "source": [
    "matrix1 = np.array([[-8,9,1],\n",
    "                    [2,-1,3],\n",
    "                    [5,6,-6]])\n",
    "\n",
    "matrix1.transpose()"
   ]
  },
  {
   "cell_type": "markdown",
   "metadata": {},
   "source": [
    "$\\begin{bmatrix} -4 & 2 & 1 \\\\ 1 & -1 & 2 \\\\ 1 & 2 & -3 \\end{bmatrix}^{-1} = $"
   ]
  },
  {
   "cell_type": "code",
   "execution_count": 24,
   "metadata": {},
   "outputs": [
    {
     "data": {
      "text/plain": [
       "array([[-0.05882353,  0.47058824,  0.29411765],\n",
       "       [ 0.29411765,  0.64705882,  0.52941176],\n",
       "       [ 0.17647059,  0.58823529,  0.11764706]])"
      ]
     },
     "execution_count": 24,
     "metadata": {},
     "output_type": "execute_result"
    }
   ],
   "source": [
    "from numpy.linalg import matrix_power\n",
    "\n",
    "matrix1 = np.array([[-4,2,1],\n",
    "                    [1,-1,2],\n",
    "                    [1,2,-3]])\n",
    "\n",
    "matrix_power(matrix1, -1)"
   ]
  },
  {
   "cell_type": "markdown",
   "metadata": {},
   "source": [
    "---"
   ]
  },
  {
   "cell_type": "markdown",
   "metadata": {},
   "source": [
    "<div style=\"color:greenyellow; font-size: 30px; font-weight:700;\">นายศวิษฐ์ โกสียอัมพร 65070506026</div>"
   ]
  }
 ],
 "metadata": {
  "kernelspec": {
   "display_name": "Python 3",
   "language": "python",
   "name": "python3"
  },
  "language_info": {
   "codemirror_mode": {
    "name": "ipython",
    "version": 3
   },
   "file_extension": ".py",
   "mimetype": "text/x-python",
   "name": "python",
   "nbconvert_exporter": "python",
   "pygments_lexer": "ipython3",
   "version": "3.11.4"
  },
  "orig_nbformat": 4
 },
 "nbformat": 4,
 "nbformat_minor": 2
}
