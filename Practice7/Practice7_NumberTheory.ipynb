{
 "cells": [
  {
   "cell_type": "markdown",
   "metadata": {},
   "source": [
    "![AlternativeLogo-eng.png](data:image/png;base64,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)"
   ]
  },
  {
   "cell_type": "markdown",
   "metadata": {},
   "source": [
    "# CPE111/ISY202\n",
    "# Session7: Number Theory and Cryptography\n",
    "## Topic\n",
    "* Prime number\n",
    "* Factorization\n",
    "* GCD\n",
    "* Cryptography"
   ]
  },
  {
   "cell_type": "markdown",
   "metadata": {},
   "source": [
    "---"
   ]
  },
  {
   "cell_type": "markdown",
   "metadata": {},
   "source": [
    "### Representations of Integers\n",
    "* __Decimal__ or __base = 10__ <br>\n",
    "    In the modern world, we use decimal, or base 10, notation to represent integers. <br>\n",
    "    The ancient Mayans used base 20 and the ancient Babylonians used base 60. <br>\n",
    "\n",
    "* __Binary__ or __base = 2__ <br>\n",
    "    Most computers represent integers and do arithmetic with binary (base 2) expansions of integers. In these expansions, the only digits used are 0 and 1 <br>\n",
    "\n",
    "* __Octal or base = 8__ <br>\n",
    "    The octal (base 8) uses the digits {0,1,2,3,4,5,6,7}\n",
    "\n",
    "* __Hexadecimal or base 16__ <br>\n",
    "    The hexadecimal expansion needs 16 digits, but our decimal system provides only 10. So letters are used for the additional symbols. The hexadecimal system uses the digits {0,1,2,3,4,5,6,7,8,9,A,B,C,D,E,F}. The letters A through F represent the decimal numbers 10 through 15."
   ]
  },
  {
   "cell_type": "code",
   "execution_count": 40,
   "metadata": {},
   "outputs": [
    {
     "name": "stdout",
     "output_type": "stream",
     "text": [
      "Decimal        Binary         Octal          Hexadecimal    \n",
      "------------------------------------------------------------\n",
      "0              0              0              0              \n",
      "1              1              1              1              \n",
      "2              10             2              2              \n",
      "3              11             3              3              \n",
      "4              100            4              4              \n",
      "5              101            5              5              \n",
      "6              110            6              6              \n",
      "7              111            7              7              \n",
      "8              1000           10             8              \n",
      "9              1001           11             9              \n",
      "10             1010           12             A              \n",
      "11             1011           13             B              \n",
      "12             1100           14             C              \n",
      "13             1101           15             D              \n",
      "14             1110           16             E              \n",
      "15             1111           17             F              \n",
      "16             10000          20             10             \n",
      "17             10001          21             11             \n",
      "18             10010          22             12             \n",
      "19             10011          23             13             \n",
      "20             10100          24             14             \n",
      "21             10101          25             15             \n",
      "22             10110          26             16             \n",
      "23             10111          27             17             \n",
      "24             11000          30             18             \n",
      "25             11001          31             19             \n",
      "26             11010          32             1A             \n",
      "27             11011          33             1B             \n",
      "28             11100          34             1C             \n",
      "29             11101          35             1D             \n",
      "30             11110          36             1E             \n"
     ]
    }
   ],
   "source": [
    "# Print the representations of Integers in various base (10, 2, 8, 16)\n",
    "def print_number_table():\n",
    "    print(f\"{'Decimal':<15}{'Binary':<15}{'Octal':<15}{'Hexadecimal':<15}\")\n",
    "    print(\"-\" * 60)\n",
    "\n",
    "    for i in range(0, 31):\n",
    "        binary_represent = bin(i)[2:]\n",
    "        octal_represent = oct(i)[2:]\n",
    "        hex_represent = hex(i)[2:].upper()\n",
    "\n",
    "        print(f\"{i:<15}{binary_represent:<15}{octal_represent:<15}{hex_represent:<15}\")\n",
    "\n",
    "# Print the number table\n",
    "print_number_table()\n"
   ]
  },
  {
   "cell_type": "markdown",
   "metadata": {},
   "source": [
    "### Division Algorithm\n",
    "Division algorithm: if $a$ is an integer and $d$ a positive integer, then there are unique integers $q$ and $r$, with $0 \\le r < d$, such that $a = dq + r$ <br>\n",
    "\n",
    "* $d$ is called the divisor\n",
    "* $a$ is called the dividend\n",
    "* $q$ is called the quatient\n",
    "* $r$ is called the remainder"
   ]
  },
  {
   "cell_type": "code",
   "execution_count": 41,
   "metadata": {},
   "outputs": [
    {
     "name": "stdout",
     "output_type": "stream",
     "text": [
      "14\n",
      "2\n"
     ]
    }
   ],
   "source": [
    "a = 100\n",
    "d = 7\n",
    "q,r = divmod(a,d)\n",
    "print(q)\n",
    "print(r)"
   ]
  },
  {
   "cell_type": "markdown",
   "metadata": {},
   "source": [
    "### Modulo"
   ]
  },
  {
   "cell_type": "code",
   "execution_count": 42,
   "metadata": {},
   "outputs": [
    {
     "name": "stdout",
     "output_type": "stream",
     "text": [
      "1\n",
      "2\n",
      "0\n",
      "1\n",
      "2\n",
      "0\n",
      "1\n",
      "2\n",
      "0\n",
      "1\n",
      "2\n",
      "0\n",
      "1\n",
      "2\n",
      "0\n",
      "1\n",
      "2\n",
      "0\n",
      "1\n"
     ]
    }
   ],
   "source": [
    "# Cycling through values using modulo\n",
    "# ค่าไม่ถูกนับเกินค่า modulus\n",
    "for i in range(1, 20):\n",
    "    print(i % 3)"
   ]
  },
  {
   "cell_type": "markdown",
   "metadata": {},
   "source": [
    "---"
   ]
  },
  {
   "cell_type": "markdown",
   "metadata": {},
   "source": [
    "## Primes <br>\n",
    "A positive integer p greater than 1 is called prime if the only positive factors of p are 1 and p. A positive integer that is greater than 1 and is not prime is called composite"
   ]
  },
  {
   "cell_type": "markdown",
   "metadata": {},
   "source": [
    "Every positive integer greater than 1 can be written uniquely as a prime or as the product of two or more primes where the prime factors are written in order of nondecreasing size"
   ]
  },
  {
   "cell_type": "code",
   "execution_count": 43,
   "metadata": {},
   "outputs": [],
   "source": [
    "# Example of the code for Check whether it is a prime number or not\n",
    "def is_prime(n):\n",
    "    if n < 2:\n",
    "        return False\n",
    "    for i in range(2, int(n**0.5) + 1):\n",
    "        if n % i == 0:\n",
    "            return False\n",
    "    return True"
   ]
  },
  {
   "cell_type": "code",
   "execution_count": 44,
   "metadata": {},
   "outputs": [
    {
     "data": {
      "text/plain": [
       "True"
      ]
     },
     "execution_count": 44,
     "metadata": {},
     "output_type": "execute_result"
    }
   ],
   "source": [
    "a = 3\n",
    "is_prime(a)"
   ]
  },
  {
   "cell_type": "markdown",
   "metadata": {},
   "source": [
    "---"
   ]
  },
  {
   "cell_type": "markdown",
   "metadata": {},
   "source": [
    "### `Practice#1` Seive of Eratosthenes Algorithm (ตาข่าย)\n",
    "### from pesudo code try to code"
   ]
  },
  {
   "cell_type": "markdown",
   "metadata": {},
   "source": [
    "__Algorithm__ Seive_of_Eratosthenes <br>\n",
    "__Input__: Integer $n \\ge 2$ <br>\n",
    "__Output__: List of primes less or equal to $n$ <br>\n",
    "\n",
    "__for__ $p$ = 2 to $n$ __do__ <br>\n",
    "&nbsp;&nbsp;&nbsp; $A[p] = p$ <br>\n",
    "__for__ $p$ = 2 to $\\lfloor \\sqrt{n} \\rfloor$ __do__ <br>\n",
    "&nbsp;&nbsp;&nbsp; __if__ $A[p] \\ne 0$ __then__ # $p$ _hasn't been previously eliminated from the list_ <br>\n",
    "&nbsp;&nbsp;&nbsp;&nbsp;&nbsp;&nbsp; $j = p \\times p$ <br>\n",
    "&nbsp;&nbsp;&nbsp;&nbsp;&nbsp;&nbsp; __while__ $j \\ge n$ __do__ <br>\n",
    "&nbsp;&nbsp;&nbsp;&nbsp;&nbsp;&nbsp;&nbsp;&nbsp;&nbsp;&nbsp;&nbsp;&nbsp; $A[j] = 0 $ # _Mark element as eliminated_ <br> \n",
    "&nbsp;&nbsp;&nbsp;&nbsp;&nbsp;&nbsp;&nbsp;&nbsp;&nbsp;&nbsp;&nbsp;&nbsp; $j = j + p $ "
   ]
  },
  {
   "cell_type": "code",
   "execution_count": 45,
   "metadata": {},
   "outputs": [],
   "source": [
    "# หาจำนวนเฉพาะ ตั้งแต่ 2 จนกระทั่งถึง n แล้วสร้างเป็น set\n",
    "# sqrt(n) คือค่าน้อยที่สุดที่จะเช็คว่าเป็น Prime Number\n",
    "import math\n",
    "\n",
    "def seives_of_eratosthenes(n):\n",
    "    A = [i for i in range(n+1)]\n",
    "    for p in range(2,int(math.sqrt(n))+1):\n",
    "        if A[p]:\n",
    "            j = p*p\n",
    "            while j <= n:\n",
    "                A[j] = 0\n",
    "                j += p\n",
    "    return [i for i in A if i != 0 and i != 1]"
   ]
  },
  {
   "cell_type": "code",
   "execution_count": 46,
   "metadata": {},
   "outputs": [
    {
     "name": "stdout",
     "output_type": "stream",
     "text": [
      "[2, 3, 5, 7, 11, 13, 17, 19]\n"
     ]
    }
   ],
   "source": [
    "print(seives_of_eratosthenes(21))"
   ]
  },
  {
   "cell_type": "markdown",
   "metadata": {},
   "source": [
    "---"
   ]
  },
  {
   "cell_type": "markdown",
   "metadata": {},
   "source": [
    "## Prime factorization <br>\n",
    "__Theroem__: Every positive integer greater than 1 can be written uniquely as a prime or as the product of two or more primes where the prime factors are written in order of nondecreasing size. <br>\n",
    "<br>\n",
    "__Examples__:\n",
    "* $100 = 2 \\cdot 2 \\cdot 5 \\cdot 5 = 2^2 \\cdot 5^2$\n",
    "* $641 = 641$\n",
    "* $999 = 3 \\cdot 3 \\cdot 3 \\cdot 37 = 3^3 \\cdot 37 $\n",
    "* $1024 = 2 \\cdot 2 \\cdot 2 \\cdot 2 \\cdot 2 \\cdot 2 \\cdot 2 \\cdot 2 \\cdot 2 \\cdot 2 = 2^{10}$"
   ]
  },
  {
   "cell_type": "markdown",
   "metadata": {},
   "source": [
    "---"
   ]
  },
  {
   "cell_type": "code",
   "execution_count": 47,
   "metadata": {},
   "outputs": [],
   "source": [
    "def find_factors(number):\n",
    "    factors = []\n",
    "    for i in range(1, number + 1):\n",
    "        if number % i == 0:\n",
    "            factors.append(i)\n",
    "    return factors"
   ]
  },
  {
   "cell_type": "code",
   "execution_count": 48,
   "metadata": {},
   "outputs": [
    {
     "name": "stdout",
     "output_type": "stream",
     "text": [
      "The factors of 35 are: [1, 5, 7, 35]\n"
     ]
    }
   ],
   "source": [
    "num = int(input(\"Enter a number: \"))\n",
    "result = find_factors(num) #หาตัวประกอบ\n",
    "print(f\"The factors of {num} are: {result}\")"
   ]
  },
  {
   "cell_type": "code",
   "execution_count": 49,
   "metadata": {},
   "outputs": [],
   "source": [
    "def prime_factors(number):\n",
    "    factors = []\n",
    "    for i in range(2, number + 1):\n",
    "        while number % i == 0 and is_prime(i):\n",
    "            factors.append(i)\n",
    "            number //= i\n",
    "    return factors"
   ]
  },
  {
   "cell_type": "code",
   "execution_count": 50,
   "metadata": {},
   "outputs": [
    {
     "name": "stdout",
     "output_type": "stream",
     "text": [
      "The the prime factors of 15 is: [3, 5]\n"
     ]
    }
   ],
   "source": [
    "num = int(input(\"Enter a number: \"))\n",
    "prime_factors_list = prime_factors(num)\n",
    "print(f\"The the prime factors of {num} is: {prime_factors_list}\")"
   ]
  },
  {
   "cell_type": "markdown",
   "metadata": {},
   "source": [
    "---"
   ]
  },
  {
   "cell_type": "markdown",
   "metadata": {},
   "source": [
    "## Greatest Common Divisor <br> (ห.ร.ม.)\n",
    "Let $a$ and $b$ be integers, not both zero. The largest integer $d$ such that $d | a$ and also $d | b$ is called the\n",
    "greatest common divisor of $a$ and $b$. The greatest common divisor of $a$ and $b$ is denoted by __gcd(a,b)__ <br>\n",
    "<br>\n",
    "__Examples__:\n",
    "* gcd(24,36) = 12\n",
    "* gcd(10,24) = 2\n",
    "* gcd(60,24) = 12\n",
    "* gcd(60,0) = ?"
   ]
  },
  {
   "cell_type": "markdown",
   "metadata": {},
   "source": [
    "---"
   ]
  },
  {
   "cell_type": "markdown",
   "metadata": {},
   "source": [
    "### `Practice#2` Brute_Force_GCD\n",
    "### from pesudo code try to code\n",
    "\n",
    "__Algorithm__ Brute_Force_GCD(m, n) <br>\n",
    "<br>\n",
    "__Input__: Integer $m$ and Integer $n$ , which $m$ and $n$ is not zero <br>\n",
    "__Output__: the GCD of $m$ and $n$ <br>\n",
    "<br>\n",
    "* __Step 1__: Assign the value of min{$m$,$n$} to $t$.\n",
    "* __Step 2__: Divide $m$ by $t$. If the remainder is 0, go to __Step 3__; \n",
    "        Otherwise, go to __Step 4__\n",
    "* __Step 3__: Divide $n$ by $t$. If the remainder is 0, __return__ $t$ and\n",
    "        __stop__; Otherwise, go to __Step 4__\n",
    "* __Step 4__: Decrease $t$ by 1 and go to __Step 2__"
   ]
  },
  {
   "cell_type": "code",
   "execution_count": 51,
   "metadata": {},
   "outputs": [],
   "source": [
    "# Enter code here\n",
    "def Brute_Force_GCD(m , n):\n",
    "    if m == 0 or n == 0:\n",
    "        return\n",
    "    t = min(m,n)\n",
    "    while t > 0:\n",
    "        # Step 2\n",
    "        if (m % t == 0):\n",
    "            if (n % t == 0):\n",
    "                return t\n",
    "        t -= 1"
   ]
  },
  {
   "cell_type": "code",
   "execution_count": 52,
   "metadata": {},
   "outputs": [
    {
     "name": "stdout",
     "output_type": "stream",
     "text": [
      "12\n",
      "25\n"
     ]
    }
   ],
   "source": [
    "print(Brute_Force_GCD(24,36))\n",
    "print(Brute_Force_GCD(25,50))"
   ]
  },
  {
   "cell_type": "markdown",
   "metadata": {},
   "source": [
    "---"
   ]
  },
  {
   "cell_type": "markdown",
   "metadata": {},
   "source": [
    "### `Practice#3` Finding the GCD using Prime Factorizations\n",
    "### from pesudo code try to code\n"
   ]
  },
  {
   "cell_type": "markdown",
   "metadata": {},
   "source": [
    "__Algorithm__ Middle_School_GCD (m, n) <br>\n",
    "<br>\n",
    "__Input__: Integer $m$ and Integer $n$ <br>\n",
    "__Output__: the GCD of $m$ and $n$ <br>\n",
    "<br>\n",
    "* __Step 1__: Find the __prime factorization__ of $m$\n",
    "* __Step 2__: Find the __prime factorization__ of $n$\n",
    "* __Step 3__: Find all the common prime factors\n",
    "* __Step 4__: Compute the product of all the common prime factors and __return__ it as __gcd(m,n)__"
   ]
  },
  {
   "cell_type": "code",
   "execution_count": 53,
   "metadata": {},
   "outputs": [],
   "source": [
    "# Enter code here\n",
    "def Middle_School_GCD(m,n):\n",
    "    if m <= 0 or n <= 0: return #error\n",
    "    M_list = prime_factors(m)\n",
    "    N_list = prime_factors(n)\n",
    "    # print(M_list , N_list)\n",
    "    # Common Prime Factors\n",
    "    Common_list = []\n",
    "    for number in M_list:\n",
    "        if number in N_list:\n",
    "            N_list.remove(number)\n",
    "            Common_list.append(number)\n",
    "            # print(Common_list , M_list , N_list)\n",
    "\n",
    "    # Product all the common prime factors\n",
    "    total = 1\n",
    "    for i in Common_list:\n",
    "        total *= i\n",
    "    return total"
   ]
  },
  {
   "cell_type": "code",
   "execution_count": 54,
   "metadata": {},
   "outputs": [
    {
     "name": "stdout",
     "output_type": "stream",
     "text": [
      "12\n"
     ]
    }
   ],
   "source": [
    "print(Middle_School_GCD(24,36))"
   ]
  },
  {
   "cell_type": "markdown",
   "metadata": {},
   "source": [
    "---"
   ]
  },
  {
   "cell_type": "markdown",
   "metadata": {},
   "source": [
    "### `Practice#4` Euclid's algorithm\n",
    "### from pesudo code try to code"
   ]
  },
  {
   "cell_type": "markdown",
   "metadata": {},
   "source": [
    "__Algorithm__ Euclid_GCD (m, n) <br>\n",
    "<br>\n",
    "__Input__: Non-negative Integer $m$ and non-negative Integer $n$ , which $m$ and $n$ are not both zero , and $m \\ge n$ <br>\n",
    "__Output__: the GCD of $m$ and $n$ <br>\n",
    "<br>\n",
    "__while__ $n \\ne 0$ __do__ <br>\n",
    "&nbsp;&nbsp;&nbsp; $r := m$ mod $n$ <br>\n",
    "&nbsp;&nbsp;&nbsp; $m := n$ <br>\n",
    "&nbsp;&nbsp;&nbsp; $n := r$ <br>\n",
    "__return__ $m$"
   ]
  },
  {
   "cell_type": "code",
   "execution_count": 55,
   "metadata": {},
   "outputs": [],
   "source": [
    "# Enter code here\n",
    "def Euclid_GCD(m,n):\n",
    "    if m <= 0 or n <= 0: return\n",
    "    while n != 0:\n",
    "        r = m % n\n",
    "        m = n\n",
    "        n = r\n",
    "    return m"
   ]
  },
  {
   "cell_type": "code",
   "execution_count": 56,
   "metadata": {},
   "outputs": [
    {
     "name": "stdout",
     "output_type": "stream",
     "text": [
      "12\n"
     ]
    }
   ],
   "source": [
    "print(Euclid_GCD(24,36))"
   ]
  },
  {
   "cell_type": "markdown",
   "metadata": {},
   "source": [
    "---"
   ]
  },
  {
   "cell_type": "markdown",
   "metadata": {},
   "source": [
    "### Check Digits: UPCs"
   ]
  },
  {
   "cell_type": "markdown",
   "metadata": {},
   "source": [
    "<img src=\"image.png\" alt=\"UPC\" width=\"200\"/>\n"
   ]
  },
  {
   "cell_type": "markdown",
   "metadata": {},
   "source": [
    "The check digit is determined by the congruence: <br>\n",
    "$3x_1 + x_2 + 3x_3 + x_4 + 3x_5 + x_6 +3x_7 + x_8 + 3x_9 + x_{10} + 3x_{11} + x_{12} \\equiv 0 $ (mod 10)\n"
   ]
  },
  {
   "cell_type": "code",
   "execution_count": 57,
   "metadata": {},
   "outputs": [],
   "source": [
    "def is_valid_upc(upc_code):\n",
    "    if not upc_code.isdigit() or len(upc_code) != 12:\n",
    "        return False\n",
    "\n",
    "    # Calculate the check digit\n",
    "    sum_odd = sum(int(upc_code[i]) for i in range(0, 11, 2))\n",
    "    sum_even = sum(int(upc_code[i]) for i in range(1, 11, 2))\n",
    "    total = 3 * sum_odd + sum_even\n",
    "    check_digit = (10 - (total % 10)) % 10\n",
    "\n",
    "    # Check if the calculated check digit matches the provided one\n",
    "    return check_digit == int(upc_code[11])"
   ]
  },
  {
   "cell_type": "code",
   "execution_count": 58,
   "metadata": {},
   "outputs": [
    {
     "name": "stdout",
     "output_type": "stream",
     "text": [
      "The UPC 036000291452 is valid.\n"
     ]
    }
   ],
   "source": [
    "upc_code = \"036000291452\"\n",
    "result = is_valid_upc(upc_code)\n",
    "print(f\"The UPC {upc_code} is {'valid' if result else 'invalid'}.\")"
   ]
  },
  {
   "cell_type": "markdown",
   "metadata": {},
   "source": [
    "---"
   ]
  },
  {
   "cell_type": "markdown",
   "metadata": {},
   "source": [
    "### `Practice#5` Write a code to check the ISBN-10 "
   ]
  },
  {
   "cell_type": "markdown",
   "metadata": {},
   "source": [
    "### Check Digits: ISBNs"
   ]
  },
  {
   "cell_type": "markdown",
   "metadata": {},
   "source": [
    "![ISBN10](image-3.png)\n",
    "<br>\n",
    "Books are identified by an International Standard Book Number (ISBN-10), a 10 digit code. <br>\n",
    "\n",
    "* The first 9 digits identify the language, the publisher, and the book. \n",
    "* The tenth digit is a check digit, which is determined by the following congruence <br>\n",
    "<br>\n",
    "$$x_{10} \\equiv \\sum_{i=1}^9 ix_i (mod 11) $$\n",
    "<br>\n",
    "\n",
    "* if the $x_{10}$ = 10 then use 'X' instead"
   ]
  },
  {
   "cell_type": "code",
   "execution_count": 59,
   "metadata": {},
   "outputs": [],
   "source": [
    "# Enter code\n",
    "def ISBN_Check(series_number):\n",
    "    total = 0\n",
    "    for i in range(9):\n",
    "        total += (i+1) * int(series_number[i])\n",
    "    \n",
    "    total = total % 11\n",
    "    # ที่เช็คเป็น String เพราะ ถ้าในกรณีที่หลัก 10 เป็น X มันจะไม่สามารถแปลงเป็น int ได้\n",
    "    if series_number[9] == str(total):\n",
    "        result = \"The ISBN \" + str(series_number) + \" is valid\"\n",
    "        return result\n",
    "    elif series_number[9] == \"X\" and total == 10:\n",
    "        result = \"THE ISBN \" + str(series_number) + \" is valid\"\n",
    "        return result\n",
    "    else:\n",
    "        result = \"The ISBN \" + str(series_number) + \" is invalid\"\n",
    "        return result"
   ]
  },
  {
   "cell_type": "markdown",
   "metadata": {},
   "source": [
    "Check for these following code which is valid ISBN-10 code"
   ]
  },
  {
   "cell_type": "markdown",
   "metadata": {},
   "source": [
    "![Alt text](image-4.png)"
   ]
  },
  {
   "cell_type": "code",
   "execution_count": 60,
   "metadata": {},
   "outputs": [
    {
     "name": "stdout",
     "output_type": "stream",
     "text": [
      "The ISBN 0198526636 is valid\n"
     ]
    }
   ],
   "source": [
    "# Valid or Invalid?\n",
    "isbn_code = \"0198526636\"\n",
    "print(ISBN_Check(isbn_code))"
   ]
  },
  {
   "cell_type": "markdown",
   "metadata": {},
   "source": [
    "![Alt text](image-5.png)"
   ]
  },
  {
   "cell_type": "code",
   "execution_count": 61,
   "metadata": {},
   "outputs": [
    {
     "name": "stdout",
     "output_type": "stream",
     "text": [
      "The ISBN 8175257660 is valid\n"
     ]
    }
   ],
   "source": [
    "# Valid or Invalid?\n",
    "isbn_code_2 = \"8175257660\"\n",
    "print(ISBN_Check(isbn_code_2))"
   ]
  },
  {
   "cell_type": "markdown",
   "metadata": {},
   "source": [
    "![Alt text](image-6.png)"
   ]
  },
  {
   "cell_type": "code",
   "execution_count": 62,
   "metadata": {},
   "outputs": [
    {
     "name": "stdout",
     "output_type": "stream",
     "text": [
      "The ISBN 0863815804 is valid\n"
     ]
    }
   ],
   "source": [
    "# Valid or Invalid? \n",
    "isbn_code_3 = \"0863815804\"\n",
    "print(ISBN_Check(isbn_code_3))"
   ]
  },
  {
   "cell_type": "code",
   "execution_count": 63,
   "metadata": {},
   "outputs": [
    {
     "name": "stdout",
     "output_type": "stream",
     "text": [
      "THE ISBN 086243680X is valid\n"
     ]
    }
   ],
   "source": [
    "isbn_code_4 = \"086243680X\"\n",
    "print(ISBN_Check(isbn_code_4))"
   ]
  },
  {
   "cell_type": "markdown",
   "metadata": {},
   "source": [
    "---"
   ]
  },
  {
   "cell_type": "markdown",
   "metadata": {},
   "source": [
    "## Caecae Cipher\n",
    "The Caesar cipher is one of a family of ciphers called __shift ciphers__. Letters can be shifted by an integer $k$, with 3 being just one possibility. <br>\n",
    "\n",
    "The __encryption function__ is\n",
    "$$ f(p) = (p + k) mod 26 $$\n",
    "\n",
    "<br>\n",
    "\n",
    "and the __decryption function__ is\n",
    "$$ f^{−1}(p) = (p−k) mod 26 $$\n",
    "\n",
    "The integer k is called a key."
   ]
  },
  {
   "cell_type": "code",
   "execution_count": 64,
   "metadata": {},
   "outputs": [],
   "source": [
    "def caesar_encrypt(text, shift):\n",
    "    ciphered_text = \"\"\n",
    "    \n",
    "    for char in text:\n",
    "        if char.isalpha():\n",
    "            # Determine whether the character is uppercase or lowercase\n",
    "            is_upper = char.isupper()\n",
    "            # Apply the Caesar Cipher shift\n",
    "            encrypted_char = chr(((ord(char) - ord('A' if is_upper else 'a') + shift) % 26) + ord('A' if is_upper else 'a'))\n",
    "            ciphered_text += encrypted_char\n",
    "        else:\n",
    "            # If the character is not a letter, keep it unchanged\n",
    "            ciphered_text += char\n",
    "\n",
    "    return ciphered_text"
   ]
  },
  {
   "cell_type": "code",
   "execution_count": 65,
   "metadata": {},
   "outputs": [
    {
     "name": "stdout",
     "output_type": "stream",
     "text": [
      "Plaintext: Discrete Mathematic, Data Stucture and Algorithm\n",
      "Ciphertext: Glvfuhwh Pdwkhpdwlf, Gdwd Vwxfwxuh dqg Dojrulwkp\n"
     ]
    }
   ],
   "source": [
    "plaintext = \"Discrete Mathematic, Data Stucture and Algorithm\"\n",
    "shift_value = 3\n",
    "ciphered_text = caesar_encrypt(plaintext, shift_value)\n",
    "print(f\"Plaintext: {plaintext}\")\n",
    "print(f\"Ciphertext: {ciphered_text}\")"
   ]
  },
  {
   "cell_type": "markdown",
   "metadata": {},
   "source": [
    "### `Practice#6` Write a code to decrypt the Caesar cipher"
   ]
  },
  {
   "cell_type": "code",
   "execution_count": 66,
   "metadata": {},
   "outputs": [],
   "source": [
    "# code here\n",
    "def caesar_decrypt(ciphtertext, shift):\n",
    "    plaintext = \"\"\n",
    "\n",
    "    for char in ciphtertext:\n",
    "        if char.isalpha():\n",
    "            # Determine whether the character is uppercase or lowercase\n",
    "            is_upper = char.isupper()\n",
    "            # Apply the Caesar Cipher shift\n",
    "            decrypted_char = chr(((ord(char) - ord('A' if is_upper else 'a') - shift) % 26) + ord('A' if is_upper else 'a'))\n",
    "            plaintext += decrypted_char\n",
    "        \n",
    "        else:\n",
    "            plaintext += char\n",
    "\n",
    "\n",
    "    return plaintext"
   ]
  },
  {
   "cell_type": "markdown",
   "metadata": {},
   "source": [
    "### Then try to decrypt these ciphered text (try to guess the key for each encryption) <br>"
   ]
  },
  {
   "cell_type": "markdown",
   "metadata": {},
   "source": [
    "1. Mjcj rb j wnf xru\n",
    "2. Byanjm uxen nenahfqnan hxd px\n",
    "3. Lizsvmaa kivvwb lzqdm wcb lizsvmaa: wvtg tqopb kiv lw bpib\n",
    "\n",
    "__hint__: key is the range of 1 to 15\n"
   ]
  },
  {
   "cell_type": "markdown",
   "metadata": {},
   "source": [
    "### Text 1"
   ]
  },
  {
   "cell_type": "code",
   "execution_count": 67,
   "metadata": {},
   "outputs": [
    {
     "name": "stdout",
     "output_type": "stream",
     "text": [
      "Libi qa i vme wqt\n",
      "Khah pz h uld vps\n",
      "Jgzg oy g tkc uor\n",
      "Ifyf nx f sjb tnq\n",
      "Hexe mw e ria smp\n",
      "Gdwd lv d qhz rlo\n",
      "Fcvc ku c pgy qkn\n",
      "Ebub jt b ofx pjm\n",
      "Data is a new oil\n",
      "Czsz hr z mdv nhk\n",
      "Byry gq y lcu mgj\n",
      "Axqx fp x kbt lfi\n",
      "Zwpw eo w jas keh\n",
      "Yvov dn v izr jdg\n",
      "Xunu cm u hyq icf\n"
     ]
    }
   ],
   "source": [
    "text = \"Mjcj rb j wnf xru\"\n",
    "\n",
    "for key in range(1,16):\n",
    "    print(caesar_decrypt(text,key))"
   ]
  },
  {
   "cell_type": "markdown",
   "metadata": {},
   "source": [
    "#### In conclusion, The Shift Key is 9 and the real text is \"Data is a new oil\""
   ]
  },
  {
   "cell_type": "markdown",
   "metadata": {},
   "source": [
    "### Text 2"
   ]
  },
  {
   "cell_type": "code",
   "execution_count": 68,
   "metadata": {},
   "outputs": [
    {
     "name": "stdout",
     "output_type": "stream",
     "text": [
      "Axzmil twdm mdmzgepmzm gwc ow\n",
      "Zwylhk svcl lclyfdolyl fvb nv\n",
      "Yvxkgj rubk kbkxecnkxk eua mu\n",
      "Xuwjfi qtaj jajwdbmjwj dtz lt\n",
      "Wtvieh pszi izivcalivi csy ks\n",
      "Vsuhdg oryh hyhubzkhuh brx jr\n",
      "Urtgcf nqxg gxgtayjgtg aqw iq\n",
      "Tqsfbe mpwf fwfszxifsf zpv hp\n",
      "Spread love everywhere you go\n",
      "Roqdzc knud dudqxvgdqd xnt fn\n",
      "Qnpcyb jmtc ctcpwufcpc wms em\n",
      "Pmobxa ilsb bsbovtebob vlr dl\n",
      "Olnawz hkra aranusdana ukq ck\n",
      "Nkmzvy gjqz zqzmtrczmz tjp bj\n",
      "Mjlyux fipy ypylsqbyly sio ai\n"
     ]
    }
   ],
   "source": [
    "text2 = \"Byanjm uxen nenahfqnan hxd px\"\n",
    "\n",
    "for key in range(1,16):\n",
    "    print(caesar_decrypt(text2,key))"
   ]
  },
  {
   "cell_type": "markdown",
   "metadata": {},
   "source": [
    "#### In conclusion, The Shift Key is 9 and the real text is \"Spread love everywhere you go\""
   ]
  },
  {
   "cell_type": "markdown",
   "metadata": {},
   "source": [
    "### Text 3"
   ]
  },
  {
   "cell_type": "code",
   "execution_count": 69,
   "metadata": {},
   "outputs": [
    {
     "name": "stdout",
     "output_type": "stream",
     "text": [
      "Khyrulzz jhuuva kypcl vba khyrulzz: vusf spnoa jhu kv aoha\n",
      "Jgxqtkyy igttuz jxobk uaz jgxqtkyy: utre romnz igt ju zngz\n",
      "Ifwpsjxx hfssty iwnaj tzy ifwpsjxx: tsqd qnlmy hfs it ymfy\n",
      "Hevoriww gerrsx hvmzi syx hevoriww: srpc pmklx ger hs xlex\n",
      "Gdunqhvv fdqqrw gulyh rxw gdunqhvv: rqob oljkw fdq gr wkdw\n",
      "Fctmpguu ecppqv ftkxg qwv fctmpguu: qpna nkijv ecp fq vjcv\n",
      "Ebsloftt dboopu esjwf pvu ebsloftt: pomz mjhiu dbo ep uibu\n",
      "Darkness cannot drive out darkness: only light can do that\n",
      "Czqjmdrr bzmmns cqhud nts czqjmdrr: nmkx khfgs bzm cn sgzs\n",
      "Bypilcqq ayllmr bpgtc msr bypilcqq: mljw jgefr ayl bm rfyr\n",
      "Axohkbpp zxkklq aofsb lrq axohkbpp: lkiv ifdeq zxk al qexq\n",
      "Zwngjaoo ywjjkp znera kqp zwngjaoo: kjhu hecdp ywj zk pdwp\n",
      "Yvmfiznn xviijo ymdqz jpo yvmfiznn: jigt gdbco xvi yj ocvo\n",
      "Xulehymm wuhhin xlcpy ion xulehymm: ihfs fcabn wuh xi nbun\n",
      "Wtkdgxll vtgghm wkbox hnm wtkdgxll: hger ebzam vtg wh matm\n"
     ]
    }
   ],
   "source": [
    "text3 = \"Lizsvmaa kivvwb lzqdm wcb lizsvmaa: wvtg tqopb kiv lw bpib\"\n",
    "\n",
    "for key in range(1,16):\n",
    "    print(caesar_decrypt(text3,key))"
   ]
  },
  {
   "cell_type": "markdown",
   "metadata": {},
   "source": [
    "#### In conclusion, The Shift Key is 8 and the real text is \n",
    "#### \"Darkness cannot drive out darkness: only light can do that\""
   ]
  },
  {
   "cell_type": "markdown",
   "metadata": {},
   "source": [
    "---"
   ]
  },
  {
   "cell_type": "markdown",
   "metadata": {},
   "source": [
    "<div style=\"color:greenyellow;\">นายศวิษฐ์ โกสียอัมพร 65070506026</div>"
   ]
  }
 ],
 "metadata": {
  "kernelspec": {
   "display_name": "Python 3",
   "language": "python",
   "name": "python3"
  },
  "language_info": {
   "codemirror_mode": {
    "name": "ipython",
    "version": 3
   },
   "file_extension": ".py",
   "mimetype": "text/x-python",
   "name": "python",
   "nbconvert_exporter": "python",
   "pygments_lexer": "ipython3",
   "version": "3.11.4"
  },
  "orig_nbformat": 4
 },
 "nbformat": 4,
 "nbformat_minor": 2
}
