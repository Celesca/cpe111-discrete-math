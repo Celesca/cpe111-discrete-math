{
 "cells": [
  {
   "cell_type": "markdown",
   "metadata": {},
   "source": [
    "![AlternativeLogo-eng.png](data:image/png;base64,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)"
   ]
  },
  {
   "cell_type": "markdown",
   "metadata": {},
   "source": [
    "# CPE111/ISY202\n",
    "# Session10: Trees\n",
    "## Topic"
   ]
  },
  {
   "cell_type": "markdown",
   "metadata": {},
   "source": [
    "* Binary Trees and Binary Trees Implementation\n",
    "* Tree Traversal\n",
    "    * Depth-First Search\n",
    "        * pre-order\n",
    "        * in-order\n",
    "        * post-order\n",
    "    * Breadth-First Search\n",
    "    \n",
    "    \n",
    "* Heap\n",
    "* Binary Search Tree"
   ]
  },
  {
   "cell_type": "markdown",
   "metadata": {},
   "source": [
    "---"
   ]
  },
  {
   "cell_type": "markdown",
   "metadata": {},
   "source": [
    "## Binary Trees and Binary Trees Implementation"
   ]
  },
  {
   "cell_type": "markdown",
   "metadata": {},
   "source": [
    "__A binary tree__ is a data structure in which every node or vertex has at most two children. <br>\n",
    "__A binary tree__ can be represented in various ways e.g; with some data structures and class representations for a node."
   ]
  },
  {
   "cell_type": "code",
   "execution_count": 2,
   "metadata": {},
   "outputs": [
    {
     "name": "stdout",
     "output_type": "stream",
     "text": [
      "10\n",
      "/\n",
      "3\n",
      "/\n",
      "12\n",
      "\\\n",
      "4\n"
     ]
    }
   ],
   "source": [
    "# Example code: Simple Binary Tree Class implementation\n",
    "class BinaryTree:\n",
    "   def __init__(self,Rootobj):\n",
    "      self.key = Rootobj\n",
    "      self.leftChild = None\n",
    "      self.rightChild = None\n",
    "      \n",
    "   def insertLeft(self,newNode):\n",
    "      if self.leftChild == None:\n",
    "         self.leftChild = BinaryTree(newNode)\n",
    "      else:\n",
    "         t = BinaryTree(newNode)\n",
    "         t.leftChild = self.leftChild\n",
    "         self.leftChild = t\n",
    "   \n",
    "   def insertRight(self,newNode):\n",
    "      if self.rightChild == None:\n",
    "         self.rightChild = BinaryTree(newNode)\n",
    "      else:\n",
    "         t = BinaryTree(newNode)\n",
    "         t.rightChild = self.rightChild\n",
    "         self.rightChild = t\n",
    "\n",
    "# Print the tree\n",
    "   def PrintTree(self):\n",
    "      print(self.key)\n",
    "\n",
    "      if self.leftChild:\n",
    "         print(\"/\")\n",
    "         self.leftChild.PrintTree()\n",
    "      \n",
    "      if self.rightChild:\n",
    "         print(\"\\\\\")\n",
    "         self.rightChild.PrintTree()\n",
    "\n",
    "\n",
    "root = BinaryTree(10)\n",
    "root.insertLeft(12)\n",
    "root.insertLeft(3)\n",
    "root.insertRight(4)\n",
    "root.PrintTree()"
   ]
  },
  {
   "cell_type": "markdown",
   "metadata": {},
   "source": [
    "### BinaryTree Module"
   ]
  },
  {
   "cell_type": "markdown",
   "metadata": {},
   "source": [
    "### Binarytree: Python Library for Studying Binary Trees\n",
    "Binarytree is Python library which lets you generate, visualize, inspect and manipulate __binary trees__. Skip the tedious work of setting up test data, and dive straight into practising algorithms. __Heaps__ and __binary search trees__ are also supported. Self-balancing search trees like red-black or AVL will be added in the future.\n",
    "\n",
    "https://binarytree.readthedocs.io/en/main/#\n"
   ]
  },
  {
   "cell_type": "code",
   "execution_count": 3,
   "metadata": {},
   "outputs": [],
   "source": [
    "# Install binary tree module\n",
    "#!pip install binarytree "
   ]
  },
  {
   "cell_type": "markdown",
   "metadata": {},
   "source": [
    "| Class | Description | Examples |\n",
    "| --- | --- | --- |\n",
    "| binarytree.Node | Represents a binary tree node | binarytree.Node(3)"
   ]
  },
  {
   "cell_type": "code",
   "execution_count": 4,
   "metadata": {},
   "outputs": [
    {
     "name": "stdout",
     "output_type": "stream",
     "text": [
      "Binary tree : \n",
      "     10\n",
      "    /  \\\n",
      "  _3    4\n",
      " /\n",
      "12\n",
      "\n",
      "List of nodes : [Node(10), Node(3), Node(4), Node(12)]\n",
      "Inorder of nodes : [Node(12), Node(3), Node(10), Node(4)]\n",
      "Size of tree : 4\n",
      "Height of tree : 2\n",
      "Properties of tree : \n",
      " {'height': 2, 'size': 4, 'is_max_heap': False, 'is_min_heap': False, 'is_perfect': False, 'is_strict': False, 'is_complete': True, 'leaf_count': 2, 'min_node_value': 3, 'max_node_value': 12, 'min_leaf_depth': 1, 'max_leaf_depth': 2, 'is_balanced': True, 'is_bst': False, 'is_symmetric': False}\n"
     ]
    }
   ],
   "source": [
    "from binarytree import Node \n",
    "root = Node(10) # ตามด้วยข้อมูลของมัน\n",
    "root.left = Node(3) \n",
    "root.right = Node(4)\n",
    "root.left.left = Node(12)\n",
    "  \n",
    "# Getting binary tree \n",
    "print('Binary tree :', root) \n",
    "  \n",
    "# Getting list of nodes \n",
    "print('List of nodes :', list(root)) \n",
    "  \n",
    "# Getting inorder of nodes \n",
    "print('Inorder of nodes :', root.inorder) \n",
    "  \n",
    "# Checking tree properties \n",
    "print('Size of tree :', root.size) \n",
    "print('Height of tree :', root.height) \n",
    "  \n",
    "# Get all properties at once \n",
    "print('Properties of tree : \\n', root.properties) \n"
   ]
  },
  {
   "cell_type": "markdown",
   "metadata": {},
   "source": [
    "---"
   ]
  },
  {
   "cell_type": "markdown",
   "metadata": {},
   "source": [
    "Value can be int, float, or str"
   ]
  },
  {
   "cell_type": "code",
   "execution_count": 5,
   "metadata": {},
   "outputs": [
    {
     "name": "stdout",
     "output_type": "stream",
     "text": [
      "\n",
      "    __A__\n",
      "   /     \\\n",
      "  B       C\n",
      " / \\     / \\\n",
      "D   E   F   G\n",
      "\n"
     ]
    }
   ],
   "source": [
    "from binarytree import Node\n",
    "myTree = Node(\"A\")\n",
    "myTree.left = Node(\"B\")\n",
    "myTree.right = Node(\"C\")\n",
    "myTree.left.left = Node(\"D\")\n",
    "myTree.left.right = Node(\"E\")\n",
    "myTree.right.left = Node(\"F\")\n",
    "myTree.right.right = Node(\"G\")\n",
    "\n",
    "print(myTree)"
   ]
  },
  {
   "cell_type": "markdown",
   "metadata": {},
   "source": [
    "`Practice#1` Try to create this binary tree  <br>\n",
    "<br>\n",
    "<img src=\"BinaryTree.png\" alt=\"BinaryTree\" width=\"400\"/>"
   ]
  },
  {
   "cell_type": "code",
   "execution_count": 6,
   "metadata": {},
   "outputs": [
    {
     "name": "stdout",
     "output_type": "stream",
     "text": [
      "\n",
      "    ____A__\n",
      "   /       \\\n",
      "  B__       C__\n",
      " /   \\     /   \\\n",
      "D     E   F     G\n",
      "     /         / \\\n",
      "    H         I   J\n",
      "\n"
     ]
    }
   ],
   "source": [
    "from binarytree import Node\n",
    "\n",
    "root = Node(\"A\")\n",
    "root.left = Node(\"B\")\n",
    "root.left.left = Node(\"D\")\n",
    "root.left.right = Node(\"E\")\n",
    "root.left.right.left = Node(\"H\")\n",
    "root.right = Node(\"C\")\n",
    "root.right.left = Node(\"F\")\n",
    "root.right.right = Node(\"G\")\n",
    "root.right.right.left = Node(\"I\")\n",
    "root.right.right.right = Node(\"J\")\n",
    "\n",
    "print(root)"
   ]
  },
  {
   "cell_type": "markdown",
   "metadata": {},
   "source": [
    "---"
   ]
  },
  {
   "cell_type": "markdown",
   "metadata": {},
   "source": [
    "### Delete Node, Get Node, Set Value"
   ]
  },
  {
   "cell_type": "code",
   "execution_count": 7,
   "metadata": {},
   "outputs": [
    {
     "name": "stdout",
     "output_type": "stream",
     "text": [
      "\n",
      "  1\n",
      " / \\\n",
      "2   3\n",
      "\n",
      "\n",
      "  1\n",
      " /\n",
      "2\n",
      "\n"
     ]
    }
   ],
   "source": [
    "from binarytree import Node\n",
    "\n",
    "root = Node(1)          # index: 0, value: 1\n",
    "root.left = Node(2)     # index: 1, value: 2\n",
    "root.right = Node(3)    # index: 2, value: 3\n",
    "\n",
    "print(root)\n",
    "\n",
    "# delete Node3 with index:2\n",
    "del root[2]\n",
    "print(root)\n"
   ]
  },
  {
   "cell_type": "markdown",
   "metadata": {},
   "source": [
    "### Each node can be a sub tree"
   ]
  },
  {
   "cell_type": "code",
   "execution_count": 12,
   "metadata": {},
   "outputs": [
    {
     "name": "stdout",
     "output_type": "stream",
     "text": [
      "\n",
      "    __1__\n",
      "   /     \\\n",
      "  2       3\n",
      " / \\     / \\\n",
      "4   5   6   7\n",
      "\n",
      "\n",
      "  2\n",
      " / \\\n",
      "4   5\n",
      "\n",
      "\n",
      "  3\n",
      " / \\\n",
      "6   7\n",
      "\n"
     ]
    }
   ],
   "source": [
    "from binarytree import Node\n",
    "\n",
    "root = Node(1)       # index: 0, value: 1\n",
    "root.left = Node(2)  # index: 1, value: 2\n",
    "root.right = Node(3) # index: 2, value: 3\n",
    "root.left.left = Node(4) # index: 3, value: 4\n",
    "root.left.right = Node(5) # index: 4, value: 5\n",
    "root.right.left = Node(6) # index: 5, value: 6\n",
    "root.right.right = Node(7)# index: 6, value: 7\n",
    "\n",
    "print(root[0])\n",
    "print(root[1]) # left child - Sub Tree of root \n",
    "print(root[2]) # right child - Sub Tree of root "
   ]
  },
  {
   "cell_type": "code",
   "execution_count": 13,
   "metadata": {},
   "outputs": [],
   "source": [
    "from binarytree import Node\n",
    "\n",
    "root = Node(1)\n",
    "root.left = Node(2)\n",
    "root.left.left = Node(3)\n",
    "root.left.left.left = Node(4)\n",
    "root.left.left.right = Node(5)\n"
   ]
  },
  {
   "cell_type": "code",
   "execution_count": 14,
   "metadata": {},
   "outputs": [
    {
     "name": "stdout",
     "output_type": "stream",
     "text": [
      "\n",
      "        1\n",
      "       /\n",
      "    __2\n",
      "   /\n",
      "  3\n",
      " / \\\n",
      "4   5\n",
      "\n",
      "[Node(1), Node(2), Node(3), Node(4), Node(5)]\n",
      "[1, 2, None, 3, None, None, None, 4, 5]\n",
      "[1, 2, None, 3, None, 4, 5]\n"
     ]
    }
   ],
   "source": [
    "print(root)\n",
    "print(list(root))\n",
    "print(root.values) # ตัวไหนควรเป็น None เขาจะให้ออกมาหมดเลย\n",
    "print(root.values2) # ส่วนที่มันเป็น Value ที่ None 2 ตัวติด มันจะไม่ได้ปริ้นออกมา"
   ]
  },
  {
   "cell_type": "markdown",
   "metadata": {},
   "source": [
    "### Insert a node (or subtree) at the given level-order index.\n",
    "\n",
    "* An exception is raised if the parent node is missing.\n",
    "* Any existing node or subtree is overwritten.\n",
    "* Root node (current node) cannot be replaced."
   ]
  },
  {
   "cell_type": "code",
   "execution_count": 15,
   "metadata": {},
   "outputs": [
    {
     "name": "stdout",
     "output_type": "stream",
     "text": [
      "\n",
      "    1\n",
      "   /\n",
      "  2\n",
      " /\n",
      "6\n",
      "\n"
     ]
    }
   ],
   "source": [
    "root.left.left = Node(6) # ใส่ sub-tree เข้าไปใหม่ หายทั้งยวง\n",
    "print(root)"
   ]
  },
  {
   "cell_type": "code",
   "execution_count": 16,
   "metadata": {},
   "outputs": [
    {
     "name": "stdout",
     "output_type": "stream",
     "text": [
      "\n",
      "    K\n",
      "   / \\\n",
      "  M   U\n",
      " /     \\\n",
      "T       T\n",
      "\n"
     ]
    }
   ],
   "source": [
    "subtree = Node(\"K\")\n",
    "subtree.left = Node(\"M\")\n",
    "subtree.right = Node(\"U\")\n",
    "subtree.left.left = Node(\"T\")\n",
    "subtree.right.right = Node(\"T\")\n",
    "print(subtree)\n"
   ]
  },
  {
   "cell_type": "code",
   "execution_count": 17,
   "metadata": {},
   "outputs": [
    {
     "name": "stdout",
     "output_type": "stream",
     "text": [
      "\n",
      "    1____\n",
      "   /     \\\n",
      "  2       K\n",
      " /       / \\\n",
      "6       M   U\n",
      "       /     \\\n",
      "      T       T\n",
      "\n"
     ]
    }
   ],
   "source": [
    "root.right = subtree\n",
    "print(root)"
   ]
  },
  {
   "cell_type": "markdown",
   "metadata": {},
   "source": [
    "---"
   ]
  },
  {
   "cell_type": "markdown",
   "metadata": {},
   "source": [
    "## Tree Traversal <br>\n",
    "Refer to a linked list, the traversal is simple because we can start with the first node and follow the links through the next nodes, that there is only one next node. But for Tree, there is no single path from the root to every other node.\n"
   ]
  },
  {
   "cell_type": "markdown",
   "metadata": {},
   "source": [
    "__Depth-First Search__ <br>\n",
    "* Pre-order Traversal <br>\n",
    "    _root -> left -> right_ <br>\n",
    "* In-order Traversal <br>\n",
    "    _left -> root -> right_ <br>\n",
    "* Post-order Traversal<br>\n",
    "    _left -> right -> root_ <br>\n",
    "\n",
    "<br>\n",
    "\n",
    "__Breadth-First Search__ <br>\n",
    "    _root -> left -> right_ (by level)"
   ]
  },
  {
   "cell_type": "markdown",
   "metadata": {},
   "source": [
    "<br>\n",
    "<img src=\"BinaryTree.png\" alt=\"BinaryTree\" width=\"400\"/>"
   ]
  },
  {
   "cell_type": "markdown",
   "metadata": {},
   "source": [
    "Pre-order: [ A B D E H C F G I J ]  <br>\n",
    "In-order:  [ D B H E A F C I G J ]  <br>\n",
    "Post-order:[ D H E B F I J G C A ]  <br>\n",
    "Breadth-order: [ A B C D E F G H I J ]"
   ]
  },
  {
   "cell_type": "code",
   "execution_count": 18,
   "metadata": {},
   "outputs": [
    {
     "name": "stdout",
     "output_type": "stream",
     "text": [
      "\n",
      "    __1\n",
      "   /   \\\n",
      "  2     3\n",
      " / \\\n",
      "4   5\n",
      "\n",
      "Pre-order : [Node(1), Node(2), Node(4), Node(5), Node(3)]\n",
      "Post-order : [Node(4), Node(5), Node(2), Node(3), Node(1)]\n",
      "In-order : [Node(4), Node(2), Node(5), Node(1), Node(3)]\n",
      "Breadth-order: [Node(1), Node(2), Node(3), Node(4), Node(5)]\n"
     ]
    }
   ],
   "source": [
    "# Example Code: Tree Traversal with preorder, postorder, inorder methods\n",
    "from binarytree import Node\n",
    "\n",
    "root = Node(1)\n",
    "root.left = Node(2)\n",
    "root.right = Node(3)\n",
    "root.left.left = Node(4)\n",
    "root.left.right = Node(5)\n",
    "\n",
    "print(root)\n",
    "print(\"Pre-order :\",root.preorder)\n",
    "print(\"Post-order :\",root.postorder)\n",
    "print(\"In-order :\",root.inorder)\n",
    "print(\"Breadth-order:\", root.levelorder)"
   ]
  },
  {
   "cell_type": "markdown",
   "metadata": {},
   "source": [
    "---"
   ]
  },
  {
   "cell_type": "markdown",
   "metadata": {},
   "source": [
    "`Prectice#2` Tree Traveral for the binary tree from __Practice#1__"
   ]
  },
  {
   "cell_type": "markdown",
   "metadata": {},
   "source": [
    "<br>\n",
    "<img src=\"BinaryTree.png\" alt=\"BinaryTree\" width=\"400\"/>"
   ]
  },
  {
   "cell_type": "code",
   "execution_count": 19,
   "metadata": {},
   "outputs": [
    {
     "name": "stdout",
     "output_type": "stream",
     "text": [
      "\n",
      "    ____A__\n",
      "   /       \\\n",
      "  B__       C__\n",
      " /   \\     /   \\\n",
      "D     E   F     G\n",
      "     /         / \\\n",
      "    H         I   J\n",
      "\n"
     ]
    }
   ],
   "source": [
    "from binarytree import Node\n",
    "\n",
    "root = Node(\"A\")\n",
    "root.left = Node(\"B\")\n",
    "root.left.left = Node(\"D\")\n",
    "root.left.right = Node(\"E\")\n",
    "root.left.right.left = Node(\"H\")\n",
    "root.right = Node(\"C\")\n",
    "root.right.left = Node(\"F\")\n",
    "root.right.right = Node(\"G\")\n",
    "root.right.right.left = Node(\"I\")\n",
    "root.right.right.right = Node(\"J\")\n",
    "\n",
    "print(root)"
   ]
  },
  {
   "cell_type": "code",
   "execution_count": 24,
   "metadata": {},
   "outputs": [
    {
     "name": "stdout",
     "output_type": "stream",
     "text": [
      "Pre-order : [Node(A), Node(B), Node(D), Node(E), Node(H), Node(C), Node(F), Node(G), Node(I), Node(J)]\n",
      "Post-order : [Node(D), Node(H), Node(E), Node(B), Node(F), Node(I), Node(J), Node(G), Node(C), Node(A)]\n",
      "In-order : [Node(D), Node(B), Node(H), Node(E), Node(A), Node(F), Node(C), Node(I), Node(G), Node(J)]\n",
      "Breadth-order: [Node(A), Node(B), Node(C), Node(D), Node(E), Node(F), Node(G), Node(H), Node(I), Node(J)]\n"
     ]
    }
   ],
   "source": [
    "print(\"Pre-order :\",root.preorder)\n",
    "print(\"Post-order :\",root.postorder)\n",
    "print(\"In-order :\",root.inorder)\n",
    "print(\"Breadth-order:\", root.levelorder)"
   ]
  },
  {
   "cell_type": "markdown",
   "metadata": {},
   "source": [
    "---"
   ]
  },
  {
   "cell_type": "markdown",
   "metadata": {},
   "source": [
    "### Build tree from list"
   ]
  },
  {
   "cell_type": "markdown",
   "metadata": {},
   "source": [
    "| Function | Description | Example |\n",
    "| --- | --- | --- |\n",
    "|binarytree.build | Build a tree from list representation and return its root node |  root = build([1, 2, 3, None, 4]) | <br>\n",
    "\n",
    "Parameters:\n",
    "* __values ([float, int, str, None])__ – List representation of the binary tree, which is a list of node values in breadth-first order starting from the root (current node). <br> \n",
    "* If a node is at index i, its left child is always at 2i + 1, right child at 2i + 2, and parent at floor((i - 1) / 2).<br> \n",
    "* “None” indicates absence of a node at that index."
   ]
  },
  {
   "cell_type": "code",
   "execution_count": 25,
   "metadata": {},
   "outputs": [
    {
     "name": "stdout",
     "output_type": "stream",
     "text": [
      "\n",
      "  ____1\n",
      " /     \\\n",
      "2__     3\n",
      "   \\\n",
      "    4\n",
      "   /\n",
      "  5\n",
      "\n"
     ]
    }
   ],
   "source": [
    "from binarytree import build\n",
    "\n",
    "root = build([1, 2, 3, None, 4, None, None, None, None, 5])\n",
    "print(root)"
   ]
  },
  {
   "cell_type": "markdown",
   "metadata": {},
   "source": [
    "| Function | Description | Example |\n",
    "| --- | --- | --- |\n",
    "|binarytree.build2 | Build a tree from list representation and return its root node |  root = build2([1, 2, 3, None, 4]) | <br>\n",
    "\n",
    "<br>\n",
    "Parameters: <br>\n",
    "* __values ([float, int, str, None])__ – List representation of the binary tree, like __binarytree.build()__ but with a slightly different representation which associates two adjacent child values with the first parent value that has not been associated yet. <br> \n",
    "* This representation __does not__ provide the same indexing properties where if a node is at index i, its left child is always at 2i + 1, right child at 2i + 2, and parent at floor((i - 1) / 2), but it allows for more compact lists as it does not hold “None”s between nodes in each level"
   ]
  },
  {
   "cell_type": "code",
   "execution_count": 26,
   "metadata": {},
   "outputs": [
    {
     "name": "stdout",
     "output_type": "stream",
     "text": [
      "\n",
      "        2\n",
      "       /\n",
      "    __5\n",
      "   /\n",
      "  3\n",
      " / \\\n",
      "1   4\n",
      "\n"
     ]
    }
   ],
   "source": [
    "from binarytree import build2\n",
    "\n",
    "root = build2([2, 5, None, 3, None, 1, 4])\n",
    "print(root)"
   ]
  },
  {
   "cell_type": "markdown",
   "metadata": {},
   "source": [
    "---"
   ]
  },
  {
   "cell_type": "markdown",
   "metadata": {},
   "source": [
    "## Examples of various binary trees"
   ]
  },
  {
   "cell_type": "markdown",
   "metadata": {},
   "source": [
    "### A random Binary Tree\n",
    "* A binary tree is a tree in which each node can have at most two children.\n",
    "* One child is identified as the left child and the other as the right child\n",
    "\n",
    "| Function | Description | Example |\n",
    "| --- | --- | --- |\n",
    "|binarytree.tree | Generate a random binary tree and return its root node |  root = tree() |\n",
    "\n",
    "<br>\n",
    "<br>\n",
    "Parameters: <br>\n",
    "\n",
    "* __height (int)__ – Height of the tree (default: 3, range: 0 - 9 inclusive). <br>\n",
    "* __is_perfect (bool)__ – If set to True (default: False), a perfect binary tree with all levels filled is returned. If set to False, a perfect binary tree may still be generated by chance. <br>\n",
    "* __letters (bool)__ – If set to True (default: False), uppercase alphabet letters are used for node values instead of numbers."
   ]
  },
  {
   "cell_type": "code",
   "execution_count": 27,
   "metadata": {},
   "outputs": [
    {
     "name": "stdout",
     "output_type": "stream",
     "text": [
      "\n",
      "                                            ____________________________________________36________________________________________\n",
      "                                           /                                                                                      \\\n",
      "                      ____________________2____________________                                                  __________________26_____________________\n",
      "                     /                                         \\                                                /                                         \\\n",
      "           _________49________                        __________12_________                           _________0________                         __________28_________\n",
      "          /                   \\                      /                     \\                         /                  \\                       /                     \\\n",
      "     ____55__              ____31___             ___38___               ____32___               ____33__              ___47__              ____18___               ____56___\n",
      "    /        \\            /         \\           /        \\             /         \\             /        \\            /       \\            /         \\             /         \\\n",
      "  _43         24         61         _7        _5         _15         _16         _52         _13         25        _53        1         _14         _44         _20         _35\n",
      " /   \\       /  \\       /  \\       /  \\      /  \\       /   \\       /   \\       /   \\       /   \\       /  \\      /   \\      / \\       /   \\       /   \\       /   \\       /   \\\n",
      "34    29    3    45    8    41    62   46   27   10    21    19    57    54    11    39    50    42    4    51   37    6    9   60    40    58    17    30    23    48    59    22\n",
      "\n",
      "5\n",
      "True\n"
     ]
    }
   ],
   "source": [
    "from binarytree import tree\n",
    "\n",
    "root = tree(height=5, is_perfect=True)\n",
    "\n",
    "print(root)\n",
    "print(root.height)\n",
    "print(root.is_perfect)\n"
   ]
  },
  {
   "cell_type": "code",
   "execution_count": 28,
   "metadata": {},
   "outputs": [
    {
     "name": "stdout",
     "output_type": "stream",
     "text": [
      "\n",
      "      ____J__\n",
      "     /       \\\n",
      "    C__       H__\n",
      "   /   \\     /   \\\n",
      "  F     D   G     E\n",
      " /     /         /\n",
      "I     O         M\n",
      "\n",
      "3\n"
     ]
    }
   ],
   "source": [
    "from binarytree import tree\n",
    "\n",
    "root = tree(height=3, letters=True)\n",
    "\n",
    "print(root)\n",
    "print(root.height)"
   ]
  },
  {
   "cell_type": "markdown",
   "metadata": {},
   "source": [
    "---"
   ]
  },
  {
   "cell_type": "markdown",
   "metadata": {},
   "source": [
    "### A Max/Min Heap\n",
    "A Heap is a complete binary tree in which the nodes are organized based on their data entry values.\n",
    "\n",
    "\n",
    "Heap is a tree data structure that can be of two types:\n",
    "\n",
    "* __max heap__ <br>\n",
    "    A Max-heap has the property, known as the heap order property, that for each non-leaf node V , the value in V is greater than the value of its two children.\n",
    "    The largest value in a max-heap will always be stored in the root while the smallest values will be stored in the leaf nodes. \n",
    "\n",
    "* __min heap__ <br>\n",
    "    A Min-heap has the opposite property. For each non-leaf node V , the value in V is smaller than the value of its two children.\n",
    "\n",
    "<br>\n",
    "<img src=\"min_max_heap.png\" alt=\"Heap\" width=\"800\"/>\n",
    "\n",
    "| Function | Description | Example |\n",
    "| --- | --- | --- |\n",
    "|binarytree.heap | Generate a random heap and return its root node. |  root = heap(3, is_max = False) |\n",
    "\n",
    "<br>\n",
    "<br>\n",
    "Parameters: <br>\n",
    "\n",
    "* __height (int)__ – Height of the heap (default: 3, range: 0 - 9 inclusive).\n",
    "* __is_max (bool)__ – If set to True (default: True), generate a max heap. If set to False, generate a min heap. A binary tree with only the root node is considered both a min and max heap.\n",
    "* __is_perfect (bool)__ – If set to True (default: False), a perfect heap with all levels filled is returned. If set to False, a perfect heap may still be generated by chance.\n",
    "* __letters (bool)__ – If set to True (default: False), uppercase alphabet letters are used for node values instead of number"
   ]
  },
  {
   "cell_type": "code",
   "execution_count": 29,
   "metadata": {},
   "outputs": [
    {
     "name": "stdout",
     "output_type": "stream",
     "text": [
      "\n",
      "        ______14________\n",
      "       /                \\\n",
      "    __8__            ____13\n",
      "   /     \\          /      \\\n",
      "  7       6        12       4\n",
      " / \\     / \\      /  \\\n",
      "5   2   0   3    9    11\n",
      "\n",
      "3\n",
      "True\n"
     ]
    }
   ],
   "source": [
    "from binarytree import heap\n",
    "\n",
    "root = heap()\n",
    "\n",
    "print(root)\n",
    "print(root.height)\n",
    "print(root.is_max_heap)"
   ]
  },
  {
   "cell_type": "code",
   "execution_count": 31,
   "metadata": {},
   "outputs": [
    {
     "name": "stdout",
     "output_type": "stream",
     "text": [
      "\n",
      "                      _________2________\n",
      "                     /                  \\\n",
      "           _________4___              ___3___\n",
      "          /             \\            /       \\\n",
      "     ____6___           _16        _9        _7\n",
      "    /        \\         /   \\      /  \\      /  \\\n",
      "  _13        _14      20    19   10   25   24   28\n",
      " /   \\      /   \\\n",
      "23    15   27    17\n",
      "\n",
      "4\n",
      "True\n"
     ]
    }
   ],
   "source": [
    "from binarytree import heap\n",
    "\n",
    "root = heap(4, is_max=False)\n",
    "\n",
    "print(root)\n",
    "print(root.height)\n",
    "print(root.is_min_heap)"
   ]
  },
  {
   "cell_type": "code",
   "execution_count": 32,
   "metadata": {},
   "outputs": [
    {
     "name": "stdout",
     "output_type": "stream",
     "text": [
      "\n",
      "                                            ___________________________________________0____________________________________________\n",
      "                                           /                                                                                        \\\n",
      "                       ___________________1_____________________                                                _____________________4_____________________\n",
      "                      /                                         \\                                              /                                           \\\n",
      "           __________2_________                        __________3_________                         __________5_________                          __________9_________\n",
      "          /                    \\                      /                    \\                       /                    \\                        /                    \\\n",
      "     ____17___              ____6___             ____15___              ____8___              ____12___              ____10___              ____14___              ____11___\n",
      "    /         \\            /        \\           /         \\            /        \\            /         \\            /         \\            /         \\            /         \\\n",
      "  _23         _34        _28        _7        _19         _53        _44        _41        _13         _43        _22         _21        _29         _18        _32         _16\n",
      " /   \\       /   \\      /   \\      /  \\      /   \\       /   \\      /   \\      /   \\      /   \\       /   \\      /   \\       /   \\      /   \\       /   \\      /   \\       /   \\\n",
      "24    37    50    55   38    36   51   61   35    25    56    59   45    58   54    47   33    26    52    60   49    42    31    27   30    57    62    20   40    39    46    48\n",
      "\n",
      "5\n",
      "True\n",
      "True\n"
     ]
    }
   ],
   "source": [
    "from binarytree import heap\n",
    "\n",
    "root = heap(5, is_max=False, is_perfect=True)\n",
    "\n",
    "print(root)\n",
    "print(root.height)\n",
    "print(root.is_min_heap)\n",
    "print(root.is_perfect)"
   ]
  },
  {
   "cell_type": "markdown",
   "metadata": {},
   "source": [
    "---"
   ]
  },
  {
   "cell_type": "markdown",
   "metadata": {},
   "source": [
    "### A Binary Search Tree (BST)\n",
    "The binary search tree is a special type of tree data structure whose inorder gives a sorted list of nodes or vertices. <br>\n",
    "<br>\n",
    "A binary tree that each interior node V has: <br>\n",
    "\n",
    "* left subtree of V : All keys less than the key in node V\n",
    "* right subtree of V : All keys greater than the key in node V\n",
    "\n",
    "\n",
    "<br>\n",
    "<img src=\"bst.png\" alt=\"BinarySearchTree\" width=\"300\"/>\n",
    "\n",
    "<br>\n",
    "<br>\n",
    "\n",
    "| Function | Description | Example |\n",
    "| --- | --- | --- |\n",
    "|binarytree.bst | Generate a random BST (binary search tree) and return its root node.|  root = bst(3, is_perfect = True) |\n",
    "\n",
    "<br>\n",
    "<br>\n",
    "Parameters: <br>\n",
    "\t\n",
    "* __height (int)__ – Height of the BST (default: 3, range: 0 - 9 inclusive).\n",
    "* __is_perfect (bool)__ – If set to True (default: False), a perfect BST with all levels filled is returned. If set to False, a perfect BST may still be generated by chance.\n",
    "* __letters (bool)__ – If set to True (default: False), uppercase alphabet letters are used for node values instead of numbers"
   ]
  },
  {
   "cell_type": "code",
   "execution_count": null,
   "metadata": {},
   "outputs": [],
   "source": [
    "from binarytree import bst\n",
    "\n",
    "root = bst(5)\n",
    "\n",
    "print(root)\n",
    "print(root.height)\n",
    "print(root.is_bst)"
   ]
  },
  {
   "cell_type": "markdown",
   "metadata": {},
   "source": [
    "---"
   ]
  },
  {
   "cell_type": "markdown",
   "metadata": {},
   "source": [
    "`Practice#3` Summary\n",
    "* What are different between __heap__ and __bst__ ?\n",
    "* What are the applications of __heap__ ?\n",
    "* What are the applications of __bst__ ?"
   ]
  },
  {
   "cell_type": "markdown",
   "metadata": {},
   "source": [
    "### ความแตกต่างระหว่าง Heap และ BST\n",
    "- Heap คือ Complete Binary Tree แบ่งเป็น 2 ประเภท ได้แก่ Max Heap และ Min Heap\n",
    "1. Max Heap เป็น Tree ที่มีกฎคือ Node พ่อแม่ จะต้องมีค่ามากกว่า Node ลูกเสมอ ดังนั้น Node ราก จะมีค่าสูงสุดเสมอ\n",
    "2. Min Heap ตรงกันข้ามกับ Max Heap คือ Node พ่อแม่ต้องมีค่าน้อยกว่า Node ลูกเสมอ ดังนั้น Node รากจะมีค่าต่ำสุดเสมอเช่นกัน\n",
    "\n",
    "- Binary Search Tree (BST) คือ Binary Tree ที่มีกฎคือ Node ลูกซ้าย จะมีค่าน้อยกว่า Node พ่อแม่ และ Node ลูกขวา จะมีค่ามากกว่า Node พ่อแม่ \n",
    "\n",
    "### การประยุกต์ใช้ Heap\n",
    "- การประยุกต์ใช้ Heap จะเอาไปไว้ใช้หาค่าสูงสุดและต่ำสุดในชุดข้อมูล เพราะ Max Heap จะมีโหนดรากเป็นค่าสูงสุด และ Min Heap จะมีโหนดรากเป็นค่าต่ำสุด\n",
    "- ถึงแม้ว่าเราจะ Extract โหนดรากออกไป Heap ก็ยังมีกลไกที่จะทำให้โหนดรากมีค่าสูงสุดต่ำสุดอยู่เสมอ\n",
    "\n",
    "### การประยุกต์ใช้ BST\n",
    "- ยกตัวอย่าง กรณีที่เราต้องการเก็บข้อมูลแบบความสัมพันธ์ที่แตกต่างออกไปจากแบบลำดับ เช่น แผนผังครอบครัว,หรือประยุกต์ใช้ในการ Search ข้อมูล เพราะการค้นหาข้อมูล Linear ที่ต้อง Brute Force Index ซึ่งมี Time Complexity = O(n) เราสามารถ Sort ก่อนแล้วจึงเช็ค ว่าถ้าเกินแล้วไม่มีก็สามารถ Terminate ก่อนได้ แต่กระบวนการ Sort แล้วค่อย Search ที่ดีที่สุดก็ยังมี Time Complexity ประมาณ O(nlogn)\n",
    "- ถ้าหากเราใช้ Tree Data Structure เพื่อ Search อย่างเช่น BST เราจะสามารถหาข้อมูลโดยใช้เวลาเพียง O(logn) เพราะสามารถ Terminate ออกได้ถ้าไม่เจอ"
   ]
  },
  {
   "cell_type": "markdown",
   "metadata": {},
   "source": [
    "---"
   ]
  },
  {
   "cell_type": "markdown",
   "metadata": {},
   "source": [
    "<div style=\"color:greenyellow;\">นายศวิษฐ์ โกสียอัมพร 65070506026</div>"
   ]
  }
 ],
 "metadata": {
  "kernelspec": {
   "display_name": "Python 3",
   "language": "python",
   "name": "python3"
  },
  "language_info": {
   "codemirror_mode": {
    "name": "ipython",
    "version": 3
   },
   "file_extension": ".py",
   "mimetype": "text/x-python",
   "name": "python",
   "nbconvert_exporter": "python",
   "pygments_lexer": "ipython3",
   "version": "3.11.4"
  }
 },
 "nbformat": 4,
 "nbformat_minor": 2
}
