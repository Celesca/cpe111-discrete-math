{
 "cells": [
  {
   "cell_type": "markdown",
   "metadata": {},
   "source": [
    "![AlternativeLogo-eng.png](data:image/png;base64,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)"
   ]
  },
  {
   "cell_type": "markdown",
   "metadata": {},
   "source": [
    "# CPE111/ISY202"
   ]
  },
  {
   "cell_type": "markdown",
   "metadata": {},
   "source": [
    "# Session2: Logic\n",
    "## Topic\n",
    "- Propostional Logic\n",
    "- Propositional Equivalences\n",
    "- Predicates and Quantifiers\n",
    "- Nested Quantifiers\n",
    "- Rules of Interference"
   ]
  },
  {
   "cell_type": "markdown",
   "metadata": {},
   "source": [
    "---"
   ]
  },
  {
   "cell_type": "markdown",
   "metadata": {},
   "source": [
    "# Propositions\n",
    "A proposition is a declarative sentence (that is, a sentence that declares a fact) that is either  `True`  or  `False` , but not both"
   ]
  },
  {
   "cell_type": "markdown",
   "metadata": {},
   "source": [
    "ประโยคไหนเป็น จริง ประโยคไหนเป็น เท็จ หรือ ไม่สามารถบอกได้\n",
    "| No.| Sentence | จริง | เท็จ | ไม่สามารถบอกได้ |\n",
    "|---| ----------| :--: |:--: |:--: |\n",
    "| 1 | ประเทศไทยอยู่ในเอเชีย |<input type=\"checkbox\" checked=True> |<input type=\"checkbox\">|<input type=\"checkbox\">|\n",
    "| 2 | 5 > 7 |<input type=\"checkbox\"> |<input type=\"checkbox\" checked=True>|<input type=\"checkbox\">|\n",
    "| 3 | ขณะนี้ มีผู้หญิง 3,674.15 คนในกทม |<input type=\"checkbox\"> |<input type=\"checkbox\" checked=True>|<input type=\"checkbox\" >|\n",
    "| 4 | กินอะไรดี |<input type=\"checkbox\"> |<input type=\"checkbox\">|<input type=\"checkbox\" checked=True>|\n",
    "| 5 | x + 1 = 2 |<input type=\"checkbox\"> |<input type=\"checkbox\">|<input type=\"checkbox\" checked=True>|"
   ]
  },
  {
   "cell_type": "markdown",
   "metadata": {},
   "source": [
    "Let `p` and `q` be propositions.\n",
    "* The `negation of p`, denoted by `¬p`, is the statement “It is not the case that `p`”.  \n",
    "\n",
    "* The `conjunction of p and q`, denoted by `p∧q`, is the proposition `“p and q”`.   \n",
    "The conjunction `p∧q` is `true` when both `p` and `q` are `true` and is `false` otherwise  \n",
    "\n",
    "* The `disjunction of p and q`, denoted by `p∨q`, is the proposition `“p or q”`.   \n",
    "The disjunction `p∨q` is `false` when both `p` and `q` are `false` and is `true` otherwise  \n",
    "\n",
    "* The `exclusive-or of p and q`, denoted by `p⊕q`, is the proposition `p XOR q`.   \n",
    "The exclusive or `p⊕q` that is `true` when exactly one of `p` and `q` is `true` and is `false` otherwise"
   ]
  },
  {
   "cell_type": "markdown",
   "metadata": {},
   "source": [
    "---"
   ]
  },
  {
   "cell_type": "markdown",
   "metadata": {},
   "source": [
    "### Practice#1\n",
    "#### Create a Truth table with python code and using tabulate module\n",
    "* `negative of p` \n",
    "* `conjunction of p and q` \n",
    "* `disjunction of p and q`\n",
    "* `exclusive-or of P and q`\n",
    "\n",
    "Example:\n",
    "| p | q | ¬p | p∧q | p∨q | p⊕q|\n",
    "|---|---|---|---|---|---|\n",
    "|False|False|XXX|XXX|XXX|XXX|\n",
    "|False|True|XXX|XXX|XXX|XXX|\n",
    "|True|False|XXX|XXX|XXX|XXX|\n",
    "|True|True|XXX|XXX|XXX|XXX|"
   ]
  },
  {
   "cell_type": "code",
   "execution_count": 24,
   "metadata": {},
   "outputs": [
    {
     "name": "stdout",
     "output_type": "stream",
     "text": [
      "Requirement already satisfied: tabulate in c:\\users\\folks\\appdata\\local\\programs\\python\\python311\\lib\\site-packages (0.9.0)\n"
     ]
    },
    {
     "name": "stderr",
     "output_type": "stream",
     "text": [
      "\n",
      "[notice] A new release of pip is available: 23.1.2 -> 23.2.1\n",
      "[notice] To update, run: python.exe -m pip install --upgrade pip\n"
     ]
    }
   ],
   "source": [
    "# Hint# Install tabulate module first!!\n",
    "# !pip install tabulate\n",
    "!pip3 install tabulate"
   ]
  },
  {
   "cell_type": "code",
   "execution_count": 25,
   "metadata": {},
   "outputs": [
    {
     "name": "stdout",
     "output_type": "stream",
     "text": [
      "┌──────────┬──────────┬─────────────────────┐\n",
      "│ Planet   │   R (km) │   mass (x 10^29 kg) │\n",
      "├──────────┼──────────┼─────────────────────┤\n",
      "│ Sun      │   696000 │          1.9891e+09 │\n",
      "├──────────┼──────────┼─────────────────────┤\n",
      "│ Earth    │     6371 │       5973.6        │\n",
      "├──────────┼──────────┼─────────────────────┤\n",
      "│ Moon     │     1737 │         73.5        │\n",
      "├──────────┼──────────┼─────────────────────┤\n",
      "│ Mars     │     3390 │        641.85       │\n",
      "└──────────┴──────────┴─────────────────────┘\n"
     ]
    }
   ],
   "source": [
    "# This is Example of using tabulate module to display a table\n",
    "from tabulate import tabulate\n",
    "table_data = [[\"Planet\", \"R (km)\", \"mass (x 10^29 kg)\"],\n",
    "         [\"Sun\",696000,1989100000],\n",
    "         [\"Earth\",6371,5973.6],\n",
    "         [\"Moon\",1737,73.5],\n",
    "         [\"Mars\",3390,641.85]]\n",
    "\n",
    "table_format = \"simple_grid\"\n",
    "# 3 Parameter (ตัวข้อมูลทีั่จะมา Display , ส่วน header ของตาราง , บอก format ของ table_format )\n",
    "table = tabulate(table_data[1:], headers=table_data[0], tablefmt=table_format)\n",
    "\n",
    "print(table)"
   ]
  },
  {
   "cell_type": "code",
   "execution_count": 26,
   "metadata": {},
   "outputs": [
    {
     "name": "stdout",
     "output_type": "stream",
     "text": [
      "┌───────┬───────┬───────┬───────┬───────┬───────┐\n",
      "│ p     │ q     │ ¬p    │ p∧q   │ p∨q   │ p⊕q   │\n",
      "├───────┼───────┼───────┼───────┼───────┼───────┤\n",
      "│ False │ False │ True  │ False │ False │ False │\n",
      "├───────┼───────┼───────┼───────┼───────┼───────┤\n",
      "│ False │ True  │ True  │ False │ True  │ True  │\n",
      "├───────┼───────┼───────┼───────┼───────┼───────┤\n",
      "│ True  │ False │ False │ False │ True  │ True  │\n",
      "├───────┼───────┼───────┼───────┼───────┼───────┤\n",
      "│ True  │ True  │ False │ True  │ True  │ False │\n",
      "└───────┴───────┴───────┴───────┴───────┴───────┘\n"
     ]
    }
   ],
   "source": [
    "from tabulate import tabulate\n",
    "\n",
    "def negative(p):\n",
    "    return not p\n",
    "\n",
    "def conjunction(p, q):\n",
    "    return p and q\n",
    "\n",
    "def disjunction(p, q):\n",
    "    return p or q\n",
    "\n",
    "def exclusive_or(p, q):\n",
    "    return (p and not q) or (not p and q)\n",
    "\n",
    "# Create tables\n",
    "table = []\n",
    "for p in [False , True]:\n",
    "    for q in [False ,True]:\n",
    "        table.append([p, q, negative(p), conjunction(p,q), disjunction(p,q), exclusive_or(p,q)])\n",
    "\n",
    "headers = [\"p\", \"q\", \"¬p\", \"p∧q\",\"p∨q\",\"p⊕q\"]\n",
    "print(tabulate(table, headers=headers, tablefmt=\"simple_grid\"))"
   ]
  },
  {
   "cell_type": "markdown",
   "metadata": {},
   "source": [
    "---"
   ]
  },
  {
   "cell_type": "markdown",
   "metadata": {},
   "source": [
    "### Conditional Statements\n",
    "* The `conditional statement 𝑝 → 𝑞` is the proposition `“if 𝑝, then 𝑞”`   \n",
    "The `conditional statement 𝑝 → 𝑞` is `false` when `𝑝`` is true and 𝑞 is `false`, and `true` otherwise.\n",
    "* In `the conditional statement 𝑝 → 𝑞`,   \n",
    "`𝑝 is called the hypothesis (or antecedent or premise)` and \n",
    "`𝑞 is called the conclusion (or consequence)`.   \n",
    "\n",
    "* The `biconditional statement 𝑝 ↔ 𝑞` is the proposition `“𝑝 if and only if 𝑞”`   \n",
    "The `biconditional statement 𝑝 ↔ 𝑞` is `true` when `𝑝` and `𝑞` have the `same truth values (either True or False)`, and is `false` otherwise"
   ]
  },
  {
   "cell_type": "markdown",
   "metadata": {},
   "source": [
    "---"
   ]
  },
  {
   "cell_type": "markdown",
   "metadata": {},
   "source": [
    "### Practice#2\n",
    "#### Create a Truth table of with python code and using tabulate module\n",
    "* `the conditional statement 𝑝 → 𝑞`\n",
    "* `the biconditional statement 𝑝 ↔ 𝑞`\n",
    "\n",
    "Example:\n",
    "| p | q | 𝑝 → 𝑞 | 𝑝 ↔ 𝑞 |\n",
    "|---|---|---|---\n",
    "|False|False|XXX|XXX|\n",
    "|False|True|XXX|XXX|\n",
    "|True|False|XXX|XXX|\n",
    "|True|True|XXX|XXX|\n",
    "\n",
    "#Hint we have no `𝑝 → 𝑞` or `𝑝 ↔ 𝑞` in Python, we must use the other combination of __and, or, not__ instead"
   ]
  },
  {
   "cell_type": "code",
   "execution_count": 27,
   "metadata": {},
   "outputs": [
    {
     "name": "stdout",
     "output_type": "stream",
     "text": [
      "┌───────┬───────┬───────┬───────┐\n",
      "│ p     │ q     │ p→q   │ p↔q   │\n",
      "├───────┼───────┼───────┼───────┤\n",
      "│ False │ False │ True  │ True  │\n",
      "├───────┼───────┼───────┼───────┤\n",
      "│ False │ True  │ True  │ False │\n",
      "├───────┼───────┼───────┼───────┤\n",
      "│ True  │ False │ False │ False │\n",
      "├───────┼───────┼───────┼───────┤\n",
      "│ True  │ True  │ True  │ True  │\n",
      "└───────┴───────┴───────┴───────┘\n"
     ]
    }
   ],
   "source": [
    "# code here\n",
    "\n",
    "from tabulate import tabulate\n",
    "\n",
    "def conditional(p,q):\n",
    "    return (not p) or q\n",
    "\n",
    "def biconditional(p,q):\n",
    "    return ((not p) or q) and ((not q) or p)\n",
    "\n",
    "# Create tables\n",
    "table = []\n",
    "for p in [False , True]:\n",
    "    for q in [False ,True]:\n",
    "        table.append([p, q, conditional(p,q) , biconditional(p,q)])\n",
    "\n",
    "headers = [\"p\", \"q\", \"p→q\",\"p↔q\"]\n",
    "print(tabulate(table, headers=headers, tablefmt=\"simple_grid\"))\n"
   ]
  },
  {
   "cell_type": "code",
   "execution_count": null,
   "metadata": {},
   "outputs": [],
   "source": []
  },
  {
   "cell_type": "markdown",
   "metadata": {},
   "source": [
    "---"
   ]
  },
  {
   "cell_type": "markdown",
   "metadata": {},
   "source": [
    "### Practice#3\n",
    "#### Create a Truth table with python code and using tabulate module\n",
    "* `the compound proposition statement of   (𝑝 ∨ ¬𝑞) → (𝑝 ∧ 𝑞)`\n",
    "\n",
    "Example:\n",
    "| p | q | ¬𝑞 | 𝑝 ∨ ¬𝑞 |𝑝 ∧ 𝑞 |(𝑝 ∨ ¬𝑞) → (𝑝 ∧ 𝑞)|\n",
    "|---|---|---|---|---|---|\n",
    "|False|False|XXX|XXX|XXX|XXX|\n",
    "|False|True|XXX|XXX|XXX|XXX|\n",
    "|True|False|XXX|XXX|XXX|XXX|\n",
    "|True|True|XXX|XXX|XXX|XXX|"
   ]
  },
  {
   "cell_type": "code",
   "execution_count": 28,
   "metadata": {},
   "outputs": [
    {
     "name": "stdout",
     "output_type": "stream",
     "text": [
      "┌───────┬───────┬───────┬──────────┬─────────┬──────────────────────┐\n",
      "│ p     │ q     │ ¬𝑞    │ 𝑝 ∨ ¬𝑞   │ 𝑝 ∧ 𝑞   │ (𝑝 ∨ ¬𝑞) → (𝑝 ∧ 𝑞)   │\n",
      "├───────┼───────┼───────┼──────────┼─────────┼──────────────────────┤\n",
      "│ False │ False │ True  │ True     │ False   │ False                │\n",
      "├───────┼───────┼───────┼──────────┼─────────┼──────────────────────┤\n",
      "│ False │ True  │ False │ False    │ False   │ True                 │\n",
      "├───────┼───────┼───────┼──────────┼─────────┼──────────────────────┤\n",
      "│ True  │ False │ True  │ True     │ False   │ False                │\n",
      "├───────┼───────┼───────┼──────────┼─────────┼──────────────────────┤\n",
      "│ True  │ True  │ False │ True     │ True    │ True                 │\n",
      "└───────┴───────┴───────┴──────────┴─────────┴──────────────────────┘\n"
     ]
    }
   ],
   "source": [
    "from tabulate import tabulate\n",
    "\n",
    "# code here\n",
    "def negative(p):\n",
    "    return not p\n",
    "\n",
    "def column2(p,q):\n",
    "    return p or (not q)\n",
    "\n",
    "def column3(p,q):\n",
    "    return p and q\n",
    "\n",
    "def column4(p,q):\n",
    "    return (not column2(p,q)) or column3(p,q)\n",
    "\n",
    "# Create tables\n",
    "table = []\n",
    "for p in [False , True]:\n",
    "    for q in [False ,True]:\n",
    "        table.append([p, q, negative(q) , column2(p,q) , column3(p,q) , column4(p,q)])\n",
    "\n",
    "headers = [\"p\", \"q\", \"¬𝑞\",\"𝑝 ∨ ¬𝑞\" , \"𝑝 ∧ 𝑞\" , \"(𝑝 ∨ ¬𝑞) → (𝑝 ∧ 𝑞)\"]\n",
    "print(tabulate(table, headers=headers, tablefmt=\"simple_grid\"))"
   ]
  },
  {
   "cell_type": "code",
   "execution_count": null,
   "metadata": {},
   "outputs": [],
   "source": []
  },
  {
   "cell_type": "markdown",
   "metadata": {},
   "source": [
    "---"
   ]
  },
  {
   "cell_type": "markdown",
   "metadata": {},
   "source": [
    "# Propositional Equivalences\n",
    "* A compound proposition that is always `true`, no matter what the truth values of the propositional variables that occur in it, is called a `tautology`.\n",
    "* A compound proposition that is always `false` is called a `contradiction`.\n",
    "* A compound proposition that is neither a `tautology` nor a `contradiction` is called a `contingency`"
   ]
  },
  {
   "cell_type": "markdown",
   "metadata": {},
   "source": [
    "Run this code"
   ]
  },
  {
   "cell_type": "code",
   "execution_count": 29,
   "metadata": {},
   "outputs": [
    {
     "name": "stdout",
     "output_type": "stream",
     "text": [
      "Example of tautology (p∨¬p) and contradiction (p∧¬p)\n",
      "┌───────┬───────┬────────┬────────┐\n",
      "│ p     │ ¬p    │ p∨¬p   │ p∧¬p   │\n",
      "├───────┼───────┼────────┼────────┤\n",
      "│ False │ True  │ True   │ False  │\n",
      "├───────┼───────┼────────┼────────┤\n",
      "│ True  │ False │ True   │ False  │\n",
      "└───────┴───────┴────────┴────────┘\n"
     ]
    }
   ],
   "source": [
    "from tabulate import tabulate\n",
    "\n",
    "def negative(p):\n",
    "    return not p\n",
    "\n",
    "def conjunction(p, q):\n",
    "    return p and q\n",
    "\n",
    "def disjunction(p, q):\n",
    "    return p or q\n",
    "\n",
    "# Create tables\n",
    "table = []\n",
    "for p in [False , True]:\n",
    "        table.append([p, negative(p),disjunction(p,negative(p)),conjunction(p,negative(p))])\n",
    "\n",
    "headers = [\"p\", \"¬p\", \"p∨¬p\", \"p∧¬p\"]\n",
    "print(\"Example of tautology (p∨¬p) and contradiction (p∧¬p)\")\n",
    "print(tabulate(table, headers=headers, tablefmt=\"simple_grid\"))"
   ]
  },
  {
   "cell_type": "markdown",
   "metadata": {},
   "source": [
    "### Logical Equivalences\n",
    "* The compound propositions `𝑝` and `𝑞` are called `logically equivalent` if `𝑝 ↔ 𝑞` is a `tautology`.\n",
    "* The notation `𝑝 ≡ 𝑞` denotes that `𝑝` and `𝑞` are `logically equivalent`."
   ]
  },
  {
   "cell_type": "markdown",
   "metadata": {},
   "source": [
    "---"
   ]
  },
  {
   "cell_type": "markdown",
   "metadata": {},
   "source": [
    "### Practice#4\n",
    "#### Create a Truth table with python code and using tabulate module and\n",
    "#### Show that \n",
    "* `the compound proposition statement of ¬(𝑝 ∨ 𝑞) and ¬𝑝 ∧ ¬𝑞 are logically equivalent`\n",
    "\n",
    "Example:\n",
    "| p | q | ¬p | ¬𝑞 | 𝑝 ∨ 𝑞 |¬(𝑝 ∨ 𝑞)|¬𝑝 ∧ ¬𝑞| yes/no|\n",
    "|---|---|---|---|---|---|---|---|\n",
    "|False|False|XXX|XXX|XXX|XXX|XXX|XXX|\n",
    "|False|True|XXX|XXX|XXX|XXX|XXX|XXX|\n",
    "|True|False|XXX|XXX|XXX|XXX|XXX|XXX|\n",
    "|True|True|XXX|XXX|XXX|XXX|XXX|XXX|"
   ]
  },
  {
   "cell_type": "code",
   "execution_count": 30,
   "metadata": {},
   "outputs": [
    {
     "name": "stdout",
     "output_type": "stream",
     "text": [
      "┌───────┬───────┬───────┬───────┬─────────┬────────────┬───────────┬──────────┐\n",
      "│ p     │ q     │ ¬p    │ ¬𝑞    │ 𝑝 ∨ 𝑞   │ ¬(𝑝 ∨ 𝑞)   │ ¬𝑝 ∧ ¬𝑞   │ yes/no   │\n",
      "├───────┼───────┼───────┼───────┼─────────┼────────────┼───────────┼──────────┤\n",
      "│ False │ False │ True  │ True  │ False   │ True       │ True      │ YES      │\n",
      "├───────┼───────┼───────┼───────┼─────────┼────────────┼───────────┼──────────┤\n",
      "│ False │ True  │ True  │ False │ True    │ False      │ False     │ YES      │\n",
      "├───────┼───────┼───────┼───────┼─────────┼────────────┼───────────┼──────────┤\n",
      "│ True  │ False │ False │ True  │ True    │ False      │ False     │ YES      │\n",
      "├───────┼───────┼───────┼───────┼─────────┼────────────┼───────────┼──────────┤\n",
      "│ True  │ True  │ False │ False │ True    │ False      │ False     │ YES      │\n",
      "└───────┴───────┴───────┴───────┴─────────┴────────────┴───────────┴──────────┘\n"
     ]
    }
   ],
   "source": [
    "#code here\n",
    "from tabulate import tabulate\n",
    "\n",
    "def negative(p):\n",
    "        return not p\n",
    "\n",
    "def OR(p,q):\n",
    "        return p or q\n",
    "\n",
    "def AND(p,q):\n",
    "        return p and q\n",
    "\n",
    "def equals(p,q):\n",
    "        if p == q:\n",
    "               return \"YES\"\n",
    "        else:\n",
    "               return \"NO\"\n",
    "\n",
    "# Create tables\n",
    "table = []\n",
    "for p in [False , True]:\n",
    "    for q in [False ,True]:\n",
    "        table.append([p, q, negative(p) , negative(q) , OR(p,q) , negative(OR(p,q)) , AND(negative(p),negative(q)) , equals(negative(OR(p,q)) , AND(negative(p),negative(q)) ) ])\n",
    "\n",
    "headers = [\"p\" , \"q\" , \"¬p\" , \"¬𝑞\" , \"𝑝 ∨ 𝑞\" , \"¬(𝑝 ∨ 𝑞)\" , \"¬𝑝 ∧ ¬𝑞\" ,  \"yes/no\"]\n",
    "print(tabulate(table, headers=headers, tablefmt=\"simple_grid\"))\n"
   ]
  },
  {
   "cell_type": "code",
   "execution_count": null,
   "metadata": {},
   "outputs": [],
   "source": []
  },
  {
   "cell_type": "markdown",
   "metadata": {},
   "source": [
    "---"
   ]
  },
  {
   "cell_type": "markdown",
   "metadata": {},
   "source": [
    "### Practice#5\n",
    "#### Create a Truth table with python code and using tabulate module and\n",
    "#### Show that \n",
    "* `the compound proposition statement of 𝑝 ∨ (𝑞 ∧ 𝑟) and (𝑝 ∨ 𝑞) ∧ (𝑝 ∨ 𝑟) are logically equivalent`\n",
    "\n",
    "Example:\n",
    "| p | q | r | 𝑞 ∧ 𝑟 |𝑝 ∨ (𝑞 ∧ 𝑟)| 𝑝 ∨ 𝑞 | 𝑝 ∨ 𝑟 | (𝑝 ∨ 𝑞) ∧ (𝑝 ∨ 𝑟)| yes/no|\n",
    "|:---:|:---:|:---:|:---:|:---:|:---:|:---:|:---:|:---:|\n",
    "|False|False|False|XXX|XXX|XXX|XXX|XXX|XXX|\n",
    "|False|False|True|XXX|XXX|XXX|XXX|XXX|XXX|\n",
    "|False|True|False|XXX|XXX|XXX|XXX|XXX|XXX|\n",
    "|False|True|True|XXX|XXX|XXX|XXX|XXX|XXX|\n",
    "|True|False|False|XXX|XXX|XXX|XXX|XXX|XXX|\n",
    "|True|False|True|XXX|XXX|XXX|XXX|XXX|XXX|\n",
    "|True|True|False|XXX|XXX|XXX|XXX|XXX|XXX|\n",
    "|True|True|True|XXX|XXX|XXX|XXX|XXX|XXX|\n"
   ]
  },
  {
   "cell_type": "code",
   "execution_count": 31,
   "metadata": {},
   "outputs": [
    {
     "name": "stdout",
     "output_type": "stream",
     "text": [
      "┌───────┬───────┬───────┬─────────┬───────────────┬─────────┬─────────┬─────────────────────┬──────────┐\n",
      "│ p     │ q     │ r     │ 𝑞 ∧ 𝑟   │ 𝑝 ∨ (𝑞 ∧ 𝑟)   │ 𝑝 ∨ 𝑞   │ 𝑝 ∨ 𝑟   │ (𝑝 ∨ 𝑞) ∧ (𝑝 ∨ 𝑟)   │ yes/no   │\n",
      "├───────┼───────┼───────┼─────────┼───────────────┼─────────┼─────────┼─────────────────────┼──────────┤\n",
      "│ False │ False │ False │ False   │ False         │ False   │ False   │ False               │ YES      │\n",
      "├───────┼───────┼───────┼─────────┼───────────────┼─────────┼─────────┼─────────────────────┼──────────┤\n",
      "│ False │ False │ True  │ False   │ False         │ False   │ True    │ False               │ YES      │\n",
      "├───────┼───────┼───────┼─────────┼───────────────┼─────────┼─────────┼─────────────────────┼──────────┤\n",
      "│ False │ True  │ False │ False   │ False         │ True    │ False   │ False               │ YES      │\n",
      "├───────┼───────┼───────┼─────────┼───────────────┼─────────┼─────────┼─────────────────────┼──────────┤\n",
      "│ False │ True  │ True  │ True    │ True          │ True    │ True    │ True                │ YES      │\n",
      "├───────┼───────┼───────┼─────────┼───────────────┼─────────┼─────────┼─────────────────────┼──────────┤\n",
      "│ True  │ False │ False │ False   │ True          │ True    │ True    │ True                │ YES      │\n",
      "├───────┼───────┼───────┼─────────┼───────────────┼─────────┼─────────┼─────────────────────┼──────────┤\n",
      "│ True  │ False │ True  │ False   │ True          │ True    │ True    │ True                │ YES      │\n",
      "├───────┼───────┼───────┼─────────┼───────────────┼─────────┼─────────┼─────────────────────┼──────────┤\n",
      "│ True  │ True  │ False │ False   │ True          │ True    │ True    │ True                │ YES      │\n",
      "├───────┼───────┼───────┼─────────┼───────────────┼─────────┼─────────┼─────────────────────┼──────────┤\n",
      "│ True  │ True  │ True  │ True    │ True          │ True    │ True    │ True                │ YES      │\n",
      "└───────┴───────┴───────┴─────────┴───────────────┴─────────┴─────────┴─────────────────────┴──────────┘\n"
     ]
    }
   ],
   "source": [
    "#code here\n",
    "from tabulate import tabulate\n",
    "\n",
    "# \"𝑞 ∧ 𝑟\"\n",
    "def conjunction(q,r): \n",
    "    return q and r\n",
    "\n",
    "# \"𝑝 ∨ (𝑞 ∧ 𝑟)\"\n",
    "def operator1(p,q,r):\n",
    "    return p or (q and r)\n",
    "\n",
    "#  \"𝑝 ∨ 𝑞\" , \"𝑝 ∨ 𝑟\"  \n",
    "def disjunction(p,q):\n",
    "    return p or q\n",
    "\n",
    "#\"(𝑝 ∨ 𝑞) ∧ (𝑝 ∨ 𝑟)\"\n",
    "def operator2(p,q,r):\n",
    "    return disjunction(p,q) and disjunction(p,r)\n",
    "\n",
    "def summarize(first,second):\n",
    "    if first == second: return \"YES\"\n",
    "    else: return \"NO\"\n",
    "\n",
    "# Create tables\n",
    "table = []\n",
    "for p in [False , True]:\n",
    "    for q in [False ,True]:\n",
    "        for r in [False , True]:\n",
    "            table.append([p, q, r , conjunction(q,r) , operator1(p,q,r) , disjunction(p,q) , disjunction(p,r) , operator2(p,q,r) , summarize(operator1(p,q,r),operator2(p,q,r)) ])\n",
    "\n",
    "headers = [\"p\" , \"q\" , \"r\" , \"𝑞 ∧ 𝑟\" , \"𝑝 ∨ (𝑞 ∧ 𝑟)\" , \"𝑝 ∨ 𝑞\" , \"𝑝 ∨ 𝑟\" , \"(𝑝 ∨ 𝑞) ∧ (𝑝 ∨ 𝑟)\" , \"yes/no\"]\n",
    "print(tabulate(table, headers=headers, tablefmt=\"simple_grid\"))"
   ]
  },
  {
   "cell_type": "markdown",
   "metadata": {},
   "source": [
    "---"
   ]
  },
  {
   "cell_type": "markdown",
   "metadata": {},
   "source": [
    "### __Summary: Locical Equivalences__\n",
    "\n",
    "| Equivalence | Name|\n",
    "| :---: | :---:|\n",
    "| p &and; __T__ = p | Identify laws | \n",
    "| p &or; __F__ = p | Identify laws |\n",
    "| p &or; __T__ = __T__ |Domination laws|\n",
    "| p &and; __F__ = __F__ |Domination laws|\n",
    "| p &or; p = p | Idempotent laws |\n",
    "| p &and; p = p | Idempotent laws |\n",
    "| &not;(&not;p)=p | Double negation law |\n",
    "| p &or; q = q &or; p | Commutative laws |\n",
    "| p &and; q = q &and; p | Commutative laws |\n",
    "   \n",
    "   \n",
    "more\n",
    "| Equivalence | Name|\n",
    "| :---: | :---:|\n",
    "| (p &or; q) &or; r = p &or; (q &or; r) |Associative laws|\n",
    "| (p &and; q) &and; r = p &and; (q &and; r)|Associative laws|\n",
    "| p &or; (q &and; r) = (p &or; q) &and; (p &or; r) |Distributive laws|\n",
    "| p &and; (q &or; r) = (p &and; q) &or; (p &and; r) |Distributive laws|\n",
    "|&not;(p &and; q) = &not;p &or; &not;q |De Morgan's laws|\n",
    "|&not;(p &or; q) = &not;p &and; &not;q |De Morgan's laws|\n",
    "|p &or; (p &and; q) = p |Absorption laws|\n",
    "|p &and; (p &or; q) = p |Absorption laws|\n",
    "|p &or; &not;p = __T__ |Negation laws|\n",
    "|p ^ &not;p = __F__ |Negation laws|\n",
    "\n",
    "\n"
   ]
  },
  {
   "cell_type": "markdown",
   "metadata": {},
   "source": [
    "### __Summary: Logical Equvalences involving Conditional Statements and Biconditional Statements__\n",
    "|Condition statments|\n",
    "|:---:|\n",
    "|p &rarr; q = &not;p &or; q|\n",
    "|p &rarr; q = &not;q &rarr; &not;p|\n",
    "|p &or; q = &not;p &rarr; q|\n",
    "|p &and; q = &not;(p &rarr; &not;q)|\n",
    "|&not;(p &rarr; q) = p &and; &not;q|\n",
    "|(p &rarr; q) &and; (p &rarr; r) = p &rarr; (q &and; r)|\n",
    "|(p &rarr; r) &and; (q &rarr; r) = (p &or; q) &rarr; r|\n",
    "|(p &rarr; q) &or; (p &rarr; r) = p &rarr; (q &or; r)|\n",
    "|(p &rarr; r) &or; (q &rarr; r) = (p &and; q) &rarr; r|\\\n",
    "\n",
    "and\n",
    "     \n",
    "|Bicondition statement|\n",
    "|:---:|\n",
    "| p &harr; q = (p &rarr; q) &and; (q &rarr; p)|\n",
    "| p &harr; q = &not;p &harr; &not;q |\n",
    "| p &harr; q = (p &and; q) &or; (&not;p &and; &not;q)|\n",
    "|&not;(p &harr; q) = p &harr; &not;q |\n"
   ]
  },
  {
   "cell_type": "markdown",
   "metadata": {},
   "source": [
    "---"
   ]
  },
  {
   "cell_type": "markdown",
   "metadata": {},
   "source": [
    "### Practice#6\n",
    "#### Create a Truth table with python code and using tabulate module and\n",
    "#### Show that \n",
    "* `the compound proposition statement of ¬(𝑝 → 𝑞) and 𝑝 ∧ ¬𝑞  are logically equivalent`"
   ]
  },
  {
   "cell_type": "code",
   "execution_count": 32,
   "metadata": {},
   "outputs": [
    {
     "name": "stdout",
     "output_type": "stream",
     "text": [
      "┌───────┬───────┬────────────┬──────────┬──────────┐\n",
      "│ p     │ q     │ ¬(𝑝 → 𝑞)   │ 𝑝 ∧ ¬𝑞   │ yes/no   │\n",
      "├───────┼───────┼────────────┼──────────┼──────────┤\n",
      "│ False │ False │ False      │ False    │ YES      │\n",
      "├───────┼───────┼────────────┼──────────┼──────────┤\n",
      "│ False │ True  │ False      │ False    │ YES      │\n",
      "├───────┼───────┼────────────┼──────────┼──────────┤\n",
      "│ True  │ False │ True       │ True     │ YES      │\n",
      "├───────┼───────┼────────────┼──────────┼──────────┤\n",
      "│ True  │ True  │ False      │ False    │ YES      │\n",
      "└───────┴───────┴────────────┴──────────┴──────────┘\n"
     ]
    }
   ],
   "source": [
    "#code here\n",
    "\n",
    "from tabulate import tabulate\n",
    "\n",
    "def conditional(p,q):\n",
    "    return (not p) or q\n",
    "def operator1(p,q):\n",
    "    return not conditional(p,q)\n",
    "def operator2(p,q):\n",
    "    return p and (not q)\n",
    "def summarize(p,q):\n",
    "    op1 = operator1(p,q)\n",
    "    op2 = operator2(p,q)\n",
    "    if op1 == op2:\n",
    "        return 'YES'\n",
    "    else:\n",
    "        return 'NO'\n",
    "\n",
    "# Create tables\n",
    "table = []\n",
    "for p in [False , True]:\n",
    "    for q in [False ,True]:\n",
    "        table.append([p, q, operator1(p,q) , operator2(p,q) , summarize(p,q) ])\n",
    "\n",
    "headers = [\"p\" , \"q\" , \"¬(𝑝 → 𝑞)\" , \"𝑝 ∧ ¬𝑞\" ,  \"yes/no\"]\n",
    "print(tabulate(table, headers=headers, tablefmt=\"simple_grid\"))"
   ]
  },
  {
   "cell_type": "code",
   "execution_count": null,
   "metadata": {},
   "outputs": [],
   "source": []
  },
  {
   "cell_type": "markdown",
   "metadata": {},
   "source": [
    "---"
   ]
  },
  {
   "cell_type": "markdown",
   "metadata": {},
   "source": [
    "### Practice#7\n",
    "#### Create a Truth table with python code and using tabulate module and\n",
    "#### Show that \n",
    "* `the compound proposition statement of ¬(𝑝 ∨ (¬𝑝 ∧ 𝑞)) and ¬𝑝 ∧ ¬𝑞 are logically equivalent`"
   ]
  },
  {
   "cell_type": "code",
   "execution_count": 33,
   "metadata": {},
   "outputs": [
    {
     "name": "stdout",
     "output_type": "stream",
     "text": [
      "┌───────┬───────┬────────────┬──────────────────┬───────────────────┬───────────┬──────────┐\n",
      "│ p     │ q     │ (¬𝑝 ∧ 𝑞)   │ (𝑝 ∨ (¬𝑝 ∧ 𝑞))   │ ¬(𝑝 ∨ (¬𝑝 ∧ 𝑞))   │ ¬𝑝 ∧ ¬𝑞   │ yes/no   │\n",
      "├───────┼───────┼────────────┼──────────────────┼───────────────────┼───────────┼──────────┤\n",
      "│ False │ False │ False      │ False            │ True              │ True      │ YES      │\n",
      "├───────┼───────┼────────────┼──────────────────┼───────────────────┼───────────┼──────────┤\n",
      "│ False │ True  │ True       │ True             │ False             │ False     │ YES      │\n",
      "├───────┼───────┼────────────┼──────────────────┼───────────────────┼───────────┼──────────┤\n",
      "│ True  │ False │ False      │ True             │ False             │ False     │ YES      │\n",
      "├───────┼───────┼────────────┼──────────────────┼───────────────────┼───────────┼──────────┤\n",
      "│ True  │ True  │ False      │ True             │ False             │ False     │ YES      │\n",
      "└───────┴───────┴────────────┴──────────────────┴───────────────────┴───────────┴──────────┘\n"
     ]
    }
   ],
   "source": [
    "#code here\n",
    "\n",
    "from tabulate import tabulate\n",
    "\n",
    "def negative(p):\n",
    "    return not p\n",
    "\n",
    "def OR(p,q):\n",
    "    return p or q\n",
    "\n",
    "def AND(p,q):\n",
    "    return p and q\n",
    "\n",
    "def conditional(p,q):\n",
    "    return (not p) or q\n",
    "\n",
    "def operator1(p,q):\n",
    "    return not (OR(p, AND(negative(p) , q)))\n",
    "\n",
    "def operator2(p,q):\n",
    "    return AND(negative(p) , negative(q))\n",
    "\n",
    "def summarize(p,q):\n",
    "    if operator1(p,q) == operator2(p,q): return \"YES\"\n",
    "    else: return \"NO\"\n",
    "\n",
    "# Create tables\n",
    "table = []\n",
    "for p in [False , True]:\n",
    "    for q in [False ,True]:\n",
    "        table.append([p, q, AND(negative(p) , q) , not operator1(p,q) , operator1(p,q) , operator2(p,q) , summarize(p,q)])\n",
    "\n",
    "headers = [\"p\" , \"q\" , \"(¬𝑝 ∧ 𝑞)\" , \"(𝑝 ∨ (¬𝑝 ∧ 𝑞))\" , \"¬(𝑝 ∨ (¬𝑝 ∧ 𝑞))\" , \"¬𝑝 ∧ ¬𝑞\" ,  \"yes/no\"]\n",
    "print(tabulate(table, headers=headers, tablefmt=\"simple_grid\"))\n"
   ]
  },
  {
   "cell_type": "code",
   "execution_count": null,
   "metadata": {},
   "outputs": [],
   "source": []
  },
  {
   "cell_type": "markdown",
   "metadata": {},
   "source": [
    "---"
   ]
  },
  {
   "cell_type": "markdown",
   "metadata": {},
   "source": [
    "### Practice#8\n",
    "#### Create a Truth table with python code and using tabulate module and\n",
    "#### Show that \n",
    "* `the compound proposition statement of  (𝑝 ∧ 𝑞) → (𝑝 ∨ 𝑞) is a tautology`"
   ]
  },
  {
   "cell_type": "code",
   "execution_count": 34,
   "metadata": {},
   "outputs": [
    {
     "name": "stdout",
     "output_type": "stream",
     "text": [
      "┌───────┬───────┬───────────┬───────────┬─────────────────────┐\n",
      "│ p     │ q     │ (𝑝 ∧ 𝑞)   │ (𝑝 ∨ 𝑞)   │ (𝑝 ∧ 𝑞) → (𝑝 ∨ 𝑞)   │\n",
      "├───────┼───────┼───────────┼───────────┼─────────────────────┤\n",
      "│ False │ False │ False     │ False     │ True                │\n",
      "├───────┼───────┼───────────┼───────────┼─────────────────────┤\n",
      "│ False │ True  │ False     │ True      │ True                │\n",
      "├───────┼───────┼───────────┼───────────┼─────────────────────┤\n",
      "│ True  │ False │ False     │ True      │ True                │\n",
      "├───────┼───────┼───────────┼───────────┼─────────────────────┤\n",
      "│ True  │ True  │ True      │ True      │ True                │\n",
      "└───────┴───────┴───────────┴───────────┴─────────────────────┘\n",
      "In conclusion, (𝑝 ∧ 𝑞) → (𝑝 ∨ 𝑞) are is the tautology.\n"
     ]
    }
   ],
   "source": [
    "# code here\n",
    "from tabulate import tabulate\n",
    "\n",
    "# Functions\n",
    "def conjunction(p,q):\n",
    "    return p and q\n",
    "\n",
    "def disjunction(p,q):\n",
    "    return p or q\n",
    "\n",
    "def conditional(p,q):\n",
    "    return (not p) or q\n",
    "\n",
    "# Create tables\n",
    "table = []\n",
    "summarize_list = []\n",
    "for p in [False , True]:\n",
    "    for q in [False ,True]:\n",
    "        summarize_list.append(conditional(conjunction(p,q), disjunction(p,q)))\n",
    "        table.append([p , q , conjunction(p,q) , disjunction(p,q) , conditional(conjunction(p,q), disjunction(p,q) ) ])\n",
    "\n",
    "\n",
    "\n",
    "# Check Tautology\n",
    "for element in summarize_list:\n",
    "    if element == False:\n",
    "        result = \"aren't\"\n",
    "        break\n",
    "else:\n",
    "    result = \"are\"\n",
    "\n",
    "headers = [\"p\" , \"q\" , \"(𝑝 ∧ 𝑞)\" , \"(𝑝 ∨ 𝑞)\" ,\"(𝑝 ∧ 𝑞) → (𝑝 ∨ 𝑞)\"]\n",
    "print(tabulate(table, headers=headers, tablefmt=\"simple_grid\"))\n",
    "print(f\"In conclusion, (𝑝 ∧ 𝑞) → (𝑝 ∨ 𝑞) {result} is the tautology.\")"
   ]
  },
  {
   "cell_type": "code",
   "execution_count": null,
   "metadata": {},
   "outputs": [],
   "source": []
  },
  {
   "cell_type": "markdown",
   "metadata": {},
   "source": [
    "---"
   ]
  },
  {
   "cell_type": "markdown",
   "metadata": {},
   "source": [
    "# Predicates and Quantifiers"
   ]
  },
  {
   "cell_type": "markdown",
   "metadata": {},
   "source": [
    "### Predicates\n",
    "* The `predicate` refers to a property that the subject of the statement can have.\n",
    "<br> </br>\n",
    "* __Example:__ Let `𝑃(𝑥)` denote the statement “𝑥 > 3”.   \n",
    "<br> </br>\n",
    "What are the truth values of 𝑃(4) and 𝑃(2)?"
   ]
  },
  {
   "cell_type": "code",
   "execution_count": 35,
   "metadata": {},
   "outputs": [
    {
     "name": "stdout",
     "output_type": "stream",
     "text": [
      "True\n",
      "False\n"
     ]
    }
   ],
   "source": [
    "def P(x):\n",
    "    return x > 3\n",
    "\n",
    "print(P(4))\n",
    "print(P(2))"
   ]
  },
  {
   "cell_type": "markdown",
   "metadata": {},
   "source": [
    "* __Example:__ Let `𝑄(𝑥, 𝑦)` denote the statement “𝑥 = 𝑦 + 3”.    \n",
    "<br> </br>\n",
    "What are the truth values of the propositions 𝑄(1,2) and 𝑄(3,0) ?"
   ]
  },
  {
   "cell_type": "code",
   "execution_count": 36,
   "metadata": {},
   "outputs": [
    {
     "name": "stdout",
     "output_type": "stream",
     "text": [
      "False\n",
      "True\n"
     ]
    }
   ],
   "source": [
    "def Q(x,y):\n",
    "    return x == y + 3\n",
    "\n",
    "print(Q(1,2))\n",
    "print(Q(3,0))"
   ]
  },
  {
   "cell_type": "markdown",
   "metadata": {},
   "source": [
    "### Quantifiers\n",
    "`The universal quantification of 𝑃(𝑥)` is the statement “𝑃(𝑥) for all values of 𝑥 in the domain.”\n",
    "<br></br>\n",
    "* The notation ∀𝑥𝑃(𝑥) denotes the universal quantification of 𝑃(𝑥).   \n",
    "Here `∀` is called the `universal quantifier`.\n",
    "<br></br>\n",
    "* We read `∀𝑥𝑃(𝑥)` as `“for all 𝑥𝑃(𝑥)”` or `“for every 𝑥𝑃(𝑥)”`.\n",
    "<br></br>\n",
    "* An element for which `𝑃(𝑥)` is `false` is called a `counterexample` to `∀𝑥𝑃(𝑥)`"
   ]
  },
  {
   "cell_type": "markdown",
   "metadata": {},
   "source": [
    "* __Example:__ Let 𝑃(𝑥) be the statement “𝑥 + 1 > 𝑥”.   \n",
    "<br></br>\n",
    "What is the truth value of the quantification ∀𝑥𝑃(𝑥), where the domain consists of all integer from 1 to 10?"
   ]
  },
  {
   "cell_type": "code",
   "execution_count": 37,
   "metadata": {},
   "outputs": [
    {
     "name": "stdout",
     "output_type": "stream",
     "text": [
      "True\n"
     ]
    }
   ],
   "source": [
    "def P(x):\n",
    "    return x + 1 > x\n",
    "\n",
    "def universal_quantifier(P,domain):\n",
    "    for each_x in domain:\n",
    "        if not P(each_x):\n",
    "            return False\n",
    "    return True\n",
    "\n",
    "domain = [1, 2, 3, 4, 5, 6, 7, 8, 9, 10]\n",
    "print(universal_quantifier(P,domain))"
   ]
  },
  {
   "cell_type": "markdown",
   "metadata": {},
   "source": [
    "`The existential quantification of 𝑃(𝑥)` is the proposition “There exists an element 𝑥 in the domain such that 𝑃(𝑥).”\n",
    "<br></br>\n",
    "* We use the notation `∃𝑥𝑃(𝑥)` for `the existential quantification of 𝑃(𝑥)`\n",
    "<br></br>\n",
    "* Here `∃` is called the `existential quantifier`"
   ]
  },
  {
   "cell_type": "markdown",
   "metadata": {},
   "source": [
    "* __Example:__ Let 𝑄(𝑥) denote the statement “𝑥 = 𝑥 + 1”. \n",
    "<br></br>\n",
    "What is the truth value of the quantification ∃𝑥𝑄(𝑥), where the domain consists of all integer from 1 to 10?"
   ]
  },
  {
   "cell_type": "code",
   "execution_count": 38,
   "metadata": {},
   "outputs": [
    {
     "name": "stdout",
     "output_type": "stream",
     "text": [
      "False\n"
     ]
    }
   ],
   "source": [
    "def Q(x):\n",
    "    return x == x + 1\n",
    "\n",
    "def existential_quantifier(Q,domain):\n",
    "    for each_x in domain:\n",
    "        if Q(each_x):\n",
    "            return True\n",
    "    return False\n",
    "\n",
    "domain = [1, 2, 3, 4, 5, 6, 7, 8, 9, 10]\n",
    "print(existential_quantifier(Q,domain))"
   ]
  },
  {
   "cell_type": "markdown",
   "metadata": {},
   "source": [
    "`Precedence of Quantifiers`\n",
    "* The quantifiers ∀ and ∃ have `higher precedence` than all logical operators from propositional calculus\n",
    "<br></br>\n",
    "* For example, `∀𝑥𝑃(𝑥) ∨ 𝑄(𝑥)` is the disjunction of `∀𝑥𝑃(𝑥)` and `𝑄(𝑥)`\n",
    "<br></br>\n",
    "* In other words, it means `(∀𝑥𝑃(𝑥)) ∨ 𝑄(𝑥)` rather than `∀𝑥(𝑃(𝑥) ∨ 𝑄(𝑥))`"
   ]
  },
  {
   "cell_type": "markdown",
   "metadata": {},
   "source": [
    "`Negating Quantified Expression`\n",
    "\n",
    "De Morgan's Laws for Quantifiers\n",
    "| Negation | Equivalent Statement | When is Negation True? | When False? |\n",
    "| :---: | :---: | :---: | :---: | \n",
    "| `¬∃𝑥𝑃(𝑥)`| `∀𝑥¬𝑃(𝑥)`| for every x, P(x) is false | There is an x for which P(x) is true |\n",
    "| `¬∀𝑥𝑃(𝑥)`| `∃𝑥¬𝑃(𝑥)`| There is an x for which P(x) is false | P(x) is true for every x |"
   ]
  },
  {
   "cell_type": "markdown",
   "metadata": {},
   "source": [
    "---"
   ]
  },
  {
   "cell_type": "markdown",
   "metadata": {},
   "source": [
    "### Practice#9\n",
    "What are the negations of these statements ?\n",
    "* ∀𝑥(𝑥<sup>2</sup> > 𝑥)\n",
    "* ∃𝑥(𝑥<sup>2</sup> = 2)\n",
    "<br></br>\n",
    "in the domain of all inteter from 1 to 10"
   ]
  },
  {
   "cell_type": "code",
   "execution_count": 39,
   "metadata": {},
   "outputs": [
    {
     "name": "stdout",
     "output_type": "stream",
     "text": [
      "False\n"
     ]
    }
   ],
   "source": [
    "# 1\n",
    "def P(x):\n",
    "    return x**2 > x\n",
    "\n",
    "def universal_quantifier(P,domain):\n",
    "    for each_x in domain:\n",
    "        if not P(each_x):\n",
    "            return False\n",
    "    return True\n",
    "\n",
    "domain = [1, 2, 3, 4, 5, 6, 7, 8, 9, 10]\n",
    "print(universal_quantifier(P,domain))"
   ]
  },
  {
   "cell_type": "code",
   "execution_count": 40,
   "metadata": {},
   "outputs": [
    {
     "name": "stdout",
     "output_type": "stream",
     "text": [
      "False\n"
     ]
    }
   ],
   "source": [
    "# 2\n",
    "def Q(x):\n",
    "    return x**2 == 2\n",
    "\n",
    "def existential_quantifier(Q,domain):\n",
    "    for each_x in domain:\n",
    "        if Q(each_x):\n",
    "            return True\n",
    "    return False\n",
    "\n",
    "domain = [1, 2, 3, 4, 5, 6, 7, 8, 9, 10]\n",
    "print(existential_quantifier(Q,domain))"
   ]
  },
  {
   "cell_type": "markdown",
   "metadata": {},
   "source": [
    "# Nested Quantifiers"
   ]
  },
  {
   "cell_type": "markdown",
   "metadata": {},
   "source": [
    "Understanding Statements Involving Nested Quantifiers\n",
    "<br></br>\n",
    "__Example:__ Translate this the statement   \n",
    "<br></br>\n",
    "`∀𝑥∀𝑦((𝑥 > 0) ∧ (𝑦 < 0) → (𝑥𝑦 < 0))`\n",
    "<br></br>\n",
    "where the domain for both variables consists of all real numbers"
   ]
  },
  {
   "cell_type": "markdown",
   "metadata": {},
   "source": [
    "Key your answer here"
   ]
  },
  {
   "cell_type": "markdown",
   "metadata": {},
   "source": []
  },
  {
   "cell_type": "markdown",
   "metadata": {},
   "source": [
    "#### to code for Statements Involving Nested Quantifiers\n",
    "`THINKING OF QUANTIFICATION AS LOOPS`\n",
    "<br><br>\n",
    "for examples:\n",
    "<br>\n",
    "* `∀𝑥∀𝑦𝑃(𝑥, 𝑦)`<br><br>\n",
    "* `∀𝑥∃𝑦𝑃(𝑥, 𝑦)`<br><br>\n",
    "* `∃𝑥∀𝑦𝑃(𝑥, 𝑦)`<br><br>\n",
    "* `∃𝑥∃𝑦𝑃(𝑥, 𝑦)`"
   ]
  },
  {
   "cell_type": "code",
   "execution_count": 41,
   "metadata": {},
   "outputs": [
    {
     "name": "stdout",
     "output_type": "stream",
     "text": [
      "The sum of all combinations is positive: True\n"
     ]
    }
   ],
   "source": [
    "# ∀𝑥∀𝑦𝑃(𝑥, 𝑦) for x + y > 0 when x is in domain [1,2,3] and y is in domain [4,5]\n",
    "def for_all_for_all(property_function, domain1, domain2):\n",
    "    for element1 in domain1:\n",
    "        for element2 in domain2:\n",
    "            if not property_function(element1, element2):\n",
    "                return False\n",
    "    return True\n",
    "\n",
    "# Example usage:\n",
    "# Property function that checks if the sum of two numbers is positive\n",
    "def sum_is_positive(num1, num2):\n",
    "    return num1 + num2 > 0\n",
    "\n",
    "# Domains of integers\n",
    "domain1 = [1, 2, 3]\n",
    "domain2 = [4, 5]\n",
    "\n",
    "result = for_all_for_all(sum_is_positive, domain1, domain2)\n",
    "print(\"The sum of all combinations is positive:\", result)\n"
   ]
  },
  {
   "cell_type": "code",
   "execution_count": 42,
   "metadata": {},
   "outputs": [
    {
     "name": "stdout",
     "output_type": "stream",
     "text": [
      "There exists a combination with an even product: True\n"
     ]
    }
   ],
   "source": [
    "# ∃𝑥∃𝑦𝑃(𝑥, 𝑦) for x * y is even number when x is in domain [1,2,3] and y is in domain [4,5]\n",
    "def exists_exists(property_function, domain1, domain2):\n",
    "    for element1 in domain1:\n",
    "        for element2 in domain2:\n",
    "            if property_function(element1, element2):\n",
    "                return True\n",
    "    return False\n",
    "\n",
    "# Example usage:\n",
    "# Property function that checks if the product of two numbers is even\n",
    "def product_is_even(num1, num2):\n",
    "    return (num1 * num2) % 2 == 0\n",
    "\n",
    "# Domains of integers\n",
    "domain1 = [1, 2, 3]\n",
    "domain2 = [4, 5]\n",
    "\n",
    "result = exists_exists(product_is_even, domain1, domain2)\n",
    "print(\"There exists a combination with an even product:\", result)\n"
   ]
  },
  {
   "cell_type": "code",
   "execution_count": 43,
   "metadata": {},
   "outputs": [
    {
     "name": "stdout",
     "output_type": "stream",
     "text": [
      "For all x, there exists y such that the sum is even: True\n"
     ]
    }
   ],
   "source": [
    "# ∀𝑥∃𝑦𝑃(𝑥, 𝑦) for x + y is even number when x is in domain [1,2,3] and y is in domain [4,5,6]\n",
    "# มีทุกค่าที่ทำให้ เงื่อนไข y เป็นจริง\n",
    "def for_all_exists(domain1, domain2, property_function):\n",
    "    for x in domain1:\n",
    "        exists_y = False\n",
    "        for y in domain2:\n",
    "            if property_function(x, y):\n",
    "                exists_y = True\n",
    "                break\n",
    "        if not exists_y:\n",
    "            return False\n",
    "    return True\n",
    "\n",
    "# Example usage:\n",
    "# Property function that checks if the sum of two numbers is even\n",
    "def sum_is_even(x, y):\n",
    "    return (x + y) % 2 == 0\n",
    "\n",
    "# Domains of integers\n",
    "domain1 = [1, 2, 3]\n",
    "domain2 = [4, 5, 6]\n",
    "\n",
    "result = for_all_exists(domain1, domain2, sum_is_even)\n",
    "print(\"For all x, there exists y such that the sum is even:\", result)\n"
   ]
  },
  {
   "cell_type": "code",
   "execution_count": 44,
   "metadata": {},
   "outputs": [
    {
     "name": "stdout",
     "output_type": "stream",
     "text": [
      "There exists an x such that the difference is positive for all y: False\n"
     ]
    }
   ],
   "source": [
    "# ∃𝑥∀𝑦𝑃(𝑥, 𝑦) for x - y > 0 when x is in domain [1,2,3] and y is in domain [4,5,6]\n",
    "# มีบางตัวที่ทำให้ เงื่อนไข y เป็นจริงทุกค่า\n",
    "def exists_for_all(domain1, domain2, property_function):\n",
    "    for x in domain1:\n",
    "        for y in domain2:\n",
    "            if not property_function(x, y):\n",
    "                break\n",
    "        else:\n",
    "            # This block will be executed if the loop completes without encountering a 'break'\n",
    "            return True\n",
    "    return False\n",
    "\n",
    "# Example usage:\n",
    "# Property function that checks if the difference of two numbers is positive\n",
    "def difference_is_positive(x, y):\n",
    "    return (x - y) > 0\n",
    "\n",
    "# Domains of integers\n",
    "domain1 = [1, 2, 3]\n",
    "domain2 = [4, 5, 6]\n",
    "\n",
    "result = exists_for_all(domain1, domain2, difference_is_positive)\n",
    "print(\"There exists an x such that the difference is positive for all y:\", result)\n"
   ]
  },
  {
   "cell_type": "markdown",
   "metadata": {},
   "source": [
    "### Summary: Quantifications of two variables\n",
    "| Statement | When True?| When False?|\n",
    "| :---: | :---: | :---: |\n",
    "| `∀𝑥∀𝑦𝑃(𝑥, 𝑦), ∀𝑦∀𝑥𝑃(𝑥, 𝑦)` | P(x,y) is true for every pair x,y | There is a pair x,y for which P(x,y) is false |\n",
    "| `∀𝑥∃𝑦𝑃(𝑥, 𝑦)` | For every x there is a y for which P (x,y) is true | There is an x such that P(x,y) is false for every y|\n",
    "| `∃𝑥∀𝑦𝑃(𝑥, 𝑦)` | There is an x for which P(x,y) is true for every y | For every x there is a y for which P(x,y) is false |\n",
    "| `∃𝑥∃𝑦𝑃(𝑥, 𝑦), ∃𝑦∃𝑥𝑃(𝑥, 𝑦)` | There is a pair x,y for which P(x,y) is true | P(x,y) is false for every pair x,y |\n",
    "\n"
   ]
  },
  {
   "cell_type": "markdown",
   "metadata": {},
   "source": [
    "---"
   ]
  },
  {
   "cell_type": "markdown",
   "metadata": {},
   "source": [
    "### Practice#10\n",
    "### Translating these Mathematical Statements into Statements Involving Nested Quantifiers and prove them by coding in python \n",
    "1. “The sum of two positive integers is always positive” into a logical expression.\n",
    "<br></br>\n",
    "2. “Every real number except zero has a multiplicative inverse.” (A multiplicative inverse of a\n",
    "real number 𝑥 is a real number y such that 𝑥𝑦 = 1.)"
   ]
  },
  {
   "cell_type": "markdown",
   "metadata": {},
   "source": [
    "<h2 style=\"font-size:16px;\">1. Sol ∀𝑥∀𝑦𝑃(𝑥, 𝑦) for x+y > 0 when x is in domain [1,2,3] and y is in domain [4,5] </h2>"
   ]
  },
  {
   "cell_type": "code",
   "execution_count": 45,
   "metadata": {},
   "outputs": [
    {
     "name": "stdout",
     "output_type": "stream",
     "text": [
      "The sum of two positive integers is always positive: True\n"
     ]
    }
   ],
   "source": [
    "# Domain 1 is the x domain\n",
    "# Domain 2 is the y domain\n",
    "from random import randint\n",
    "def for_all_for_all(domain1 , domain2 , condition_function):\n",
    "    for element1 in domain1:\n",
    "        for element2 in domain2:\n",
    "            if not condition_function(element1, element2):\n",
    "                return False\n",
    "    return True\n",
    "\n",
    "# Property function that checks if the sum of two numbers is positive\n",
    "def condition_function(num1, num2):\n",
    "    return (num1 + num2) > 0\n",
    "\n",
    "# Domains of integers (By Random Library)\n",
    "domain1 = [randint(1,20) for x in range(10)]\n",
    "domain2 = [randint(1,20) for y in range(10)]\n",
    "\n",
    "result = for_all_for_all(domain1, domain2, condition_function)\n",
    "print(\"The sum of two positive integers is always positive:\", result)"
   ]
  },
  {
   "cell_type": "markdown",
   "metadata": {},
   "source": [
    "<h1 style=\"font-size: 16px;\">2. ∀𝑥∃𝑦𝑃(𝑥, 𝑦) for x is real number and y is real number</h1>"
   ]
  },
  {
   "cell_type": "code",
   "execution_count": 46,
   "metadata": {},
   "outputs": [
    {
     "name": "stdout",
     "output_type": "stream",
     "text": [
      "For all x, there exists y that is the multiplicative inverse of x : True\n"
     ]
    }
   ],
   "source": [
    "# มีทุกค่าที่ทำให้ เงื่อนไข y เป็นจริง\n",
    "from random import randint\n",
    "def for_all_exists(domain1, domain2, property_function):\n",
    "    for x in domain1:\n",
    "        exists_y = False\n",
    "        for y in domain2:\n",
    "            if property_function(x, y):\n",
    "                exists_y = True\n",
    "                break\n",
    "        if not exists_y:\n",
    "            return False\n",
    "    return True\n",
    "\n",
    "# Property function that checks if the x has its own multiplicative inverse\n",
    "def multiplicative_inverse_check(x, y):\n",
    "    return x*y == 1\n",
    "\n",
    "# Domains of integers by Random to check all error\n",
    "\n",
    "domain1 , domain2 = [] , []\n",
    "for i in range(20):\n",
    "    rand_num = randint(-127,128)\n",
    "    if rand_num != 0:\n",
    "        domain1.append(rand_num)\n",
    "        domain2.append(1/rand_num)\n",
    "\n",
    "result = for_all_exists(domain1, domain2, multiplicative_inverse_check)\n",
    "print(\"For all x, there exists y that is the multiplicative inverse of x :\", result)"
   ]
  },
  {
   "cell_type": "markdown",
   "metadata": {},
   "source": [
    "---"
   ]
  },
  {
   "cell_type": "markdown",
   "metadata": {},
   "source": [
    "# Rules of Inference\n",
    "### Rules of Inference for Propositional Logic\n",
    "| Rule of Inference | Tautology | Name |\n",
    "| :---: | :---: | :---: |\n",
    "|p <br> p &#8594; q <br> &therefore; q | (p &and; (p &rarr; q)) &rarr;  q| Modus ponens |\n",
    "| &not; q <br> p &rarr; q <br> &therefore; &not; p| &not; q &and; (p &rarr; q) &rarr; &not; p| Modus tollens |\n",
    "| p &rarr; q <br> q &rarr; r <br> &therefore; p &rarr; r| ((p &rarr; q) &and; (q &rarr; r)) &rarr; (p &rarr; r)| Hypothetical syllogism|\n",
    "| p &or; q <br> &not; p <br> &therefore; q| ((p &or; q) &and; &not; p) &rarr; q| Disjunctive syllogism|\n",
    "| p <br> &therefore; p &or; q| p &rarr; (p &or; q)| Addition|\n",
    "| p &and; q <br> &therefore; p| (p &and; q) &rarr; p| Simplication|\n",
    "| p <br> q <br> &therefore; p &and; q| ((p) &and; (q)) &rarr; (p &and; q)| Conjunction|\n",
    "| p &or; q <br> &not;p &or; r <br> &therefore; q &or; r| ((p &or; q) &and; (&not;p &or; r)) &rarr; (q &or; r)| Resolution|\n"
   ]
  },
  {
   "cell_type": "markdown",
   "metadata": {},
   "source": [
    "### Using Rules of Inference to Build Arguments\n",
    "\n",
    "Example 1:Show that the premises\n",
    "\n",
    "* “It is not sunny this afternoon and it is colder than yesterday,” <br><br>\n",
    "* “We will go swimming only if it is sunny,” <br><br>\n",
    "* “If we do not go swimming, then we will take a canoe trip,” and <br><br>\n",
    "* “If we take a canoe trip, then we will be home by sunset” <br><br>\n",
    "\n",
    "lead to the conclusion “We will be home by sunset.”"
   ]
  },
  {
   "cell_type": "markdown",
   "metadata": {},
   "source": [
    "`Write down here`"
   ]
  },
  {
   "cell_type": "markdown",
   "metadata": {},
   "source": [
    "let \"It is sunny this afternoon\" is p \\\n",
    "let \"It is colder than yesterday\" is q \\\n",
    "let \"We will go swimming\" is r \\\n",
    "let \"We will take a canoe trip\" is s \\\n",
    "let \"We will be home by sunset\" is t \n",
    "\n",
    "(1) ¬p ^ q \\\n",
    "(2) r → p \\\n",
    "(3) ¬r → s \\\n",
    "(4) s → t \\\n",
    "Conclusion (5) t \\\n",
    "\n",
    "(1) Using the simplication to get \\\n",
    "(5) ¬p \\\n",
    "(2) and (5) Using the Modus tollens to get \\\n",
    "(6) ¬r \\\n",
    "(3) and (6) Using the Modus popnens to get \\\n",
    "(4) and (7) Using the Modus popnens to get t"
   ]
  },
  {
   "cell_type": "markdown",
   "metadata": {},
   "source": [
    "Example 2: Show that the premises \n",
    "* “If you send me an e-mail message, then I will finish writing the program,” <br><br>\n",
    "* “If you do not send me an e-mail message, then I will go to sleep early,” and <br><br>\n",
    "* “If I go to sleep early, then I will wake up feeling refreshed” <br><br>\n",
    "\n",
    "lead to the conclusion “If I do not finish writing the program, then I will wake up feeling refreshed.\""
   ]
  },
  {
   "cell_type": "markdown",
   "metadata": {},
   "source": [
    "`Write down here`"
   ]
  },
  {
   "cell_type": "markdown",
   "metadata": {},
   "source": [
    "อยู่ในการบ้านของอาจารย์สนั่นครับ"
   ]
  },
  {
   "cell_type": "markdown",
   "metadata": {},
   "source": [
    "### Rules of Inference for Quantified Statements\n",
    "| Rule of Inference | Name |\n",
    "| :--: | :--: |\n",
    "| &forall;xP(x) <br> &therefore; P(c)| Universal instantiation|\n",
    "| P(c) for an arbitrary c <br> &therefore; &forall;xP(x)| Universal generalization|\n",
    "| &exist;xP(x) <br> &therefore; P(c) for some element c| Existential instantiation |\n",
    "| P(c) for some element c <br> &therefore; &exist;xP(x)| Existential generalization|"
   ]
  },
  {
   "cell_type": "markdown",
   "metadata": {},
   "source": [
    "Example 1: Show that the premises\n",
    "* “Everyone in this discrete mathematics class has taken a course in computer science” and <br><br>\n",
    "* “Marla is a student in this class” <br><br>\n",
    "\n",
    "imply the conclusion “Marla has taken a course in computer science.”"
   ]
  },
  {
   "cell_type": "markdown",
   "metadata": {},
   "source": [
    "`Write down here`"
   ]
  },
  {
   "cell_type": "markdown",
   "metadata": {},
   "source": [
    "Let's determine first one.\n",
    "Everyone in this discrete mathematics class has taken a course in computer science. \\\n",
    "is \"&forall;xP(x)\" \\\n",
    "and the second one is \"Marla is a student in this class\"\n",
    "is \"P(C)\"\n",
    "\n",
    "In conclusion , Because of Marla is a student in this class , So she has taken a course in computer science.\n",
    "Using Universal instantiation."
   ]
  },
  {
   "cell_type": "markdown",
   "metadata": {},
   "source": [
    "Example 2: Show that the premises\n",
    "* “A student in this class has not read the book,” and <br><br>\n",
    "* “Everyone in this class passed the first exam” <br><br>\n",
    "\n",
    "imply the conclusion “Someone who passed the first exam has not read the book."
   ]
  },
  {
   "cell_type": "markdown",
   "metadata": {},
   "source": [
    "`write down here`"
   ]
  },
  {
   "cell_type": "markdown",
   "metadata": {},
   "source": [
    "Let's determine first one. \"A student in this class has not read the book,\" is P(C) \\\n",
    "and \"Everyone in this class passed the first exam\" is &forall;xP(x) \\\n",
    "In conclusion, Everyone in this class passed the first exam and there are a student in this class has not read \n",
    "the book. So, Someone who have passed the first exam hasn't read the book. Using Existential generalization."
   ]
  },
  {
   "cell_type": "markdown",
   "metadata": {},
   "source": [
    "***"
   ]
  }
 ],
 "metadata": {
  "kernelspec": {
   "display_name": "Python 3",
   "language": "python",
   "name": "python3"
  },
  "language_info": {
   "codemirror_mode": {
    "name": "ipython",
    "version": 3
   },
   "file_extension": ".py",
   "mimetype": "text/x-python",
   "name": "python",
   "nbconvert_exporter": "python",
   "pygments_lexer": "ipython3",
   "version": "3.11.4"
  },
  "orig_nbformat": 4
 },
 "nbformat": 4,
 "nbformat_minor": 2
}
