{
 "cells": [
  {
   "cell_type": "markdown",
   "metadata": {},
   "source": [
    "![AlternativeLogo-eng.png](data:image/png;base64,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)"
   ]
  },
  {
   "cell_type": "markdown",
   "metadata": {},
   "source": [
    "# CPE111/ISY202"
   ]
  },
  {
   "cell_type": "markdown",
   "metadata": {},
   "source": [
    "# Session5: Algorithm\n",
    "## Topic\n",
    "* Algorithms\n",
    "    * Pseudocode\n",
    "* Algorithm Approach\n",
    "    * Brute-Force Algorithm\n",
    "    * Divide and Conquer Algorithm\n",
    "    * Greedy Algorithm\n",
    "* Execution Time Experiment"
   ]
  },
  {
   "cell_type": "markdown",
   "metadata": {},
   "source": [
    "### Algorithm"
   ]
  },
  {
   "cell_type": "markdown",
   "metadata": {},
   "source": [
    "__Definition:__ An algorithm is a finite set of precise instructions for performing a computation or for solving a problem. <br>\n",
    "__Example:__ Describe an algorithm for finding the maximum value in a finite sequence of integers.\n",
    "### How to explain the idea of your algorithm"
   ]
  },
  {
   "cell_type": "markdown",
   "metadata": {},
   "source": [
    "#### Method#1 Explain with plain text and explain step by step:\n",
    "1. Set the temporary maximum equal to the first integer in the sequence. <br>\n",
    "<br>\n",
    "2. Compare the next integer in the sequence to the temporary maximum. <br>\n",
    "&nbsp; If it is larger than the temporary maximum, set the temporary maximum equal to this integer.\n",
    "<br> <br>\n",
    "3. Repeat the previous step if there are more integers. If not, stop.\n",
    "<br> <br>\n",
    "4. When the algorithm terminates, the temporary maximum is the largest integer in the sequence."
   ]
  },
  {
   "cell_type": "markdown",
   "metadata": {},
   "source": [
    "#### Method#2 Flow chart:\n",
    "<div style=\"background-color: white; width: 50%;\">\n",
    "    <img src=\"image.png\">\n",
    "</div>"
   ]
  },
  {
   "cell_type": "markdown",
   "metadata": {},
   "source": [
    "#### Method#3 Pseudocode\n",
    "__Procedure__ $findMax(a_1, a_2,...,a_n: integers)$ <br>\n",
    "$max := a_1$ <br>\n",
    "__for__ $i:= 2$ __to__ $n $<br>\n",
    "&nbsp;&nbsp;&nbsp; __if__ $max < a_i $ __then__ <br>\n",
    "&nbsp;&nbsp;&nbsp;&nbsp;&nbsp;$max:= a_i$ <br>\n",
    "__return__ $max${max is the large element}"
   ]
  },
  {
   "cell_type": "code",
   "execution_count": 3,
   "metadata": {},
   "outputs": [],
   "source": [
    "def findMax(a_list):\n",
    "    max_element = a_list[0]\n",
    "    for i in range(1,len(a_list)):\n",
    "        if max_element < a_list[i]:\n",
    "            max_element = a_list[i]\n",
    "    return max_element"
   ]
  },
  {
   "cell_type": "code",
   "execution_count": 4,
   "metadata": {},
   "outputs": [
    {
     "name": "stdout",
     "output_type": "stream",
     "text": [
      "[12, 45, 25, 61, 39, 99, 30, 48, 18, 22, 68, 23, 64, 15, 21, 69, 39, 81, 36, 3, 100, 81, 37, 75, 77, 89, 3, 70, 18, 75, 18, 95, 7, 78, 44, 5, 92, 61, 97, 92, 97, 27, 48, 67, 53, 51, 3, 31, 85, 11, 89, 53, 12, 18, 8, 70, 62, 44, 20, 75, 22, 46, 14, 1, 93, 5, 71, 49, 14, 84, 71, 9, 72, 99, 10, 91, 34, 86, 69, 91, 30, 3, 63, 19, 11, 80, 13, 13, 84, 60, 23, 21, 37, 47, 36, 84, 32, 70, 32, 69]\n",
      "maximum element is  100\n"
     ]
    }
   ],
   "source": [
    "from random import randint\n",
    "a_list = [randint(1,100) for _ in range(100)] # List Comprehension\n",
    "print(a_list)\n",
    "print(\"maximum element is \",findMax(a_list))"
   ]
  },
  {
   "cell_type": "markdown",
   "metadata": {},
   "source": [
    "---"
   ]
  },
  {
   "cell_type": "markdown",
   "metadata": {},
   "source": [
    "### `Practice1`\n",
    "#### Write code from this following pseudocode and test for your code<br>\n",
    "\n",
    "__function__ $findAverage(a_1, a_2,...,a_n : integers)$ <br>\n",
    "$sum := 0 $<br>\n",
    "__for__ $i:= 1 $ __to__ $n$ <br>\n",
    "&nbsp;&nbsp;&nbsp; $sum := sum + a_i $ <br>\n",
    "__return__ $sum / n $"
   ]
  },
  {
   "cell_type": "code",
   "execution_count": 5,
   "metadata": {},
   "outputs": [
    {
     "data": {
      "text/plain": [
       "45.09"
      ]
     },
     "execution_count": 5,
     "metadata": {},
     "output_type": "execute_result"
    }
   ],
   "source": [
    "def findAverage(b_list):\n",
    "    total_sum = 0\n",
    "    for i in range(len(b_list)):\n",
    "        total_sum += b_list[i]\n",
    "    return total_sum/len(b_list)\n",
    "\n",
    "from random import randint\n",
    "\n",
    "new_list = [randint(1,100) for x in range(100)]\n",
    "\n",
    "findAverage(new_list)"
   ]
  },
  {
   "cell_type": "markdown",
   "metadata": {},
   "source": [
    "### `Practice2`\n",
    "#### Write code from this following pseudocode and test for your code<br>\n",
    "\n",
    "__function__ $findSD(a_1, a_2,...,a_n : integers)$ <br>\n",
    "$sum := 0 $<br>\n",
    "$sum\\_of\\_square := 0$ <br>\n",
    "__for__ $i:= 1 $ __to__ $n$ <br>\n",
    "&nbsp;&nbsp;&nbsp; $sum := sum + a_i $ <br>\n",
    "&nbsp;&nbsp;&nbsp; $sum\\_of\\_square := sum\\_of\\_square + a_i ^2 $ <br>\n",
    "\n",
    "$mean = sum/n $ <br>\n",
    "$variance = (sum\\_of\\_square/n) - mean^2$ <br>\n",
    "\n",
    "__return__ $ \\sqrt{variance}$ {square root of varience}"
   ]
  },
  {
   "cell_type": "code",
   "execution_count": 6,
   "metadata": {},
   "outputs": [
    {
     "name": "stdout",
     "output_type": "stream",
     "text": [
      "28.34\n"
     ]
    }
   ],
   "source": [
    "import math\n",
    "import random\n",
    "\n",
    "def findSD(c_list):\n",
    "    total_sum = 0\n",
    "    sum_of_square = 0\n",
    "    for i in range(len(c_list)):\n",
    "        total_sum += c_list[i]\n",
    "        sum_of_square += (c_list[i])**2\n",
    "\n",
    "    mean = total_sum / len(c_list)\n",
    "    variance = (sum_of_square / len(c_list)) - (mean**2)\n",
    "\n",
    "    return math.sqrt(variance)\n",
    "\n",
    "new_list = [random.randint(1,100) for i in range(100)]\n",
    "result = round(findSD(new_list),2)\n",
    "print(result)"
   ]
  },
  {
   "cell_type": "markdown",
   "metadata": {},
   "source": [
    "### `Practice3`\n",
    "\n",
    "#### Write code from this following pseudocode and test for your code<br>\n",
    "\n",
    "__function__ $linear\\_search(x:integer, a_1, a_2,...,a_n : integers)$ <br>\n",
    "$i := 1 $<br>\n",
    "__while__ $i \\le n $ and $x \\neq a_i $<br>\n",
    "&nbsp;&nbsp;&nbsp; $i:= i + 1$ <br>\n",
    "__if__ $i \\le n $ __then__ $location:= i$ <br>\n",
    "__else__ $location := 0$ <br> \n",
    "__return__ $location$ {location is the subscript of the term that equals $x$ or is 0 if $x$ is not found} \n"
   ]
  },
  {
   "cell_type": "code",
   "execution_count": 7,
   "metadata": {},
   "outputs": [
    {
     "name": "stdout",
     "output_type": "stream",
     "text": [
      "-1\n"
     ]
    }
   ],
   "source": [
    "def linear_search(search , d_list):\n",
    "    i = 0\n",
    "    while i < len(d_list) and search != d_list[i]:\n",
    "        i += 1\n",
    "    if (i < len(d_list)): \n",
    "        location = i\n",
    "    else: \n",
    "        location = -1\n",
    "    return location\n",
    "\n",
    "final_list = [1,5,4,3,2,6,9,8,10,15]\n",
    "print(linear_search(55,final_list))"
   ]
  },
  {
   "cell_type": "markdown",
   "metadata": {},
   "source": [
    "---"
   ]
  },
  {
   "cell_type": "markdown",
   "metadata": {},
   "source": [
    "### Algorithm Approach (กลยุทธ์ที่ใช้ในการเขียนโปรแกรม)\n",
    "* Brute-Force Algorithm\n",
    "* Divide and Conquer Algorithm\n",
    "* Greedy Algorithm"
   ]
  },
  {
   "cell_type": "markdown",
   "metadata": {},
   "source": [
    "---"
   ]
  },
  {
   "cell_type": "markdown",
   "metadata": {},
   "source": [
    "### Brute-Force\n",
    "a straight forward approach to solving a problem, usually directly based on the problem statement and definitions of the concepts involved <br>\n",
    "__key characteristics of a brute force approach:__ <br>\n",
    "* __Exhaustive Search:__ Brute force considers every possible option or combination to find a solution. It doesn't rely on heuristics or shortcuts to eliminate choices.\n",
    "* __No Optimization:__ It doesn't attempt to optimize the search process by exploiting patterns or reducing the number of possibilities.\n",
    "* __Resource-Intensive:__ Brute force methods can be computationally expensive and time-consuming, especially when dealing with large problem spaces.\n",
    "* __Deterministic:__ The outcome of a brute force search is deterministic; it will always find the correct solution (if one exists) but may not do so efficiently.\n",
    "* __Applicability:__ Brute force is often used when there is no known algorithm or heuristic that can solve the problem more efficiently. It's a last resort in many cases.\n",
    "<br>\n",
    "\n",
    "__Examples of Brute-Force Approach__\n",
    "* Linear Search (Sequential search)\n",
    "* Bubble Sort\n",
    "* Insertion Sort\n",
    "\n"
   ]
  },
  {
   "cell_type": "markdown",
   "metadata": {},
   "source": [
    "* Crack Password ที่อยู่ใน Dictionary ดังนั้นเวลาเราตั้งรหัสผ่านอย่าตั้งชื่อง่ายๆใน Dictionary หรือ 1234 เพราะจะโดนแกะง่าย"
   ]
  },
  {
   "cell_type": "markdown",
   "metadata": {},
   "source": [
    "---"
   ]
  },
  {
   "cell_type": "markdown",
   "metadata": {},
   "source": [
    "__Algorithm__ BubbleSort (A [0..n-1]) <br>\n",
    "*// Sorts a given array by bubble sort* <br>\n",
    "__Input:__ An array A[0..n-1] of orderable elements <br>\n",
    "__Output:__ Array A[0..n-1] sorted in nondecreasing order <br>\n",
    "<br>\n",
    "1 __for__ i := 0 __to__ n-2 __do__ <br>\n",
    "2    __for__ j := 0 __to__ n-2-i __do__ <br>\n",
    "3            __if__ A[j+1] < A[j] <br>\n",
    "4                     swap A[j] and A[j+1] <br>\n"
   ]
  },
  {
   "cell_type": "code",
   "execution_count": 8,
   "metadata": {},
   "outputs": [],
   "source": [
    "# Example: Bubble Sort Algorithm\n",
    "def BubbleSort(A):\n",
    "    n = len(A)\n",
    "    for i in range(n-1): # \n",
    "        for j in range(n-1-i): # \n",
    "            if A[j+1] < A[j]:\n",
    "                A[j],A[j+1] = A[j+1], A[j]"
   ]
  },
  {
   "cell_type": "code",
   "execution_count": 9,
   "metadata": {},
   "outputs": [
    {
     "name": "stdout",
     "output_type": "stream",
     "text": [
      "Before Sort:\n",
      "[61, 28, 31, 62, 64, 74, 67, 94, 30, 73, 40, 5, 92, 52, 45, 89, 4, 98, 29, 21, 43, 56, 88, 82, 86, 25, 32, 84, 17, 95]\n",
      "---------------\n",
      "After Sort:\n",
      "[4, 5, 17, 21, 25, 28, 29, 30, 31, 32, 40, 43, 45, 52, 56, 61, 62, 64, 67, 73, 74, 82, 84, 86, 88, 89, 92, 94, 95, 98]\n",
      "---------------\n"
     ]
    }
   ],
   "source": [
    "from random import randint\n",
    "A = [randint(1,100) for _ in range(30)]\n",
    "print(\"Before Sort:\")\n",
    "print(A)\n",
    "print(\"---------------\")\n",
    "BubbleSort(A)\n",
    "print(\"After Sort:\")\n",
    "print(A)\n",
    "print(\"---------------\")"
   ]
  },
  {
   "cell_type": "markdown",
   "metadata": {},
   "source": [
    "---"
   ]
  },
  {
   "cell_type": "markdown",
   "metadata": {},
   "source": [
    "__Algorithm__ InsertionSort <br>\n",
    "__Input:__ An array $a_1,a_2,...,a_n$ <br>\n",
    "__Output:__ An array $a_1,a_2,...,a_n$ that sorted in ascending order <br>\n",
    "<br>\n",
    "\n",
    "__for__ $i := 2$ __to__ $n$ __do__ <br>\n",
    "&nbsp;&nbsp;&nbsp; $v := a_i$ <br>\n",
    "&nbsp;&nbsp;&nbsp; $j := i - 1$ <br>\n",
    "&nbsp;&nbsp;&nbsp; __while__ $j \\ge 1 $ and $a_j > v $ __do__ <br>\n",
    "&nbsp;&nbsp;&nbsp;&nbsp;&nbsp;&nbsp;&nbsp;&nbsp;&nbsp; $a_{j + 1} := a_j $ <br>\n",
    "&nbsp;&nbsp;&nbsp;&nbsp;&nbsp;&nbsp;&nbsp;&nbsp;&nbsp; $j:= j - 1$ <br>\n",
    "&nbsp;&nbsp;&nbsp; $a_{j+1} := v $"
   ]
  },
  {
   "cell_type": "code",
   "execution_count": 10,
   "metadata": {},
   "outputs": [],
   "source": [
    "# Example: Insertion Sort Algorithm\n",
    "def InsertionSort(A):\n",
    "    n = len(A)\n",
    "    for i in range(1,n):\n",
    "        v = A[i]\n",
    "        j = i\n",
    "        while j > 0 and v < A[j -1]:\n",
    "            A[j] = A[j - 1]\n",
    "            j -= 1\n",
    "        A[j] = v"
   ]
  },
  {
   "cell_type": "code",
   "execution_count": 11,
   "metadata": {},
   "outputs": [
    {
     "name": "stdout",
     "output_type": "stream",
     "text": [
      "Before Sort:\n",
      "[47, 4, 80, 13, 71, 87, 40, 19, 68, 90, 2, 91, 34, 22, 97, 32, 56, 53, 3, 49, 95, 37, 97, 25, 72, 35, 61, 86, 40, 64]\n",
      "---------------\n",
      "After Sort:\n",
      "[2, 3, 4, 13, 19, 22, 25, 32, 34, 35, 37, 40, 40, 47, 49, 53, 56, 61, 64, 68, 71, 72, 80, 86, 87, 90, 91, 95, 97, 97]\n",
      "---------------\n"
     ]
    }
   ],
   "source": [
    "from random import randint\n",
    "A = [randint(1,100) for _ in range(30)]\n",
    "print(\"Before Sort:\")\n",
    "print(A)\n",
    "print(\"---------------\")\n",
    "InsertionSort(A)\n",
    "print(\"After Sort:\")\n",
    "print(A)\n",
    "print(\"---------------\")"
   ]
  },
  {
   "cell_type": "markdown",
   "metadata": {},
   "source": [
    "---"
   ]
  },
  {
   "cell_type": "markdown",
   "metadata": {},
   "source": [
    "### Divide and Conquer Algorithm\n",
    "\n",
    "__Divide and conquer__ is a problem-solving technique that __breake down__ a complex problem into smaller, more easier subproblems, __solve__ these subproblems independently, and then __combine__ their solutions to solve the original problem. <br>\n",
    "__key steps in the divide and conquer strategy are:__\n",
    "\n",
    "* __Divide:__ Break the problem into smaller subproblems that are still the same issues as the original problem and continuously divide until the subproblems are simple enough to be solved directly. (นิยม Recursion)<br>\n",
    "<br>\n",
    "\n",
    "* __Conquer:__ Solve the subproblems independently. This can often be done recursively, where each subproblem is further divided into smaller subproblems until they are trivial to solve. <br>\n",
    "<br>\n",
    "\n",
    "* __Combine:__ Merge the solutions of the subproblems to obtain the solution to the original problem. <br>\n",
    "<br>\n",
    "\n",
    "__Examples of Divide and Conquer Approach__ <br>\n",
    "<br>\n",
    "\n",
    "* Merge Sort\n",
    "* Quick Sort\n",
    "* Large matrix multiplication"
   ]
  },
  {
   "cell_type": "markdown",
   "metadata": {},
   "source": [
    "---"
   ]
  },
  {
   "cell_type": "markdown",
   "metadata": {},
   "source": [
    "#### -- Part1 --\n",
    "__Algorithm__ MergeSort <br>\n",
    "__Input:__ An array of $A[0..n-1]$ of orderable elements <br>\n",
    "__Output:__ Array $A[0..n-1]$ that sorted in non-decreasing order <br>\n",
    "<br>\n",
    "\n",
    "__if__ $length(A) \\le 1:$ <br>\n",
    "&nbsp;&nbsp;&nbsp; __return__ $A$ <br>\n",
    "<br>\n",
    "*# Divide the array into two halves* <br>\n",
    "<br>\n",
    "$mid = length(A) // 2$ <br>\n",
    "<br>\n",
    "*#Copy the first half of A to left\\_half* <br>\n",
    "$left\\_half = A[0:mid]$ <br>\n",
    "<br>\n",
    "*#Copy the second half of A to right\\_half* <br>\n",
    "$right\\_half = A[mid:end]$ <br>\n",
    "<br>\n",
    "*# Recursively sort both halves* <br>\n",
    "<br>\n",
    "$left\\_half = MergeSort(left\\_half) $ <br>\n",
    "$right\\_half = MergeSort(right\\_half) $ <br>\n",
    "<br>\n",
    "*# Merge the sorted halves* <br>\n",
    "<br>\n",
    "$Merge(lelf\\_half, right\\_half, A)$ <br>\n",
    "<br>"
   ]
  },
  {
   "cell_type": "markdown",
   "metadata": {},
   "source": [
    "---"
   ]
  },
  {
   "cell_type": "markdown",
   "metadata": {},
   "source": [
    "#### -- Part2 --\n",
    "__Algorithm__ Merge(l,r,A) <br>\n",
    "__Input:__ Two arrays define by $A[l..m-1], A[m..r]$ <br>\n",
    "__Output:__ sorted Array $A[l..r]$ <br>\n",
    "<br>\n",
    "$n_1 := size(A[l..m-1])$ <br>\n",
    "$n_2 := size(A[m..r])$ <br>\n",
    "$i,j,k := 0$ <br>\n",
    "<br>\n",
    "\n",
    "__while__ $i \\lt n_1 $ and $ j \\lt n_2$ __do__ <br>\n",
    "&nbsp;&nbsp;&nbsp; __if__ $A[l+i] < A[m+j] $ __then__ <br>\n",
    "&nbsp;&nbsp;&nbsp;&nbsp;&nbsp;&nbsp; $B[k] := A[l+i]$ <br>\n",
    "&nbsp;&nbsp;&nbsp;&nbsp;&nbsp;&nbsp; $i:= i+1$ <br>\n",
    "&nbsp;&nbsp;&nbsp; __else__ <br>\n",
    "&nbsp;&nbsp;&nbsp; &nbsp;&nbsp;&nbsp; $B[k] := A[m+j]$ <br>\n",
    "&nbsp;&nbsp;&nbsp; &nbsp;&nbsp;&nbsp; $j:= j+1$ <br>\n",
    "&nbsp;&nbsp;&nbsp; $k := k+1$ <br>\n",
    "__if__ $i = n_1$ __then__ *# Left array empty first* <br>\n",
    "&nbsp;&nbsp;&nbsp;  Copy $A[j..n_2 -1]$ to $B[k..n_1 + n_2 -1]$ <br>\n",
    "__else__ *# Right array empty first* <br>\n",
    "&nbsp;&nbsp;&nbsp;  Copy $A[i..n_1 -1]$ to $B[k..n_1 + n_2 -1]$ <br>\n",
    "Copy $B$ to $A[l..r]$"
   ]
  },
  {
   "cell_type": "markdown",
   "metadata": {},
   "source": [
    "---"
   ]
  },
  {
   "cell_type": "code",
   "execution_count": 12,
   "metadata": {},
   "outputs": [],
   "source": [
    "# Part 1\n",
    "def MergeSort(A):\n",
    "    n = len(A)\n",
    "    if n <= 1:\n",
    "        return\n",
    "    \n",
    "    mid = n // 2\n",
    "    left_half = A[0:mid]\n",
    "    right_half = A[mid:n]\n",
    "    MergeSort(left_half)\n",
    "    MergeSort(right_half)\n",
    "\n",
    "    A = Merge(left_half,right_half,A)\n",
    "\n",
    "# Part2\n",
    "def Merge(left,right,A):\n",
    "    i = j = 0\n",
    "    while i + j < len(A):\n",
    "        if j == len(right) or (i < len(left) and left[i] < right[j]):\n",
    "            A[i+j] = left[i]\n",
    "            i += 1\n",
    "        else:\n",
    "            A[i+j] = right[j]\n",
    "            j += 1"
   ]
  },
  {
   "cell_type": "code",
   "execution_count": 13,
   "metadata": {},
   "outputs": [
    {
     "name": "stdout",
     "output_type": "stream",
     "text": [
      "Before Sort:\n",
      "[21, 51, 3, 10, 55, 87, 13, 6, 46, 35]\n",
      "---------------\n",
      "After Sort:\n",
      "[3, 6, 10, 13, 21, 35, 46, 51, 55, 87]\n",
      "---------------\n"
     ]
    }
   ],
   "source": [
    "from random import randint\n",
    "A = [randint(1,100) for _ in range(10)]\n",
    "print(\"Before Sort:\")\n",
    "print(A)\n",
    "print(\"---------------\")\n",
    "MergeSort(A)\n",
    "print(\"After Sort:\")\n",
    "print(A)\n",
    "print(\"---------------\")"
   ]
  },
  {
   "cell_type": "markdown",
   "metadata": {},
   "source": [
    "---"
   ]
  },
  {
   "cell_type": "markdown",
   "metadata": {},
   "source": [
    "### Greedy Algorithm"
   ]
  },
  {
   "cell_type": "markdown",
   "metadata": {},
   "source": [
    "__Greedy algorithm__ is a problem-solving approach that makes the best choice at each step to finding a solution without considering the global or the consequences of those choices. Greedy algorithms are especially useful for solving optimization problems, however sometimes the solution does not guarantee as the best solution. (ใช้ Optimization แต่ไม่ได้ Best Global Optimization ได้เพียง Local Optimization)<br>\n",
    "\n",
    "\n",
    "__The key characteristic of a greedy algorithm:__ \n",
    "* __feasible__ it can be a straightforward and efficient approach for certain types of problems, but it's important to note that greedy algorithms do not guarantee an optimal solution in all cases (ถูกต้องตาม Constraint ข้อกำหนด) <br>\n",
    "\n",
    "* __locally optimal__ In some situations, a locally optimal choice at each step may not lead to the best overall solution. <br>\n",
    "\n",
    "* __irrevocable__ it selects the best option available at each step, without backtracking or reconsidering previous choices. (โดยไม่ย้อนกลับ ไม่กลับมาเสียใจ)<br>\n",
    "\n",
    "* __greedy__ choose the most benefit choice. <br>\n",
    "\n",
    "\n",
    "\n",
    "__Examples of problems that can be solved using greedy algorithms:__\n",
    "\n",
    "1. **Coin Change Problem**: Given a set of coin and a target amount, find the minimum number of coins needed to make up that amount.\n",
    "\n",
    "2. **Fractional Knapsack Problem**: In this problem, given a set of items, each with a weight and a value, and a knapsack with a maximum weight capacity. The goal is to maximize the total value of items in the knapsack without exceeding its weight capacity.\n",
    "\n",
    "3. **Huffman Coding**: Huffman coding is a method used for lossless data compression. It assigns shorter binary codes to more frequent symbols in a dataset. The greedy approach is used to build a binary tree where the most frequent symbols have shorter codes. (ลดรูปของข้อมูล)\n",
    "\n",
    "4. **Minimum Spanning Tree (e.g., Prim's and Kruskal's algorithms)**: Given a weighted, connected graph, find the minimum spanning tree, which is a subset of edges that forms a tree and connects all vertices with the minimum total edge weight.\n",
    "\n",
    "5. **Single-source shortest path (e.g., Dijkstra's algorithm)**: Find the shortest way from 1 point to all the other points"
   ]
  },
  {
   "cell_type": "markdown",
   "metadata": {},
   "source": [
    "---"
   ]
  },
  {
   "cell_type": "markdown",
   "metadata": {},
   "source": [
    "__function__ $CoinChange(c_1, c_2, …, c_r$: values of coins, where $c_1 \\gt c_2 \\gt … \\gt c_r$ ; $n$: a positive integer) <br>\n",
    "\n",
    "__for__ $i := 1$ __to__ $r$ <br>\n",
    "&nbsp;&nbsp;&nbsp; $d_i := 0$ [$d_i$ counts the coins of denomination $c_i$] <br>\n",
    "&nbsp;&nbsp;&nbsp; __while__ $n \\ge c_i$ <br>\n",
    "&nbsp;&nbsp;&nbsp;&nbsp;&nbsp;&nbsp;&nbsp;&nbsp;&nbsp; $d_i := d_i + 1$ [add a coin of denomination $c_i$] <br>\n",
    "&nbsp;&nbsp;&nbsp;&nbsp;&nbsp;&nbsp;&nbsp;&nbsp;&nbsp; $n = n - c_i$ <br>\n",
    "[$d_i$ counts the coins $c_i$]"
   ]
  },
  {
   "cell_type": "markdown",
   "metadata": {},
   "source": [
    "---"
   ]
  },
  {
   "cell_type": "code",
   "execution_count": 14,
   "metadata": {},
   "outputs": [],
   "source": [
    "# Example code of Coin Change Problem\n",
    "\n",
    "def CoinChange(Coins, n):\n",
    "    d = []\n",
    "    for coin in Coins:\n",
    "        num_coins = 0\n",
    "        while n >= coin:\n",
    "            num_coins += 1\n",
    "            n -= coin\n",
    "        d.append(num_coins)\n",
    "    return d\n",
    "\n"
   ]
  },
  {
   "cell_type": "code",
   "execution_count": 15,
   "metadata": {},
   "outputs": [
    {
     "name": "stdout",
     "output_type": "stream",
     "text": [
      "[2, 1, 0, 3]\n"
     ]
    }
   ],
   "source": [
    "Coin_denominations = [25,10,5,1]\n",
    "n = 63\n",
    "result = CoinChange(Coin_denominations, n)\n",
    "print(result)"
   ]
  },
  {
   "cell_type": "markdown",
   "metadata": {},
   "source": [
    "---"
   ]
  },
  {
   "cell_type": "markdown",
   "metadata": {},
   "source": [
    "### `Practice4` <br>\n",
    "\n",
    "#### Modify Coin Change Problem, if each coins has a limit on the number of coins available"
   ]
  },
  {
   "cell_type": "markdown",
   "metadata": {},
   "source": [
    "__def__ CoinChange_with_limits(Coins, Limits, n): <br>\n",
    "&nbsp;&nbsp;&nbsp;... <br>\n",
    "&nbsp;&nbsp;&nbsp;... <br>\n",
    "&nbsp;&nbsp;&nbsp;... <br>\n",
    "&nbsp;&nbsp;&nbsp;... <br>\n",
    "&nbsp;&nbsp;&nbsp; __return__ d, coin_limits  *# return number of coins and number of remain coins*\n",
    "\n",
    "##### Example usage:\n",
    "coin_denominations = [100, 50, 20, 10, 5 ,1]  # Coin denominations <br>\n",
    "coin_limits = [3, 5, 2, 15, 20, 6]  # Maximum number of each coin available <br>\n",
    "target_amount = 563  # Target amount <br> \n"
   ]
  },
  {
   "cell_type": "code",
   "execution_count": 33,
   "metadata": {},
   "outputs": [],
   "source": [
    "def CoinChange_with_limits(Coins, Limits, n):\n",
    "    d = []\n",
    "    coin_limit_counter = 0\n",
    "    for coin in Coins:\n",
    "        num_coins = 0\n",
    "        while n >= coin and Limits[coin_limit_counter] > 0:\n",
    "            num_coins += 1\n",
    "            n -= coin\n",
    "            Limits[coin_limit_counter] -= 1\n",
    "        d.append(num_coins)\n",
    "        coin_limit_counter += 1\n",
    "    return d , Limits\n",
    "    "
   ]
  },
  {
   "cell_type": "code",
   "execution_count": 34,
   "metadata": {},
   "outputs": [
    {
     "name": "stdout",
     "output_type": "stream",
     "text": [
      "จำนวนเหรียญที่จะได้ :[3, 5, 0, 1, 0, 3]\n",
      "จำนวนเหรียญที่เหลือหลังจากแลก :[0, 0, 2, 14, 20, 3]\n"
     ]
    }
   ],
   "source": [
    "coin_denominations = [100,50,20,10,5,1]\n",
    "coin_limits = [3,5,2,15,20,6]\n",
    "target_amount = 563\n",
    "\n",
    "num_coins , left_coins = CoinChange_with_limits(coin_denominations,coin_limits,target_amount)\n",
    "print(\"จำนวนเหรียญที่จะได้ :\" , end=\"\")\n",
    "print(num_coins)\n",
    "print(\"จำนวนเหรียญที่เหลือหลังจากแลก :\" , end=\"\")\n",
    "print(left_coins)"
   ]
  },
  {
   "cell_type": "markdown",
   "metadata": {},
   "source": [
    "---"
   ]
  },
  {
   "cell_type": "markdown",
   "metadata": {},
   "source": [
    "### Execution Time Experiment"
   ]
  },
  {
   "cell_type": "code",
   "execution_count": 17,
   "metadata": {},
   "outputs": [],
   "source": [
    "# Example of code to measure execution time\n",
    "from time import time\n",
    "\n",
    "start_time = time() # record the starting time\n",
    "# algorithm block\n",
    "pass\n",
    "# algorithm block\n",
    "end_time = time() # record the ending time\n",
    "elapsed = end_time - start_time # compute the elapsed time"
   ]
  },
  {
   "cell_type": "code",
   "execution_count": 18,
   "metadata": {},
   "outputs": [],
   "source": [
    "# Example of code to do experiment of execution time using matplot to make a graph\n",
    "import time\n",
    "import random\n",
    "import matplotlib.pyplot as plt\n",
    "\n",
    "# Linear function (O(n))\n",
    "def find_sum(numbers):\n",
    "    sum = 0\n",
    "    for num in numbers:\n",
    "        sum += num\n",
    "    return sum\n",
    "\n",
    "# Quadratic function (O(n^2))\n",
    "def find_quadratic_sum(numbers):\n",
    "    sum = 0\n",
    "    for i in range(len(numbers)):\n",
    "        for j in range(i, len(numbers)):\n",
    "            sum += numbers[i] + numbers[j]\n",
    "    return sum"
   ]
  },
  {
   "cell_type": "code",
   "execution_count": 19,
   "metadata": {},
   "outputs": [
    {
     "data": {
      "text/plain": [
       "10"
      ]
     },
     "execution_count": 19,
     "metadata": {},
     "output_type": "execute_result"
    }
   ],
   "source": [
    "find_sum([1,2,3,4])"
   ]
  },
  {
   "cell_type": "code",
   "execution_count": 20,
   "metadata": {},
   "outputs": [
    {
     "data": {
      "text/plain": [
       "50"
      ]
     },
     "execution_count": 20,
     "metadata": {},
     "output_type": "execute_result"
    }
   ],
   "source": [
    "find_quadratic_sum([1,2,3,4])"
   ]
  },
  {
   "cell_type": "code",
   "execution_count": 21,
   "metadata": {},
   "outputs": [],
   "source": [
    "# Function to measure execution time for a given input size\n",
    "def measure_execution_time(func, input_size):\n",
    "    numbers = [random.randint(1, 100) for _ in range(input_size)]\n",
    "    start_time = time.time()\n",
    "    result = func(numbers)\n",
    "    end_time = time.time()\n",
    "    return end_time - start_time\n",
    "\n",
    "# Experiment with different input sizes\n",
    "input_sizes = [100, 200, 300, 400, 500]\n",
    "linear_times = []\n",
    "quadratic_times = []\n",
    "\n",
    "for size in input_sizes:\n",
    "    linear_time = measure_execution_time(find_sum, size)\n",
    "    quadratic_time = measure_execution_time(find_quadratic_sum, size)\n",
    "    linear_times.append(linear_time)\n",
    "    quadratic_times.append(quadratic_time)"
   ]
  },
  {
   "cell_type": "code",
   "execution_count": 22,
   "metadata": {},
   "outputs": [
    {
     "data": {
      "image/png": "[encoded data removed]",
      "text/plain": [
       "<Figure size 1000x600 with 1 Axes>"
      ]
     },
     "metadata": {},
     "output_type": "display_data"
    }
   ],
   "source": [
    "# Plot the results\n",
    "plt.figure(figsize=(10, 6))\n",
    "plt.plot(input_sizes, linear_times, label='Linear Function (O(n)')\n",
    "plt.plot(input_sizes, quadratic_times, label='Quadratic Function (O(n^2)')\n",
    "plt.xlabel('Input Size')\n",
    "plt.ylabel('Execution Time (seconds)')\n",
    "plt.legend()\n",
    "plt.title('Comparison of Execution Time')\n",
    "plt.grid(True)\n",
    "plt.show()"
   ]
  },
  {
   "cell_type": "markdown",
   "metadata": {},
   "source": [
    "#### `Practice5`\n",
    "\n",
    "#### Experiment: Comparison between sorting algorithms in average cases\n",
    "\n",
    "1. Make a new random sequence with elements __n = 1000__\n",
    "2. Start timer\n",
    "3. sort the random sequence by `Bubble sort`\n",
    "4. Stop timer and keep record for elapsed times\n",
    "5. Repeat step 2-4 again but change to the other algorithms (`Insertion Sort`, `Merge Sort`)\n",
    "6. Repeat step 1-5 again but now change the number of elements from __2000, 5000, 10000, 15000, 20000__\n",
    "7. Show the comparison in graph by plot elapesed time vs number of items"
   ]
  },
  {
   "cell_type": "code",
   "execution_count": 23,
   "metadata": {},
   "outputs": [],
   "source": [
    "import numpy as np\n",
    "\n",
    "def measure_execution_time(func, input_size):\n",
    "    numbers = [random.randint(1, input_size+1) for _ in range(input_size)]\n",
    "    start_time = time.time()\n",
    "    result = func(numbers)\n",
    "    end_time = time.time()\n",
    "    return end_time - start_time"
   ]
  },
  {
   "cell_type": "code",
   "execution_count": 24,
   "metadata": {},
   "outputs": [],
   "source": [
    "Bubble_Array = np.array([] , dtype=np.float16)\n",
    "Insertion_Array = np.array([] , dtype=np.float16)\n",
    "Merge_Array = np.array([], dtype=np.float16)\n",
    "\n",
    "input_sizes = [1000,2000,5000,10000,15000,20000]\n",
    "\n",
    "for size in input_sizes:\n",
    "    bubble_time = measure_execution_time(BubbleSort, size)\n",
    "    insertion_time = measure_execution_time(InsertionSort, size)\n",
    "    merge_time = measure_execution_time(MergeSort, size)\n",
    "    Bubble_Array = np.append(Bubble_Array, bubble_time)\n",
    "    Insertion_Array = np.append(Insertion_Array, insertion_time)\n",
    "    Merge_Array = np.append(Merge_Array , merge_time)"
   ]
  },
  {
   "cell_type": "code",
   "execution_count": 27,
   "metadata": {},
   "outputs": [
    {
     "name": "stdout",
     "output_type": "stream",
     "text": [
      "[ 0.03200722  0.13703108  0.83918977  3.35875773  7.79975963 13.77810836]\n",
      "[0.01500368 0.07101512 0.41508365 1.69638276 3.71734715 6.76327777]\n",
      "[0.00100017 0.00400162 0.00900173 0.01800418 0.02800632 0.04000902]\n"
     ]
    }
   ],
   "source": [
    "print(Bubble_Array)\n",
    "print(Insertion_Array)\n",
    "print(Merge_Array)"
   ]
  },
  {
   "cell_type": "code",
   "execution_count": 28,
   "metadata": {},
   "outputs": [
    {
     "data": {
      "image/png": "[encoded data removed]",
      "text/plain": [
       "<Figure size 1000x600 with 1 Axes>"
      ]
     },
     "metadata": {},
     "output_type": "display_data"
    }
   ],
   "source": [
    "# Plot the results\n",
    "plt.figure(figsize=(10, 6))\n",
    "plt.plot(input_sizes, Bubble_Array, label='Bubble Sort')\n",
    "plt.plot(input_sizes, Insertion_Array, label='Insertion Sort')\n",
    "plt.plot(input_sizes, Merge_Array, label=\"Merge Sort\")\n",
    "plt.xlabel('Input Size')\n",
    "plt.ylabel('Execution Time (seconds)')\n",
    "plt.legend()\n",
    "plt.title('Comparison of Execution Time')\n",
    "plt.grid(True)\n",
    "plt.show()"
   ]
  },
  {
   "cell_type": "markdown",
   "metadata": {},
   "source": [
    "---"
   ]
  },
  {
   "cell_type": "markdown",
   "metadata": {},
   "source": [
    "<div style=\"color:greenyellow;\">ศวิษฐ์ โกสียอัมพร 65070506026 CPE </div>"
   ]
  }
 ],
 "metadata": {
  "kernelspec": {
   "display_name": "Python 3",
   "language": "python",
   "name": "python3"
  },
  "language_info": {
   "codemirror_mode": {
    "name": "ipython",
    "version": 3
   },
   "file_extension": ".py",
   "mimetype": "text/x-python",
   "name": "python",
   "nbconvert_exporter": "python",
   "pygments_lexer": "ipython3",
   "version": "3.11.4"
  },
  "orig_nbformat": 4
 },
 "nbformat": 4,
 "nbformat_minor": 2
}
